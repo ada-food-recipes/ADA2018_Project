{
 "cells": [
  {
   "cell_type": "markdown",
   "metadata": {},
   "source": [
    "# Nutriscore calculations #\n",
    "\n",
    "Let's calculate the nutriscore for every recipe. Documentation for the formulas are available at the following link:\n",
    "\n",
    "\n",
    "This will be done in three steps:\n",
    "\n",
    "1) Calculating the weight of every vegetable based products in the recipes\n",
    "\n",
    "2) Calculating the total weight of the recipe, in order to normalize every unit to a 100g serving\n",
    "\n",
    "3) Applying formulas\n"
   ]
  },
  {
   "cell_type": "code",
   "execution_count": 155,
   "metadata": {},
   "outputs": [],
   "source": [
    "import re\n",
    "import pandas as pd\n",
    "import json, csv\n",
    "import matplotlib.pyplot as plt\n",
    "import numpy as np\n",
    "from collections import Counter"
   ]
  },
  {
   "cell_type": "code",
   "execution_count": 90,
   "metadata": {},
   "outputs": [
    {
     "data": {
      "text/html": [
       "<div>\n",
       "<style scoped>\n",
       "    .dataframe tbody tr th:only-of-type {\n",
       "        vertical-align: middle;\n",
       "    }\n",
       "\n",
       "    .dataframe tbody tr th {\n",
       "        vertical-align: top;\n",
       "    }\n",
       "\n",
       "    .dataframe thead th {\n",
       "        text-align: right;\n",
       "    }\n",
       "</style>\n",
       "<table border=\"1\" class=\"dataframe\">\n",
       "  <thead>\n",
       "    <tr style=\"text-align: right;\">\n",
       "      <th></th>\n",
       "      <th>Calcium</th>\n",
       "      <th>Calories</th>\n",
       "      <th>Cholesterol</th>\n",
       "      <th>Dietary Fiber</th>\n",
       "      <th>Folate</th>\n",
       "      <th>Iron</th>\n",
       "      <th>Magnesium</th>\n",
       "      <th>Niacin</th>\n",
       "      <th>Popularity</th>\n",
       "      <th>Potassium</th>\n",
       "      <th>...</th>\n",
       "      <th>Saturated Fat</th>\n",
       "      <th>Sodium</th>\n",
       "      <th>Sugars</th>\n",
       "      <th>Thiamin</th>\n",
       "      <th>Title</th>\n",
       "      <th>Total Carbohydrates</th>\n",
       "      <th>Total Fat</th>\n",
       "      <th>Vitamin A</th>\n",
       "      <th>Vitamin B6</th>\n",
       "      <th>Vitamin C</th>\n",
       "    </tr>\n",
       "  </thead>\n",
       "  <tbody>\n",
       "    <tr>\n",
       "      <th>Low-Carb Jicama Tostadas</th>\n",
       "      <td>18.0</td>\n",
       "      <td>57</td>\n",
       "      <td>0.0</td>\n",
       "      <td>7.4</td>\n",
       "      <td>18.0</td>\n",
       "      <td>1.0</td>\n",
       "      <td>18.0</td>\n",
       "      <td>0.0</td>\n",
       "      <td>3.0</td>\n",
       "      <td>225.0</td>\n",
       "      <td>...</td>\n",
       "      <td>0.0</td>\n",
       "      <td>6.0</td>\n",
       "      <td>3.0</td>\n",
       "      <td>0.0</td>\n",
       "      <td>Low-Carb Jicama Tostadas</td>\n",
       "      <td>13.2g</td>\n",
       "      <td>0.1</td>\n",
       "      <td>32IU</td>\n",
       "      <td>0.0</td>\n",
       "      <td>30.0</td>\n",
       "    </tr>\n",
       "    <tr>\n",
       "      <th>Best Fish Tacos</th>\n",
       "      <td>80.0</td>\n",
       "      <td>322</td>\n",
       "      <td>35.0</td>\n",
       "      <td>3.8</td>\n",
       "      <td>88.0</td>\n",
       "      <td>3.0</td>\n",
       "      <td>48.0</td>\n",
       "      <td>6.0</td>\n",
       "      <td>3.0</td>\n",
       "      <td>591.0</td>\n",
       "      <td>...</td>\n",
       "      <td>3.0</td>\n",
       "      <td>833.0</td>\n",
       "      <td>2.0</td>\n",
       "      <td>0.0</td>\n",
       "      <td>Best Fish Tacos</td>\n",
       "      <td>34.6g</td>\n",
       "      <td>9.0</td>\n",
       "      <td>1043IU</td>\n",
       "      <td>0.0</td>\n",
       "      <td>18.0</td>\n",
       "    </tr>\n",
       "    <tr>\n",
       "      <th>Crispy Pork Carnitas</th>\n",
       "      <td>35.0</td>\n",
       "      <td>317</td>\n",
       "      <td>89.0</td>\n",
       "      <td>0.4</td>\n",
       "      <td>5.0</td>\n",
       "      <td>2.0</td>\n",
       "      <td>23.0</td>\n",
       "      <td>10.0</td>\n",
       "      <td>267.0</td>\n",
       "      <td>371.0</td>\n",
       "      <td>...</td>\n",
       "      <td>6.0</td>\n",
       "      <td>1036.0</td>\n",
       "      <td>0.0</td>\n",
       "      <td>1.0</td>\n",
       "      <td>Crispy Pork Carnitas</td>\n",
       "      <td>2.1g</td>\n",
       "      <td>22.6</td>\n",
       "      <td>17IU</td>\n",
       "      <td>0.0</td>\n",
       "      <td>2.0</td>\n",
       "    </tr>\n",
       "    <tr>\n",
       "      <th>Jeannie's Vegetarian Enchiladas</th>\n",
       "      <td>376.0</td>\n",
       "      <td>626</td>\n",
       "      <td>59.0</td>\n",
       "      <td>9.6</td>\n",
       "      <td>193.0</td>\n",
       "      <td>6.0</td>\n",
       "      <td>77.0</td>\n",
       "      <td>8.0</td>\n",
       "      <td>1.0</td>\n",
       "      <td>818.0</td>\n",
       "      <td>...</td>\n",
       "      <td>15.0</td>\n",
       "      <td>1138.0</td>\n",
       "      <td>5.0</td>\n",
       "      <td>1.0</td>\n",
       "      <td>Jeannie's Vegetarian Enchiladas</td>\n",
       "      <td>67.2g</td>\n",
       "      <td>31.2</td>\n",
       "      <td>2569IU</td>\n",
       "      <td>0.0</td>\n",
       "      <td>49.0</td>\n",
       "    </tr>\n",
       "    <tr>\n",
       "      <th>Mexican Corn Bread Casserole</th>\n",
       "      <td>168.0</td>\n",
       "      <td>304</td>\n",
       "      <td>101.0</td>\n",
       "      <td>1.9</td>\n",
       "      <td>58.0</td>\n",
       "      <td>2.0</td>\n",
       "      <td>28.0</td>\n",
       "      <td>6.0</td>\n",
       "      <td>21.0</td>\n",
       "      <td>372.0</td>\n",
       "      <td>...</td>\n",
       "      <td>8.0</td>\n",
       "      <td>708.0</td>\n",
       "      <td>4.0</td>\n",
       "      <td>0.0</td>\n",
       "      <td>Mexican Corn Bread Casserole</td>\n",
       "      <td>21.5g</td>\n",
       "      <td>16.3</td>\n",
       "      <td>840IU</td>\n",
       "      <td>0.0</td>\n",
       "      <td>12.0</td>\n",
       "    </tr>\n",
       "    <tr>\n",
       "      <th>Cochinita Pibil (Mexican Pulled Pork in Annatto Sauce)</th>\n",
       "      <td>56.0</td>\n",
       "      <td>422</td>\n",
       "      <td>122.0</td>\n",
       "      <td>0.9</td>\n",
       "      <td>28.0</td>\n",
       "      <td>2.0</td>\n",
       "      <td>49.0</td>\n",
       "      <td>16.0</td>\n",
       "      <td>3.0</td>\n",
       "      <td>811.0</td>\n",
       "      <td>...</td>\n",
       "      <td>9.0</td>\n",
       "      <td>1334.0</td>\n",
       "      <td>5.0</td>\n",
       "      <td>2.0</td>\n",
       "      <td>Cochinita Pibil (Mexican Pulled Pork in Annatt...</td>\n",
       "      <td>8.3g</td>\n",
       "      <td>25.6</td>\n",
       "      <td>158IU</td>\n",
       "      <td>1.0</td>\n",
       "      <td>31.0</td>\n",
       "    </tr>\n",
       "    <tr>\n",
       "      <th>Authentic Mexican Chili Rellenos</th>\n",
       "      <td>312.0</td>\n",
       "      <td>263</td>\n",
       "      <td>102.0</td>\n",
       "      <td>1.1</td>\n",
       "      <td>50.0</td>\n",
       "      <td>2.0</td>\n",
       "      <td>26.0</td>\n",
       "      <td>3.0</td>\n",
       "      <td>517.0</td>\n",
       "      <td>217.0</td>\n",
       "      <td>...</td>\n",
       "      <td>8.0</td>\n",
       "      <td>357.0</td>\n",
       "      <td>3.0</td>\n",
       "      <td>0.0</td>\n",
       "      <td>Authentic Mexican Chili Rellenos</td>\n",
       "      <td>17.3g</td>\n",
       "      <td>16.0</td>\n",
       "      <td>594IU</td>\n",
       "      <td>0.0</td>\n",
       "      <td>65.0</td>\n",
       "    </tr>\n",
       "    <tr>\n",
       "      <th>Pollo Adobado</th>\n",
       "      <td>51.0</td>\n",
       "      <td>350</td>\n",
       "      <td>129.0</td>\n",
       "      <td>1.9</td>\n",
       "      <td>32.0</td>\n",
       "      <td>2.0</td>\n",
       "      <td>61.0</td>\n",
       "      <td>29.0</td>\n",
       "      <td>5.0</td>\n",
       "      <td>706.0</td>\n",
       "      <td>...</td>\n",
       "      <td>3.0</td>\n",
       "      <td>937.0</td>\n",
       "      <td>6.0</td>\n",
       "      <td>0.0</td>\n",
       "      <td>Pollo Adobado</td>\n",
       "      <td>9.5g</td>\n",
       "      <td>12.7</td>\n",
       "      <td>3887IU</td>\n",
       "      <td>1.0</td>\n",
       "      <td>71.0</td>\n",
       "    </tr>\n",
       "  </tbody>\n",
       "</table>\n",
       "<p>8 rows × 24 columns</p>\n",
       "</div>"
      ],
      "text/plain": [
       "                                                    Calcium  Calories  \\\n",
       "Low-Carb Jicama Tostadas                               18.0        57   \n",
       "Best Fish Tacos                                        80.0       322   \n",
       "Crispy Pork Carnitas                                   35.0       317   \n",
       "Jeannie's Vegetarian Enchiladas                       376.0       626   \n",
       "Mexican Corn Bread Casserole                          168.0       304   \n",
       "Cochinita Pibil (Mexican Pulled Pork in Annatto...     56.0       422   \n",
       "Authentic Mexican Chili Rellenos                      312.0       263   \n",
       "Pollo Adobado                                          51.0       350   \n",
       "\n",
       "                                                    Cholesterol  \\\n",
       "Low-Carb Jicama Tostadas                                    0.0   \n",
       "Best Fish Tacos                                            35.0   \n",
       "Crispy Pork Carnitas                                       89.0   \n",
       "Jeannie's Vegetarian Enchiladas                            59.0   \n",
       "Mexican Corn Bread Casserole                              101.0   \n",
       "Cochinita Pibil (Mexican Pulled Pork in Annatto...        122.0   \n",
       "Authentic Mexican Chili Rellenos                          102.0   \n",
       "Pollo Adobado                                             129.0   \n",
       "\n",
       "                                                    Dietary Fiber  Folate  \\\n",
       "Low-Carb Jicama Tostadas                                      7.4    18.0   \n",
       "Best Fish Tacos                                               3.8    88.0   \n",
       "Crispy Pork Carnitas                                          0.4     5.0   \n",
       "Jeannie's Vegetarian Enchiladas                               9.6   193.0   \n",
       "Mexican Corn Bread Casserole                                  1.9    58.0   \n",
       "Cochinita Pibil (Mexican Pulled Pork in Annatto...            0.9    28.0   \n",
       "Authentic Mexican Chili Rellenos                              1.1    50.0   \n",
       "Pollo Adobado                                                 1.9    32.0   \n",
       "\n",
       "                                                    Iron  Magnesium  Niacin  \\\n",
       "Low-Carb Jicama Tostadas                             1.0       18.0     0.0   \n",
       "Best Fish Tacos                                      3.0       48.0     6.0   \n",
       "Crispy Pork Carnitas                                 2.0       23.0    10.0   \n",
       "Jeannie's Vegetarian Enchiladas                      6.0       77.0     8.0   \n",
       "Mexican Corn Bread Casserole                         2.0       28.0     6.0   \n",
       "Cochinita Pibil (Mexican Pulled Pork in Annatto...   2.0       49.0    16.0   \n",
       "Authentic Mexican Chili Rellenos                     2.0       26.0     3.0   \n",
       "Pollo Adobado                                        2.0       61.0    29.0   \n",
       "\n",
       "                                                    Popularity  Potassium  \\\n",
       "Low-Carb Jicama Tostadas                                   3.0      225.0   \n",
       "Best Fish Tacos                                            3.0      591.0   \n",
       "Crispy Pork Carnitas                                     267.0      371.0   \n",
       "Jeannie's Vegetarian Enchiladas                            1.0      818.0   \n",
       "Mexican Corn Bread Casserole                              21.0      372.0   \n",
       "Cochinita Pibil (Mexican Pulled Pork in Annatto...         3.0      811.0   \n",
       "Authentic Mexican Chili Rellenos                         517.0      217.0   \n",
       "Pollo Adobado                                              5.0      706.0   \n",
       "\n",
       "                                                      ...     Saturated Fat  \\\n",
       "Low-Carb Jicama Tostadas                              ...               0.0   \n",
       "Best Fish Tacos                                       ...               3.0   \n",
       "Crispy Pork Carnitas                                  ...               6.0   \n",
       "Jeannie's Vegetarian Enchiladas                       ...              15.0   \n",
       "Mexican Corn Bread Casserole                          ...               8.0   \n",
       "Cochinita Pibil (Mexican Pulled Pork in Annatto...    ...               9.0   \n",
       "Authentic Mexican Chili Rellenos                      ...               8.0   \n",
       "Pollo Adobado                                         ...               3.0   \n",
       "\n",
       "                                                    Sodium Sugars Thiamin  \\\n",
       "Low-Carb Jicama Tostadas                               6.0    3.0     0.0   \n",
       "Best Fish Tacos                                      833.0    2.0     0.0   \n",
       "Crispy Pork Carnitas                                1036.0    0.0     1.0   \n",
       "Jeannie's Vegetarian Enchiladas                     1138.0    5.0     1.0   \n",
       "Mexican Corn Bread Casserole                         708.0    4.0     0.0   \n",
       "Cochinita Pibil (Mexican Pulled Pork in Annatto...  1334.0    5.0     2.0   \n",
       "Authentic Mexican Chili Rellenos                     357.0    3.0     0.0   \n",
       "Pollo Adobado                                        937.0    6.0     0.0   \n",
       "\n",
       "                                                                                                Title  \\\n",
       "Low-Carb Jicama Tostadas                                                     Low-Carb Jicama Tostadas   \n",
       "Best Fish Tacos                                                                      Best Fish Tacos    \n",
       "Crispy Pork Carnitas                                                             Crispy Pork Carnitas   \n",
       "Jeannie's Vegetarian Enchiladas                                      Jeannie's Vegetarian Enchiladas    \n",
       "Mexican Corn Bread Casserole                                             Mexican Corn Bread Casserole   \n",
       "Cochinita Pibil (Mexican Pulled Pork in Annatto...  Cochinita Pibil (Mexican Pulled Pork in Annatt...   \n",
       "Authentic Mexican Chili Rellenos                                     Authentic Mexican Chili Rellenos   \n",
       "Pollo Adobado                                                                           Pollo Adobado   \n",
       "\n",
       "                                                    Total Carbohydrates  \\\n",
       "Low-Carb Jicama Tostadas                                          13.2g   \n",
       "Best Fish Tacos                                                   34.6g   \n",
       "Crispy Pork Carnitas                                               2.1g   \n",
       "Jeannie's Vegetarian Enchiladas                                   67.2g   \n",
       "Mexican Corn Bread Casserole                                      21.5g   \n",
       "Cochinita Pibil (Mexican Pulled Pork in Annatto...                 8.3g   \n",
       "Authentic Mexican Chili Rellenos                                  17.3g   \n",
       "Pollo Adobado                                                      9.5g   \n",
       "\n",
       "                                                    Total Fat  Vitamin A  \\\n",
       "Low-Carb Jicama Tostadas                                  0.1       32IU   \n",
       "Best Fish Tacos                                           9.0     1043IU   \n",
       "Crispy Pork Carnitas                                     22.6       17IU   \n",
       "Jeannie's Vegetarian Enchiladas                          31.2     2569IU   \n",
       "Mexican Corn Bread Casserole                             16.3      840IU   \n",
       "Cochinita Pibil (Mexican Pulled Pork in Annatto...       25.6      158IU   \n",
       "Authentic Mexican Chili Rellenos                         16.0      594IU   \n",
       "Pollo Adobado                                            12.7     3887IU   \n",
       "\n",
       "                                                   Vitamin B6 Vitamin C  \n",
       "Low-Carb Jicama Tostadas                                  0.0      30.0  \n",
       "Best Fish Tacos                                           0.0      18.0  \n",
       "Crispy Pork Carnitas                                      0.0       2.0  \n",
       "Jeannie's Vegetarian Enchiladas                           0.0      49.0  \n",
       "Mexican Corn Bread Casserole                              0.0      12.0  \n",
       "Cochinita Pibil (Mexican Pulled Pork in Annatto...        1.0      31.0  \n",
       "Authentic Mexican Chili Rellenos                          0.0      65.0  \n",
       "Pollo Adobado                                             1.0      71.0  \n",
       "\n",
       "[8 rows x 24 columns]"
      ]
     },
     "execution_count": 90,
     "metadata": {},
     "output_type": "execute_result"
    }
   ],
   "source": [
    "Full = pd.read_csv('data/fullTreated.csv',index_col = 0)\n",
    "Full.head(8)"
   ]
  },
  {
   "cell_type": "code",
   "execution_count": 91,
   "metadata": {},
   "outputs": [],
   "source": [
    "def ingr2dic(ingredients):\n",
    "    ingredientDic = {}\n",
    "    itera = 0\n",
    "    for i in ingredients:\n",
    "        itera = itera+1\n",
    "        parsed = re.match('(\\d+([\\.,\\/]\\d+)?)\\s+((g|ml|pinch|clove)\\s)?', i)   #needs improvement\n",
    "        if (parsed) != None:\n",
    "            dic = {}\n",
    "\n",
    "            if i.find(',')>0:\n",
    "                name = i[len(parsed[0]):i.find(',')]\n",
    "            else:\n",
    "                name = i[len(parsed[0]):]\n",
    "            dic['name']=name\n",
    "            dic['unit']     = parsed[4]\n",
    "            \n",
    "            #Converting the '1/8 lettuce' to decimal form '0.125 lettuce'\n",
    "            if re.match('\\d\\/\\d+',parsed[1]):\n",
    "                p = re.match('(\\d)\\/(\\d)',parsed[1])\n",
    "                dic['quantity']     = float(p[1])/int(p[2])\n",
    "            else:    \n",
    "                dic['quantity'] = parsed[1]\n",
    "                \n",
    "            #conversion from ounces\n",
    "            parsed = re.match('\\((\\d+(\\.\\d+?)?)\\s+(ounce)\\)', name)\n",
    "            if parsed != None:\n",
    "                name = name[len(parsed[0]):]\n",
    "                dic['name']=name\n",
    "                dic['quantity'] = int(28.3*float(parsed[1]))*dic['quantity']\n",
    "                dic['unit']     = 'g'\n",
    "            \n",
    "            ingredientDic[str(itera)]=dic\n",
    "    return ingredientDic"
   ]
  },
  {
   "cell_type": "code",
   "execution_count": 92,
   "metadata": {},
   "outputs": [],
   "source": [
    "def getVegGrams(a, ref):\n",
    "    #Iterate through ingredient list, parse quantities, and detect veggetables\n",
    "    #If a vegetable correspond to a list value, add it to the weight\n",
    "    \n",
    "    \n",
    "    recipe = ingr2dic(a[ref]['Ingredients'])\n",
    "\n",
    "    quantity = 0\n",
    "    for ingredient in recipe:\n",
    "        name = recipe[ingredient]['name'].lower()\n",
    "       # print(name)\n",
    "        for word in veg:\n",
    "            if word.lower() in name:\n",
    "        #if any(word.lower() in name for word in veg):\n",
    "                tmpQuantity = 0\n",
    "                if recipe[ingredient]['unit'] == 'g':\n",
    "                    tmpQuantity = float(recipe[ingredient]['quantity'])\n",
    "                else:\n",
    "                    if recipe[ingredient]['unit'] == None:\n",
    "                        if word.lower() in VegDic.keys():\n",
    "                            tmpQuantity = float(VegDic[word.lower()])*float(recipe[ingredient]['quantity'])\n",
    "                            \n",
    "                        else:\n",
    "                            print(\"Add to Dic:\" + word.lower())\n",
    "                            print(recipe[ingredient])\n",
    "                            tmpQuantity = 60 #estimated guess\n",
    "                quantity = tmpQuantity + quantity          \n",
    "                #print(\"Detected: \\t\\t\" + str(word.lower()) + ' : ' + str(tmpQuantity) + ' g')\n",
    "                break  #avoid multiple detection\n",
    "    return int(quantity)"
   ]
  },
  {
   "cell_type": "code",
   "execution_count": 93,
   "metadata": {},
   "outputs": [],
   "source": [
    "with open('data/veggies.json', 'rb') as f:\n",
    "        VegDic=json.load(f)\n",
    "        \n",
    "#reading vegies.csv\n",
    "with open('data/vegies.csv', 'r') as myfile:\n",
    "    r = csv.reader(myfile)\n",
    "    veg = list(r)[0]\n",
    "\n",
    "#Adding non plural forms\n",
    "for i in veg:\n",
    "    if i[-1]=='s':\n",
    "        veg.append(i[:-1])"
   ]
  },
  {
   "cell_type": "code",
   "execution_count": 115,
   "metadata": {},
   "outputs": [],
   "source": [
    "#Calculating the veggetable weights for all recipes in the dataset\n",
    "Full = pd.read_csv('data/fullTreated.csv',index_col = 0)\n",
    "\n",
    "listVeg = []\n",
    "listNutri = []\n",
    "listLetter = []\n",
    "\n",
    "for index, row in Full.iterrows(): \n",
    "    jsonPath='data/'+row['Region']+'.json'\n",
    "    #print(row['Reference'])\n",
    "    with open(jsonPath, 'rb') as f:\n",
    "        a=json.load(f)\n",
    "        #print(ingr2dic(a[row['Reference']]['Ingredients']))\n",
    "        #print('\\n Grams of vegetables detected: ' + str(getVegGrams(a,row['Reference'])) + ' g .')\n",
    "        #Full['VeggieWeight'] = getVegGrams(a,row['Reference'])\n",
    "        VeggieWeight = getVegGrams(a,row['Reference'])\n",
    "        listVeg.append(VeggieWeight)\n",
    "        \n",
    "        #quantities are normalized to a 100g basis (we consider meals weight around 400grams)\n",
    "        servingRatio = 0.25\n",
    "        NegPoints = int(row.Calories/(335./4.184))+int(row.Sugars/(4.5))+int(row['Saturated Fat']/(1))+int(row.Sodium/90)\n",
    "        NegPoints = int(NegPoints*servingRatio)\n",
    "        \n",
    "        if VeggieWeight <= 120:\n",
    "            fruitPoints = 0\n",
    "        if VeggieWeight > 120 and VeggieWeight <= 180:\n",
    "            fruitPoints = 1\n",
    "        if VeggieWeight > 180 and VeggieWeight <= 240:\n",
    "            fruitPoints = 2\n",
    "        if VeggieWeight > 240:\n",
    "            fruitPoints = 5\n",
    "        PosPoints = fruitPoints + int(servingRatio*row.Protein/(1.6)) + int(servingRatio*row['Dietary Fiber']/(0.9))\n",
    "        score = NegPoints - PosPoints\n",
    "        listNutri.append(score)\n",
    "    \n",
    "        if score <= -1:\n",
    "            letter = 'A'\n",
    "        if score > -1 and score <= 2:\n",
    "            letter = 'B'\n",
    "        if score > 2 and score <= 10:\n",
    "            letter = 'C'\n",
    "        if score > 10 and score <= 19:\n",
    "            letter = 'D'\n",
    "        if score > 19:\n",
    "            letter = 'E'\n",
    "        listLetter.append(letter)\n",
    "            \n",
    "            \n",
    "Full['VeggieWeight'] = listVeg\n",
    "Full['NutriScore'] = listNutri\n",
    "Full['NutriLetter'] = listLetter"
   ]
  },
  {
   "cell_type": "code",
   "execution_count": 116,
   "metadata": {},
   "outputs": [
    {
     "data": {
      "text/plain": [
       "Greek Pasta with Tomatoes and White Beans                  -8\n",
       "Yam Taeng (Spicy Cucumber Salad)                           -8\n",
       "Make-Ahead Vegetarian Moroccan Stew                        -8\n",
       "Moo Goo Gai Pan                                            -8\n",
       "Pollo Adobado                                              -8\n",
       "Moroccan Lentil Soup                                       -7\n",
       "Silpancho from Cochabamba, Bolivia                         -7\n",
       "Cholay (Curried Chickpeas)                                 -6\n",
       "Key Sir Alicha (Ethiopian Beets and Potatoes)              -6\n",
       "Bhuna Gosht                                                -6\n",
       "Bissara                                                    -6\n",
       "Avocado and Tuna Tapas                                     -6\n",
       "Lengenberg's Boiled Potatoes                               -6\n",
       "Kik Wat (Ethiopian Red Lentil Stew)                        -6\n",
       "Kay's Spaghetti and Lasagna Sauce                          -6\n",
       "Brazilian Chicken with Coconut Milk                        -6\n",
       "Spanish Moroccan Fish                                      -5\n",
       "Ethiopian Spiced Cottage Cheese                            -5\n",
       "Harira                                                     -5\n",
       "Ethiopian Cabbage Dish                                     -5\n",
       "Slow Cooker Chicken Marrakesh                              -5\n",
       "Ratatouille                                                -5\n",
       "Ethiopian Vegetable Bowl                                   -5\n",
       "Brazilian Black Bean Stew                                  -5\n",
       "Moroccan Chickpea Stew                                     -4\n",
       "Moroccan Chicken                                           -4\n",
       "Spanish Style Albondigas in a Sunny Mediterranean Sauce    -4\n",
       "Greek Chicken Pasta                                        -4\n",
       "Moroccan Chicken and Whole Grain Couscous                  -4\n",
       "Greek Lemon Chicken and Potato Bake                        -4\n",
       "                                                           ..\n",
       "Ethiopian Chicken                                           5\n",
       "Easy Swedish Apple Pie                                      5\n",
       "Slow Cooker Kielbasa and Beer                               5\n",
       "Boneless Buffalo Wings                                      6\n",
       "Thai Green Curry Chicken                                    6\n",
       "Grandma Jeanette's Amazing German Red Cabbage               6\n",
       "Slow Cooker Mongolian Beef                                  6\n",
       "Aussie Lime Pie                                             6\n",
       "Swedish Meatballs I                                         6\n",
       "Danish Almond Puff                                          6\n",
       "Ashley's Chicken Katsu with Tonkatsu Sauce                  6\n",
       "Chicken Yakisoba                                            6\n",
       "Mongolian Beef and Spring Onions                            6\n",
       "Easy Mexican Casserole                                      6\n",
       "Gratin Dauphinois de Solange                                7\n",
       "Bow Ties with Sausage, Tomatoes and Cream                   7\n",
       "English Trifle to Die For                                   7\n",
       "Home Style Macaroni and Cheese                              7\n",
       "Chicken Tikka Masala                                        7\n",
       "Chinese Barbeque Pork (Char Siu)                            8\n",
       "The Amazing Swedish Meatball                                8\n",
       "Thai Sweet Sticky Rice With Mango (Khao Neeo Mamuang)       9\n",
       "Rich and Simple French Onion Soup                           9\n",
       "French Onion Soup Gratinee                                 10\n",
       "Cali's Sinful Creme Brulee                                 11\n",
       "Chef John's Patatas Bravas                                 11\n",
       "Original Homemade Italian Beef                             12\n",
       "Torsk                                                      14\n",
       "Easy Indian Butter Chicken                                 14\n",
       "Salt and Pepper Squid                                      19\n",
       "Name: NutriScore, Length: 366, dtype: int64"
      ]
     },
     "execution_count": 116,
     "metadata": {},
     "output_type": "execute_result"
    }
   ],
   "source": [
    "Full.sort_values(by=['NutriScore'])['NutriScore']"
   ]
  },
  {
   "cell_type": "code",
   "execution_count": 161,
   "metadata": {},
   "outputs": [
    {
     "data": {
      "image/png": "[encoded data removed]",
      "text/plain": [
       "<Figure size 432x288 with 1 Axes>"
      ]
     },
     "metadata": {
      "needs_background": "light"
     },
     "output_type": "display_data"
    },
    {
     "data": {
      "image/png": "[encoded data removed]",
      "text/plain": [
       "<Figure size 432x288 with 1 Axes>"
      ]
     },
     "metadata": {
      "needs_background": "light"
     },
     "output_type": "display_data"
    },
    {
     "data": {
      "image/png": "[encoded data removed]",
      "text/plain": [
       "<Figure size 432x288 with 1 Axes>"
      ]
     },
     "metadata": {
      "needs_background": "light"
     },
     "output_type": "display_data"
    },
    {
     "data": {
      "image/png": "[encoded data removed]",
      "text/plain": [
       "<Figure size 432x288 with 1 Axes>"
      ]
     },
     "metadata": {
      "needs_background": "light"
     },
     "output_type": "display_data"
    },
    {
     "data": {
      "image/png": "[encoded data removed]",
      "text/plain": [
       "<Figure size 432x288 with 1 Axes>"
      ]
     },
     "metadata": {
      "needs_background": "light"
     },
     "output_type": "display_data"
    },
    {
     "data": {
      "image/png": "[encoded data removed]",
      "text/plain": [
       "<Figure size 432x288 with 1 Axes>"
      ]
     },
     "metadata": {
      "needs_background": "light"
     },
     "output_type": "display_data"
    },
    {
     "data": {
      "image/png": "[encoded data removed]",
      "text/plain": [
       "<Figure size 432x288 with 1 Axes>"
      ]
     },
     "metadata": {
      "needs_background": "light"
     },
     "output_type": "display_data"
    },
    {
     "data": {
      "image/png": "[encoded data removed]",
      "text/plain": [
       "<Figure size 432x288 with 1 Axes>"
      ]
     },
     "metadata": {
      "needs_background": "light"
     },
     "output_type": "display_data"
    },
    {
     "data": {
      "image/png": "[encoded data removed]",
      "text/plain": [
       "<Figure size 432x288 with 1 Axes>"
      ]
     },
     "metadata": {
      "needs_background": "light"
     },
     "output_type": "display_data"
    },
    {
     "data": {
      "image/png": "[encoded data removed]",
      "text/plain": [
       "<Figure size 432x288 with 1 Axes>"
      ]
     },
     "metadata": {
      "needs_background": "light"
     },
     "output_type": "display_data"
    },
    {
     "data": {
      "image/png": "[encoded data removed]",
      "text/plain": [
       "<Figure size 432x288 with 1 Axes>"
      ]
     },
     "metadata": {
      "needs_background": "light"
     },
     "output_type": "display_data"
    },
    {
     "data": {
      "image/png": "[encoded data removed]",
      "text/plain": [
       "<Figure size 432x288 with 1 Axes>"
      ]
     },
     "metadata": {
      "needs_background": "light"
     },
     "output_type": "display_data"
    },
    {
     "data": {
      "image/png": "[encoded data removed]",
      "text/plain": [
       "<Figure size 432x288 with 1 Axes>"
      ]
     },
     "metadata": {
      "needs_background": "light"
     },
     "output_type": "display_data"
    },
    {
     "data": {
      "image/png": "[encoded data removed]",
      "text/plain": [
       "<Figure size 432x288 with 1 Axes>"
      ]
     },
     "metadata": {
      "needs_background": "light"
     },
     "output_type": "display_data"
    },
    {
     "data": {
      "image/png": "[encoded data removed]",
      "text/plain": [
       "<Figure size 432x288 with 1 Axes>"
      ]
     },
     "metadata": {
      "needs_background": "light"
     },
     "output_type": "display_data"
    },
    {
     "data": {
      "image/png": "[encoded data removed]",
      "text/plain": [
       "<Figure size 432x288 with 1 Axes>"
      ]
     },
     "metadata": {
      "needs_background": "light"
     },
     "output_type": "display_data"
    },
    {
     "data": {
      "image/png": "[encoded data removed]",
      "text/plain": [
       "<Figure size 432x288 with 1 Axes>"
      ]
     },
     "metadata": {
      "needs_background": "light"
     },
     "output_type": "display_data"
    },
    {
     "data": {
      "image/png": "[encoded data removed]",
      "text/plain": [
       "<Figure size 432x288 with 1 Axes>"
      ]
     },
     "metadata": {
      "needs_background": "light"
     },
     "output_type": "display_data"
    },
    {
     "data": {
      "image/png": "[encoded data removed]",
      "text/plain": [
       "<Figure size 432x288 with 1 Axes>"
      ]
     },
     "metadata": {
      "needs_background": "light"
     },
     "output_type": "display_data"
    }
   ],
   "source": [
    "regions = Full['Region'].unique()\n",
    "for region in regions:\n",
    "    a=Full[Full['Region']==region].sort_values(by=['NutriScore'])['NutriLetter'].values\n",
    "    letter_counts = Counter(a)\n",
    "    df = pd.DataFrame.from_dict(letter_counts,orient = 'index')\n",
    "    df.plot(kind='bar')\n",
    "    plt.title(region)\n",
    "    "
   ]
  }
 ],
 "metadata": {
  "kernelspec": {
   "display_name": "Python [conda env:ada2]",
   "language": "python",
   "name": "conda-env-ada2-py"
  },
  "language_info": {
   "codemirror_mode": {
    "name": "ipython",
    "version": 3
   },
   "file_extension": ".py",
   "mimetype": "text/x-python",
   "name": "python",
   "nbconvert_exporter": "python",
   "pygments_lexer": "ipython3",
   "version": "3.6.6"
  }
 },
 "nbformat": 4,
 "nbformat_minor": 2
}
