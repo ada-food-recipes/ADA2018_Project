{
 "cells": [
  {
   "cell_type": "markdown",
   "metadata": {},
   "source": [
    "# Data Acquisition : World recipes #\n"
   ]
  },
  {
   "cell_type": "markdown",
   "metadata": {},
   "source": [
    "## Preliminary Explanations ##"
   ]
  },
  {
   "cell_type": "markdown",
   "metadata": {},
   "source": [
    "The idea behind this project is to collect data from recipes from different regions around the world, and later to exploit it. This jupyter notebook contains the code for the preliminary data acquisition step. Throughout the notebook, the use of functions are omnipresent to better reuse code and save time."
   ]
  },
  {
   "cell_type": "markdown",
   "metadata": {},
   "source": [
    "## Datasets ##\n",
    "\n",
    "The main dataset that was used is not exactly one provided in the cluster. After careful analysis of the HTML webscraps in the recipe dataset, we found much more convenient to directly access the websites ourselves and scrap data on our own. The elected website was www.allrecipes.com. It is very structured, easy to navigate, and above all, all recipe pages are written the same way in HTML, a scraper's paradise. \n",
    "\n",
    "The site has little interesting details and perks that were exploited for our data collection. First of all, it is possible to add a 'print' statement to the URL to request a much cleaner HTML page, which facilitates scrapping immensely. Secondly, it is possible to specify in the URL the amount of servings the recipe is made for, and in which measuring system (metric, imperial) the ingredients' quantities have to be specified. Recipes are also given with a rating and the amount of people who pressed the 'made it' button which helps assess the recipe's popularity. By modifying the URL a bit, it is possible to request an HTML page containing the nutrition facts for the recipe (per serving), which does help quite a lot. Finally, the site is organized in a sort of tree structure, so it is easy to access all recipes in the same category (greek recipes for example).\n",
    "\n",
    "We will comment the different scrapping and parsing functions as we go!"
   ]
  },
  {
   "cell_type": "code",
   "execution_count": 66,
   "metadata": {},
   "outputs": [],
   "source": [
    "import re\n",
    "import json, csv\n",
    "import numpy as np\n",
    "import requests, re\n",
    "import pandas as pd\n",
    "from bs4 import BeautifulSoup\n",
    "import matplotlib.pyplot as plt\n",
    "from collections import Counter\n",
    "\n",
    "import warnings\n",
    "warnings.filterwarnings('ignore')"
   ]
  },
  {
   "cell_type": "code",
   "execution_count": 2,
   "metadata": {},
   "outputs": [],
   "source": [
    "#The header describes who is visiting the website\n",
    "\n",
    "headers = requests.utils.default_headers()\n",
    "#'Mozilla/5.0 (X11; Linux x86_64) AppleWebKit/537.36 (KHTML, like Gecko) Chrome/56.0.2924.87 Safari/537.36'"
   ]
  },
  {
   "cell_type": "markdown",
   "metadata": {},
   "source": [
    "## Scrapping functions ##\n",
    "\n",
    "url_gen: \n",
    "\n",
    "This function generates the correct url in function of the unit system, amount of servings, recipe reference and the type of data scrapping we may want to do. It is not the same url to get the nutrition facts, the recipe's popularity, or yet again the ingredients.\n",
    "\n",
    "get_ingredients:\n",
    "\n",
    "This function detects the ingredient list in the HTML (two column disposition) and appends them to a list for further treatment.\n",
    "\n",
    "get_popularity:\n",
    "\n",
    "This function detects the amounts of 'made it' and the rating of a recipe in the HTML page.\n",
    "\n",
    "get_nutrition:\n",
    "\n",
    "This function retrieves all the nutrition facts of the recipe, as well as it's official name.\n",
    "\n"
   ]
  },
  {
   "cell_type": "code",
   "execution_count": 2,
   "metadata": {},
   "outputs": [],
   "source": [
    "def url_gen(ref,servings=1, metric = 'true', typeSearch = 'ingredients'):\n",
    "    if typeSearch == 'none':\n",
    "        tail = ''\n",
    "    else :\n",
    "        if typeSearch == 'nutrition':\n",
    "            tail = 'fullrecipenutrition/'\n",
    "        else:  \n",
    "            tail = 'print/?recipeType=Recipe&servings={}&isMetric={}'.format(servings,metric)\n",
    "\n",
    "    return ('https://www.allrecipes.com/recipe/' + ref+tail)"
   ]
  },
  {
   "cell_type": "code",
   "execution_count": 3,
   "metadata": {},
   "outputs": [],
   "source": [
    "def get_ingredients(ref): \n",
    "    \n",
    "    url = url_gen(ref)\n",
    "    r=requests.get(url)\n",
    "    \n",
    "    ingredients = []\n",
    "    soup = BeautifulSoup(r.text.encode('utf-8'),'lxml')    \n",
    "    col1 = soup.find('h2').next_sibling.next_sibling\n",
    "    col2 = col1.next_sibling.next_sibling\n",
    "\n",
    "    for i in col1.findAll('li'):\n",
    "        last=str(i.contents).rfind('r')\n",
    "        first=str(i.contents).find('n')\n",
    "        ingredients.append((str(i.contents)[(first+1):(last-1)].lstrip()))\n",
    "    for i in col2.findAll('li'):\n",
    "        last=str(i.contents).rfind('r')\n",
    "        first=str(i.contents).find('n')\n",
    "        ingredients.append((str(i.contents)[(first+1):(last-1)].lstrip()))\n",
    "    return ingredients"
   ]
  },
  {
   "cell_type": "code",
   "execution_count": 4,
   "metadata": {},
   "outputs": [],
   "source": [
    "def get_popularity(ref):    \n",
    "    url = url_gen(ref,typeSearch = 'none')\n",
    "    r=requests.get(url)\n",
    "    soup = BeautifulSoup(r.text.encode('utf-8'),'lxml')    \n",
    "    step1 =str(soup.findAll('div', class_=\"total-made-it\"))\n",
    "    step2 = str(soup.findAll('div', class_=\"rating-stars\"))\n",
    "    begin = '\"made-it-count\"></span><span>'\n",
    "    end = '\\xa0made it'\n",
    "    step1 = step1[step1.find(begin)+len(begin):step1.find(end)]   \n",
    "    begin = '<div class=\"rating-stars\" data-ratingstars=\"'\n",
    "    end= '\" onclick'\n",
    "    step2 = step2[step2.find(begin)+len(begin):step2.find(end)]  \n",
    "    \n",
    "    return step1,step2"
   ]
  },
  {
   "cell_type": "code",
   "execution_count": 5,
   "metadata": {},
   "outputs": [],
   "source": [
    "def get_nutrition(ref):\n",
    "#Returns a dictionnary with nutritional values\n",
    "\n",
    "    url = url_gen(ref, typeSearch = 'nutrition')\n",
    "    r=requests.get(url)\n",
    "    soup = BeautifulSoup(r.text.encode('utf-8'),'lxml') \n",
    "    info = soup.findAll('div', class_='nutrition-row')\n",
    "    general = {}\n",
    "    general['Title']  = str(soup.find('h2').contents[0])\n",
    "    general['Reference'] = ref\n",
    "    nutrition = {}\n",
    "    getCal = str(soup.find('div', class_=\"nutrition-top light-underline\"))\n",
    "    key = 'Calories:</span> '\n",
    "    nutrition['Calories'] = (getCal[getCal.find(key) + len(key):getCal.rfind('<br/>')])\n",
    "    \n",
    "    for i in info:\n",
    "        a=i.find(class_='nutrient-name')\n",
    "        b = re.findall('>(.*?):', str(a))[0]\n",
    "        c = re.findall('value\">(.*?)<', str(a))[0]\n",
    "       # print(str(b) + ' : ' + str(c))\n",
    "        nutrition[b] = c\n",
    "    return general, nutrition"
   ]
  },
  {
   "cell_type": "markdown",
   "metadata": {},
   "source": [
    "## Forming a class ##\n",
    "\n",
    "To help with program structure, a Recipe class is made. In its constructor, the previously explained methods are called, so a recipe can be fully retrieved solely by creating a new Recipe object. Aditional useful methods are added to better display the object, to export it as a dictionnary, to a dataframe..."
   ]
  },
  {
   "cell_type": "code",
   "execution_count": 6,
   "metadata": {},
   "outputs": [],
   "source": [
    "class Recipe:\n",
    "    def __init__(self, name):\n",
    "        self.name = name\n",
    "        self.ingredients = get_ingredients(name)\n",
    "        self.general, self.nutrition = get_nutrition(name)\n",
    "        s1,s2 = get_popularity(name)\n",
    "        self.general['Popularity'] = s1\n",
    "        self.general['Rating']=s2\n",
    "    def display(self):\n",
    "        print('\\n ----------------- \\n')\n",
    "        print(self.general)\n",
    "        print('\\n')\n",
    "        print(self.ingredients)\n",
    "        print('\\n')\n",
    "        print(self.nutrition)\n",
    "    def toDict(self):\n",
    "        dictio = {}\n",
    "        dictio['General'] = self.general\n",
    "        dictio['Nutrition'] = self.nutrition\n",
    "        dictio['Ingredients'] = self.ingredients\n",
    "        return dictio"
   ]
  },
  {
   "cell_type": "code",
   "execution_count": 7,
   "metadata": {},
   "outputs": [],
   "source": [
    "def toDf(a, Region = 'Unknown'):\n",
    "    dic = a.general\n",
    "    tmp = {}\n",
    "    tmp['Region'] = Region\n",
    "    dic.update(tmp)\n",
    "    dic.update(a.nutrition)\n",
    "    RecipeDf = pd.DataFrame.from_dict(dic,orient = 'index')\n",
    "    RecipeDf.columns = [str(a.general['Title'])]\n",
    "    return RecipeDf"
   ]
  },
  {
   "cell_type": "markdown",
   "metadata": {},
   "source": [
    "## Time for an example ##\n",
    "\n",
    "Instanciating an object for this particular tikka masala recipe, then exporting it as a dictionnary yields this result.The object's attributes are of course accessible individually.\n"
   ]
  },
  {
   "cell_type": "code",
   "execution_count": 11,
   "metadata": {},
   "outputs": [
    {
     "data": {
      "text/plain": [
       "{'General': {'Title': 'Chicken Tikka Masala',\n",
       "  'Reference': '45736/chicken-tikka-masala/',\n",
       "  'Popularity': '3k',\n",
       "  'Rating': '4.38908433914185'},\n",
       " 'Nutrition': {'Calories': '404',\n",
       "  'Total Fat': '28.9g',\n",
       "  'Saturated Fat': '17.0g',\n",
       "  'Cholesterol': '143mg',\n",
       "  'Sodium': '1592mg',\n",
       "  'Potassium': '660mg',\n",
       "  'Total Carbohydrates': '13.3g',\n",
       "  'Dietary Fiber': '2.5g',\n",
       "  'Protein': '24.6g',\n",
       "  'Sugars': '7g',\n",
       "  'Vitamin A': '2432IU',\n",
       "  'Vitamin C': '11mg',\n",
       "  'Calcium': '206mg',\n",
       "  'Iron': '3mg',\n",
       "  'Thiamin': '0mg',\n",
       "  'Niacin': '13mg',\n",
       "  'Vitamin B6': '1mg',\n",
       "  'Magnesium': '57mg',\n",
       "  'Folate': '24mcg'},\n",
       " 'Ingredients': ['60 ml yogurt',\n",
       "  '4 ml lemon juice',\n",
       "  '1 g fresh ground cumin',\n",
       "  '0.6 g ground cinnamon',\n",
       "  '0.9 g cayenne pepper',\n",
       "  '1 g freshly ground black pepper',\n",
       "  '1 g minced fresh ginger',\n",
       "  '2 g salt, or to taste',\n",
       "  '3/4 boneless skinless chicken breasts, cut into bite-size pieces',\n",
       "  '1 long skewers',\n",
       "  '4 g butter',\n",
       "  '1/4 clove garlic, minced',\n",
       "  '1/4 jalapeno pepper, finely chopped',\n",
       "  '1 g ground cumin',\n",
       "  '1 g paprika',\n",
       "  '2 g salt, or to taste',\n",
       "  '1/4 (8 ounce) can tomato sauce',\n",
       "  '60 ml heavy cream',\n",
       "  '3 g chopped fresh cilantro']}"
      ]
     },
     "execution_count": 11,
     "metadata": {},
     "output_type": "execute_result"
    }
   ],
   "source": [
    "#ref = '246179/black-chana-with-potato/'\n",
    "ref = '45736/chicken-tikka-masala/'\n",
    "Recipe(ref).toDict()"
   ]
  },
  {
   "cell_type": "markdown",
   "metadata": {},
   "source": [
    "## Large Scale Generalization ## \n",
    "\n",
    "In data analysis, what we really need is data. The next few functions, help generalizing the data scrapping to a larger scale in order to later be processed.\n",
    "\n",
    "get_recipes:\n",
    "\n",
    "This function is given the URL of the theme's page (greek recipes for example). It then searches the webpage for recipe links that are of course linked to the theme. By default, this function returns the first 20 recipes the site shows. The shown recipes present the advantage of being diverse and pretty representative of the country's culinar culture. A retrieval of more recipes, to later only keep the 20 most popular was considered, but the recipe's popularity mainly depend on the american visitors of the website and their taste buds may be too biased for this technique to be representative.\n",
    "\n",
    "getThemeRecipes:\n",
    "\n",
    "The magic function! For each of the links generated by get_recipes(), this function generates a recipe object. The objects are also processed to potentially return three things. First, a list of all recipe objects. This is the least useful of the three. This function also returns a Pandas dataframe containing all of the information of all the recipe objects, except for the ingredients which have an unknown size and vary between recipes. Finally, it returns a dictionary containing all the information of all the recipe objects, hierarchally arranged so as to be able to export it easily as a JSON file.\n",
    "\n",
    "getInfo:\n",
    "\n",
    "This function calls getThemeRecipes, then exports the information. It exports and saves the dataframe as a CSV file, and the dictionnary as a JSON. This allows the scrapped data to be stored and accessible much more rapidly, without depending on website changes."
   ]
  },
  {
   "cell_type": "code",
   "execution_count": 8,
   "metadata": {},
   "outputs": [],
   "source": [
    "def get_recipes(themeUrl, number = 20):\n",
    "    \n",
    "    r=requests.get(themeUrl) #add page 1,2,etc\n",
    "    \n",
    "    baseUrl = 'https://www.allrecipes.com/recipe/'\n",
    "    soup = BeautifulSoup(r.text.encode('utf-8'),'lxml') \n",
    "    results = soup.findAll('h3', class_='fixed-recipe-card__h3')\n",
    "    \n",
    "    theme = []\n",
    "    iteration = 0\n",
    "    for i in results :\n",
    "        \n",
    "        if iteration  == number:\n",
    "            break\n",
    "            \n",
    "        iteration = iteration + 1\n",
    "        \n",
    "        link = str(i.find('a').get('href'))\n",
    "        first=link.find(baseUrl)\n",
    "        theme.append(link[(first+len(baseUrl)):])\n",
    "        \n",
    "    return theme"
   ]
  },
  {
   "cell_type": "code",
   "execution_count": 9,
   "metadata": {},
   "outputs": [],
   "source": [
    "def getThemeRecipes(themeName, number = 20, dec =1):\n",
    "    tail = ''\n",
    "    for i in range(1,len(themeName)-1):\n",
    "        tail = tail + themeName[i]+'/'\n",
    "    themeUrl = 'https://www.allrecipes.com/recipes/'+themeName[0]+'/world-cuisine/'+tail\n",
    "    themeLinks = get_recipes(themeUrl, number = number)\n",
    "    themeRecipes = []\n",
    "    themeDico = {}\n",
    "\n",
    "    from tqdm import tqdm_notebook as tqdm\n",
    "\n",
    "    for i in tqdm(range(len(themeLinks))):\n",
    "        recipe = themeLinks[i]\n",
    "        \n",
    "        \n",
    "    #for recipe in themeLinks:\n",
    "        try:\n",
    "            current = Recipe(recipe)\n",
    "            if i == 0:\n",
    "                joined = toDf(current, themeName[len(themeName)-dec] );\n",
    "            else:\n",
    "                joined = pd.merge(joined,toDf(current,themeName[len(themeName)-dec]), left_index=True, right_index=True, how = 'outer')\n",
    "                    \n",
    "            #themeRecipes.append(current)\n",
    "            themeDico[current.general['Reference']] = current.toDict()\n",
    "            \n",
    "        except AttributeError:\n",
    "            print('Error')\n",
    "            continue\n",
    "    return themeDico, joined"
   ]
  },
  {
   "cell_type": "code",
   "execution_count": 10,
   "metadata": {},
   "outputs": [],
   "source": [
    "def getInfo(themeName, dec=1):\n",
    "    themeDico, themeDf = getThemeRecipes(themeName,dec = dec)\n",
    "    \n",
    "    data_path = 'data/'\n",
    "    themeDf.transpose().dropna().to_csv(data_path + themeName[len(themeName) - dec]+'.csv')\n",
    "   \n",
    "    with open(data_path + themeName[len(themeName) - dec]+'.json', 'w') as f:\n",
    "        json.dump(themeDico, f)\n",
    "    "
   ]
  },
  {
   "cell_type": "markdown",
   "metadata": {},
   "source": [
    "## Let's run everything ##\n",
    "\n",
    "Each region is associated with a number, and multiple categories and sub-categories. Since the site has a timeout after a certain amount of 'suspicious' connections, it is more convenient to scrape each category one by one (takes about a minute, progress bar showed with tqdm). "
   ]
  },
  {
   "cell_type": "code",
   "execution_count": 15,
   "metadata": {},
   "outputs": [
    {
     "data": {
      "application/vnd.jupyter.widget-view+json": {
       "model_id": "668d8a6e54184d1881fef9f21ca2080a",
       "version_major": 2,
       "version_minor": 0
      },
      "text/plain": [
       "HBox(children=(IntProgress(value=0, max=20), HTML(value='')))"
      ]
     },
     "metadata": {},
     "output_type": "display_data"
    },
    {
     "name": "stdout",
     "output_type": "stream",
     "text": [
      "\n"
     ]
    },
    {
     "data": {
      "application/vnd.jupyter.widget-view+json": {
       "model_id": "e7048830faff4b57b2953f6c91f17754",
       "version_major": 2,
       "version_minor": 0
      },
      "text/plain": [
       "HBox(children=(IntProgress(value=0, max=20), HTML(value='')))"
      ]
     },
     "metadata": {},
     "output_type": "display_data"
    },
    {
     "name": "stdout",
     "output_type": "stream",
     "text": [
      "\n"
     ]
    },
    {
     "data": {
      "application/vnd.jupyter.widget-view+json": {
       "model_id": "30eb26ee417a4ed2b8e78c25b79bce62",
       "version_major": 2,
       "version_minor": 0
      },
      "text/plain": [
       "HBox(children=(IntProgress(value=0, max=20), HTML(value='')))"
      ]
     },
     "metadata": {},
     "output_type": "display_data"
    },
    {
     "name": "stdout",
     "output_type": "stream",
     "text": [
      "\n"
     ]
    },
    {
     "data": {
      "application/vnd.jupyter.widget-view+json": {
       "model_id": "59719018b0b74f15aadcae00554eb5d7",
       "version_major": 2,
       "version_minor": 0
      },
      "text/plain": [
       "HBox(children=(IntProgress(value=0, max=20), HTML(value='')))"
      ]
     },
     "metadata": {},
     "output_type": "display_data"
    },
    {
     "name": "stdout",
     "output_type": "stream",
     "text": [
      "\n"
     ]
    },
    {
     "data": {
      "application/vnd.jupyter.widget-view+json": {
       "model_id": "ee1f40b8ad004151b64c6089f53d440f",
       "version_major": 2,
       "version_minor": 0
      },
      "text/plain": [
       "HBox(children=(IntProgress(value=0, max=20), HTML(value='')))"
      ]
     },
     "metadata": {},
     "output_type": "display_data"
    },
    {
     "name": "stdout",
     "output_type": "stream",
     "text": [
      "\n"
     ]
    },
    {
     "data": {
      "application/vnd.jupyter.widget-view+json": {
       "model_id": "6a2525e2e4a64d65b92373b5737279a8",
       "version_major": 2,
       "version_minor": 0
      },
      "text/plain": [
       "HBox(children=(IntProgress(value=0, max=20), HTML(value='')))"
      ]
     },
     "metadata": {},
     "output_type": "display_data"
    },
    {
     "name": "stdout",
     "output_type": "stream",
     "text": [
      "\n"
     ]
    },
    {
     "data": {
      "application/vnd.jupyter.widget-view+json": {
       "model_id": "c360fba6358944f9a0a7ca0a1b0d01ed",
       "version_major": 2,
       "version_minor": 0
      },
      "text/plain": [
       "HBox(children=(IntProgress(value=0, max=20), HTML(value='')))"
      ]
     },
     "metadata": {},
     "output_type": "display_data"
    },
    {
     "name": "stdout",
     "output_type": "stream",
     "text": [
      "\n"
     ]
    },
    {
     "data": {
      "application/vnd.jupyter.widget-view+json": {
       "model_id": "a3401c1d1a5843deb073da762e5e55bb",
       "version_major": 2,
       "version_minor": 0
      },
      "text/plain": [
       "HBox(children=(IntProgress(value=0, max=20), HTML(value='')))"
      ]
     },
     "metadata": {},
     "output_type": "display_data"
    },
    {
     "name": "stdout",
     "output_type": "stream",
     "text": [
      "\n"
     ]
    },
    {
     "data": {
      "application/vnd.jupyter.widget-view+json": {
       "model_id": "f81b35571e404e25bc9db902577ff09a",
       "version_major": 2,
       "version_minor": 0
      },
      "text/plain": [
       "HBox(children=(IntProgress(value=0, max=20), HTML(value='')))"
      ]
     },
     "metadata": {},
     "output_type": "display_data"
    },
    {
     "name": "stdout",
     "output_type": "stream",
     "text": [
      "\n"
     ]
    },
    {
     "data": {
      "application/vnd.jupyter.widget-view+json": {
       "model_id": "f7f1fec7ba8d4bdfa3faed8642b48c34",
       "version_major": 2,
       "version_minor": 0
      },
      "text/plain": [
       "HBox(children=(IntProgress(value=0, max=20), HTML(value='')))"
      ]
     },
     "metadata": {},
     "output_type": "display_data"
    },
    {
     "name": "stdout",
     "output_type": "stream",
     "text": [
      "\n"
     ]
    },
    {
     "data": {
      "application/vnd.jupyter.widget-view+json": {
       "model_id": "3e447caaa2d34abc92c474bd6ea56d29",
       "version_major": 2,
       "version_minor": 0
      },
      "text/plain": [
       "HBox(children=(IntProgress(value=0, max=20), HTML(value='')))"
      ]
     },
     "metadata": {},
     "output_type": "display_data"
    },
    {
     "name": "stdout",
     "output_type": "stream",
     "text": [
      "\n"
     ]
    },
    {
     "data": {
      "application/vnd.jupyter.widget-view+json": {
       "model_id": "be94846139d4401097c8455a4a6c282c",
       "version_major": 2,
       "version_minor": 0
      },
      "text/plain": [
       "HBox(children=(IntProgress(value=0, max=20), HTML(value='')))"
      ]
     },
     "metadata": {},
     "output_type": "display_data"
    },
    {
     "name": "stdout",
     "output_type": "stream",
     "text": [
      "\n"
     ]
    },
    {
     "data": {
      "application/vnd.jupyter.widget-view+json": {
       "model_id": "b383cc373a554f19afe4b9c88cc97a19",
       "version_major": 2,
       "version_minor": 0
      },
      "text/plain": [
       "HBox(children=(IntProgress(value=0, max=20), HTML(value='')))"
      ]
     },
     "metadata": {},
     "output_type": "display_data"
    },
    {
     "name": "stdout",
     "output_type": "stream",
     "text": [
      "\n"
     ]
    },
    {
     "data": {
      "application/vnd.jupyter.widget-view+json": {
       "model_id": "ddcdc46124df492b8d47e3a5b190b7ba",
       "version_major": 2,
       "version_minor": 0
      },
      "text/plain": [
       "HBox(children=(IntProgress(value=0, max=20), HTML(value='')))"
      ]
     },
     "metadata": {},
     "output_type": "display_data"
    },
    {
     "name": "stdout",
     "output_type": "stream",
     "text": [
      "\n"
     ]
    },
    {
     "data": {
      "application/vnd.jupyter.widget-view+json": {
       "model_id": "04417cbd53b44b87a84b52d0f3cc1277",
       "version_major": 2,
       "version_minor": 0
      },
      "text/plain": [
       "HBox(children=(IntProgress(value=0, max=20), HTML(value='')))"
      ]
     },
     "metadata": {},
     "output_type": "display_data"
    },
    {
     "name": "stdout",
     "output_type": "stream",
     "text": [
      "Error\n",
      "\n"
     ]
    },
    {
     "data": {
      "application/vnd.jupyter.widget-view+json": {
       "model_id": "6b1744aa00fa47a8bc0e1f1d4b67f018",
       "version_major": 2,
       "version_minor": 0
      },
      "text/plain": [
       "HBox(children=(IntProgress(value=0, max=20), HTML(value='')))"
      ]
     },
     "metadata": {},
     "output_type": "display_data"
    },
    {
     "name": "stdout",
     "output_type": "stream",
     "text": [
      "Error\n",
      "Error\n",
      "Error\n",
      "\n"
     ]
    },
    {
     "data": {
      "application/vnd.jupyter.widget-view+json": {
       "model_id": "30eb714cf6c441d18785edf599f4d51a",
       "version_major": 2,
       "version_minor": 0
      },
      "text/plain": [
       "HBox(children=(IntProgress(value=0, max=20), HTML(value='')))"
      ]
     },
     "metadata": {},
     "output_type": "display_data"
    },
    {
     "name": "stdout",
     "output_type": "stream",
     "text": [
      "\n"
     ]
    }
   ],
   "source": [
    "themeIndian = ['17136','asian','indian','main-dishes']\n",
    "themeJapanese = ['17491','asian','japanese','main-dishes']\n",
    "themeMexican = ['17504','latin-american','mexican','main-dishes']\n",
    "themeItalian = ['16767','european','italian','main-dishes']\n",
    "themeLebanese = ['1824','middle-eastern','lebanese']\n",
    "themeFrench = ['721','european','french']\n",
    "themeNorthAfrican = ['17582','african','north-african']\n",
    "\n",
    "getInfo(themeNorthAfrican)\n",
    "getInfo(themeItalian, dec = 2)\n",
    "getInfo(themeIndian, dec = 2)\n",
    "getInfo(themeJapanese, dec = 2)\n",
    "getInfo(themeMexican, dec = 2)\n",
    "getInfo(themeLebanese)\n",
    "getInfo(themeFrench)\n",
    "\n",
    "themeChinese = ['17135','asian','chinese','main-dishes']\n",
    "themeThai = ['702','asian','thai']\n",
    "themeSA = ['730','latin-american','south-american']\n",
    "themeGreek = ['17152','european','greek','main-dishes']\n",
    "\n",
    "getInfo(themeChinese, dec = 2)\n",
    "getInfo(themeSA)\n",
    "getInfo(themeThai)\n",
    "getInfo(themeGreek, dec = 2)\n",
    "\n",
    "themeScand = ['725','european','scandinavian']\n",
    "themeUK = ['704','european','uk-and-ireland']\n",
    "themeEastEurope = ['712','european','eastern-european']\n",
    "getInfo(themeScand)\n",
    "getInfo(themeUK)\n",
    "getInfo(themeEastEurope)\n",
    "\n",
    "themeGerman = ['722','european','german']\n",
    "themeSpanish = ['726','european','spanish']\n",
    "getInfo(themeGerman)\n",
    "getInfo(themeSpanish)\n",
    "\n",
    "themeEastAfrican =  ['17845','african','east-african']\n",
    "getInfo(themeEastAfrican)"
   ]
  },
  {
   "cell_type": "code",
   "execution_count": 48,
   "metadata": {},
   "outputs": [
    {
     "data": {
      "application/vnd.jupyter.widget-view+json": {
       "model_id": "d7dfff3e8b0a46c0b38ba98873858361",
       "version_major": 2,
       "version_minor": 0
      },
      "text/plain": [
       "HBox(children=(IntProgress(value=0, max=20), HTML(value='')))"
      ]
     },
     "metadata": {},
     "output_type": "display_data"
    },
    {
     "name": "stdout",
     "output_type": "stream",
     "text": [
      "\n"
     ]
    },
    {
     "data": {
      "application/vnd.jupyter.widget-view+json": {
       "model_id": "5cebefb1a9b741c1984f722ebd442019",
       "version_major": 2,
       "version_minor": 0
      },
      "text/plain": [
       "HBox(children=(IntProgress(value=0, max=20), HTML(value='')))"
      ]
     },
     "metadata": {},
     "output_type": "display_data"
    },
    {
     "name": "stdout",
     "output_type": "stream",
     "text": [
      "\n"
     ]
    }
   ],
   "source": [
    "themeCanadian =  ['733','canadian']\n",
    "getInfo(themeCanadian)\n",
    "themeAustralian = ['228','australian-and-new-zealander']\n",
    "getInfo(themeAustralian)"
   ]
  },
  {
   "cell_type": "code",
   "execution_count": 41,
   "metadata": {},
   "outputs": [
    {
     "data": {
      "text/plain": [
       "367"
      ]
     },
     "execution_count": 41,
     "metadata": {},
     "output_type": "execute_result"
    }
   ],
   "source": [
    "Mexican = pd.read_csv('data/mexican.csv',index_col = 0).dropna()\n",
    "Indian = pd.read_csv('data/indian.csv',index_col = 0)\n",
    "Italian = pd.read_csv('data/italian.csv',index_col = 0)\n",
    "Lebanese = pd.read_csv('data/lebanese.csv',index_col = 0)\n",
    "French = pd.read_csv('data/french.csv',index_col = 0)\n",
    "Japanese = pd.read_csv('data/japanese.csv',index_col = 0)\n",
    "\n",
    "NorthAfrican = pd.read_csv('data/north-african.csv',index_col = 0)\n",
    "Chinese = pd.read_csv('data/chinese.csv',index_col = 0)\n",
    "SA = pd.read_csv('data/south-american.csv',index_col = 0)\n",
    "Thai = pd.read_csv('data/thai.csv',index_col = 0)\n",
    "Greek = pd.read_csv('data/greek.csv',index_col = 0)\n",
    "\n",
    "\n",
    "Scand = pd.read_csv('data/scandinavian.csv',index_col = 0)\n",
    "UK = pd.read_csv('data/uk-and-ireland.csv',index_col = 0)\n",
    "EastEurope = pd.read_csv('data/eastern-european.csv',index_col = 0)\n",
    "German = pd.read_csv('data/german.csv',index_col = 0)\n",
    "Spanish = pd.read_csv('data/spanish.csv',index_col = 0)\n",
    "EastAfrican = pd.read_csv('data/east-african.csv',index_col = 0)\n",
    "\n",
    "Canadian = pd.read_csv('data/canadian.csv',index_col = 0)\n",
    "Australian = pd.read_csv('data/australian-and-new-zealander.csv',index_col = 0)\n",
    "\n",
    "Full = Mexican.append(Indian,sort=True).append(Italian,sort=True).append(Lebanese,sort=True).append(French,sort=True).append(Japanese,sort=True)\n",
    "Full = Full.append(NorthAfrican,sort=True).append(Chinese,sort=True).append(SA,sort=True).append(Thai,sort=True).append(Greek,sort=True)\n",
    "Full = Full.append(Scand,sort=True).append(UK,sort=True).append(EastEurope,sort=True).append(German,sort=True).append(Spanish,sort=True)\n",
    "Full = Full.append(EastAfrican,sort=True)\n",
    "Full = Full.append(Canadian,sort=True).append(Australian,sort=True)\n",
    "\n",
    "Full.dropna().to_csv('data/fullData.csv')\n",
    "\n",
    "len(Full)"
   ]
  },
  {
   "cell_type": "markdown",
   "metadata": {},
   "source": [
    "## Data Parsing ##\n",
    "\n",
    "Now that we have data, let's clean it! We associate each nutrient with it's unit, no error in running it means there are no irregularities, and we get a decimal number with each quantity."
   ]
  },
  {
   "cell_type": "code",
   "execution_count": 42,
   "metadata": {},
   "outputs": [],
   "source": [
    "dicUnits = {}\n",
    "dicUnits['Iron']='mg'\n",
    "dicUnits['Niacin']='mg'\n",
    "dicUnits['Magnesium']='mg'\n",
    "dicUnits['Calcium']='mg'\n",
    "dicUnits['Cholesterol']='mg'\n",
    "dicUnits['Sodium']='mg'\n",
    "dicUnits['Potassium']='mg'\n",
    "dicUnits['Vitamin C']='mg'\n",
    "dicUnits['Thiamin']='mg'\n",
    "dicUnits['Vitamin B6']='mg'\n",
    "\n",
    "\n",
    "dicUnits['Total Carbohydrates']='g'\n",
    "dicUnits['Protein']='g'\n",
    "dicUnits['Dietary Fiber']='g'\n",
    "dicUnits['Total Fat']='g'\n",
    "dicUnits['Saturated Fat']='g'\n",
    "dicUnits['Sugars']='g'\n",
    "\n",
    "dicUnits['Folate']='mcg'\n",
    "\n",
    "dicUnits['Popularity']='k'\n",
    "\n",
    "def replaceUnits(x,elem):\n",
    "    if elem == 'Popularity':\n",
    "        return int(x.replace(dicUnits[str(elem)],'000'))\n",
    "    else:\n",
    "        a=0\n",
    "        try:\n",
    "            return float(x.replace(dicUnits[str(elem)],''))\n",
    "        except:\n",
    "             print('weird format'+x)\n",
    "                                               \n",
    "        else:\n",
    "            return 1   #the 3 cases\n",
    "\n",
    "                         \n",
    "    \n",
    "\n",
    "def treatUnits(Original):\n",
    "    Treated = Original.copy()\n",
    "    for elem in dicUnits:\n",
    "        if elem == 'Popularity':\n",
    "            Treated[str(elem)]=Original[str(elem)].apply(lambda x : float(str(x).replace(dicUnits[str(elem)],'000')))\n",
    "        else:\n",
    "            Treated[str(elem)]=Original[str(elem)].apply(lambda x : replaceUnits(x,elem))\n",
    "    return Treated"
   ]
  },
  {
   "cell_type": "code",
   "execution_count": 43,
   "metadata": {},
   "outputs": [
    {
     "name": "stdout",
     "output_type": "stream",
     "text": [
      "weird format&lt; 1mg\n"
     ]
    },
    {
     "data": {
      "text/html": [
       "<div>\n",
       "<style scoped>\n",
       "    .dataframe tbody tr th:only-of-type {\n",
       "        vertical-align: middle;\n",
       "    }\n",
       "\n",
       "    .dataframe tbody tr th {\n",
       "        vertical-align: top;\n",
       "    }\n",
       "\n",
       "    .dataframe thead th {\n",
       "        text-align: right;\n",
       "    }\n",
       "</style>\n",
       "<table border=\"1\" class=\"dataframe\">\n",
       "  <thead>\n",
       "    <tr style=\"text-align: right;\">\n",
       "      <th></th>\n",
       "      <th>Calcium</th>\n",
       "      <th>Calories</th>\n",
       "      <th>Cholesterol</th>\n",
       "      <th>Dietary Fiber</th>\n",
       "      <th>Folate</th>\n",
       "      <th>Iron</th>\n",
       "      <th>Magnesium</th>\n",
       "      <th>Niacin</th>\n",
       "      <th>Popularity</th>\n",
       "      <th>Potassium</th>\n",
       "      <th>...</th>\n",
       "      <th>Saturated Fat</th>\n",
       "      <th>Sodium</th>\n",
       "      <th>Sugars</th>\n",
       "      <th>Thiamin</th>\n",
       "      <th>Title</th>\n",
       "      <th>Total Carbohydrates</th>\n",
       "      <th>Total Fat</th>\n",
       "      <th>Vitamin A</th>\n",
       "      <th>Vitamin B6</th>\n",
       "      <th>Vitamin C</th>\n",
       "    </tr>\n",
       "  </thead>\n",
       "  <tbody>\n",
       "    <tr>\n",
       "      <th>Fresh Shrimp Boil</th>\n",
       "      <td>193.0</td>\n",
       "      <td>420</td>\n",
       "      <td>376.0</td>\n",
       "      <td>4.0</td>\n",
       "      <td>47.0</td>\n",
       "      <td>7.0</td>\n",
       "      <td>115.0</td>\n",
       "      <td>15.0</td>\n",
       "      <td>27.0</td>\n",
       "      <td>709.0</td>\n",
       "      <td>...</td>\n",
       "      <td>8.0</td>\n",
       "      <td>7527.0</td>\n",
       "      <td>3.0</td>\n",
       "      <td>0.0</td>\n",
       "      <td>Fresh Shrimp Boil</td>\n",
       "      <td>19.9</td>\n",
       "      <td>15.2</td>\n",
       "      <td>4876IU</td>\n",
       "      <td>1.0</td>\n",
       "      <td>22.0</td>\n",
       "    </tr>\n",
       "    <tr>\n",
       "      <th>Low-Carb Jicama Tostadas</th>\n",
       "      <td>18.0</td>\n",
       "      <td>57</td>\n",
       "      <td>0.0</td>\n",
       "      <td>7.4</td>\n",
       "      <td>18.0</td>\n",
       "      <td>1.0</td>\n",
       "      <td>18.0</td>\n",
       "      <td>0.0</td>\n",
       "      <td>3.0</td>\n",
       "      <td>225.0</td>\n",
       "      <td>...</td>\n",
       "      <td>0.0</td>\n",
       "      <td>6.0</td>\n",
       "      <td>3.0</td>\n",
       "      <td>0.0</td>\n",
       "      <td>Low-Carb Jicama Tostadas</td>\n",
       "      <td>13.2</td>\n",
       "      <td>0.1</td>\n",
       "      <td>32IU</td>\n",
       "      <td>0.0</td>\n",
       "      <td>30.0</td>\n",
       "    </tr>\n",
       "    <tr>\n",
       "      <th>Best Fish Tacos</th>\n",
       "      <td>80.0</td>\n",
       "      <td>322</td>\n",
       "      <td>35.0</td>\n",
       "      <td>3.8</td>\n",
       "      <td>88.0</td>\n",
       "      <td>3.0</td>\n",
       "      <td>48.0</td>\n",
       "      <td>6.0</td>\n",
       "      <td>3.0</td>\n",
       "      <td>591.0</td>\n",
       "      <td>...</td>\n",
       "      <td>3.0</td>\n",
       "      <td>833.0</td>\n",
       "      <td>2.0</td>\n",
       "      <td>0.0</td>\n",
       "      <td>Best Fish Tacos</td>\n",
       "      <td>34.6</td>\n",
       "      <td>9.0</td>\n",
       "      <td>1043IU</td>\n",
       "      <td>0.0</td>\n",
       "      <td>18.0</td>\n",
       "    </tr>\n",
       "    <tr>\n",
       "      <th>Crispy Pork Carnitas</th>\n",
       "      <td>35.0</td>\n",
       "      <td>317</td>\n",
       "      <td>89.0</td>\n",
       "      <td>0.4</td>\n",
       "      <td>5.0</td>\n",
       "      <td>2.0</td>\n",
       "      <td>23.0</td>\n",
       "      <td>10.0</td>\n",
       "      <td>268.0</td>\n",
       "      <td>371.0</td>\n",
       "      <td>...</td>\n",
       "      <td>6.0</td>\n",
       "      <td>1036.0</td>\n",
       "      <td>0.0</td>\n",
       "      <td>1.0</td>\n",
       "      <td>Crispy Pork Carnitas</td>\n",
       "      <td>2.1</td>\n",
       "      <td>22.6</td>\n",
       "      <td>17IU</td>\n",
       "      <td>0.0</td>\n",
       "      <td>2.0</td>\n",
       "    </tr>\n",
       "    <tr>\n",
       "      <th>Jeannie's Vegetarian Enchiladas</th>\n",
       "      <td>376.0</td>\n",
       "      <td>626</td>\n",
       "      <td>59.0</td>\n",
       "      <td>9.6</td>\n",
       "      <td>193.0</td>\n",
       "      <td>6.0</td>\n",
       "      <td>77.0</td>\n",
       "      <td>8.0</td>\n",
       "      <td>1.0</td>\n",
       "      <td>818.0</td>\n",
       "      <td>...</td>\n",
       "      <td>15.0</td>\n",
       "      <td>1138.0</td>\n",
       "      <td>5.0</td>\n",
       "      <td>1.0</td>\n",
       "      <td>Jeannie's Vegetarian Enchiladas</td>\n",
       "      <td>67.2</td>\n",
       "      <td>31.2</td>\n",
       "      <td>2569IU</td>\n",
       "      <td>0.0</td>\n",
       "      <td>49.0</td>\n",
       "    </tr>\n",
       "  </tbody>\n",
       "</table>\n",
       "<p>5 rows × 24 columns</p>\n",
       "</div>"
      ],
      "text/plain": [
       "                                  Calcium  Calories  Cholesterol  \\\n",
       "Fresh Shrimp Boil                   193.0       420        376.0   \n",
       "Low-Carb Jicama Tostadas             18.0        57          0.0   \n",
       "Best Fish Tacos                      80.0       322         35.0   \n",
       "Crispy Pork Carnitas                 35.0       317         89.0   \n",
       "Jeannie's Vegetarian Enchiladas     376.0       626         59.0   \n",
       "\n",
       "                                  Dietary Fiber  Folate  Iron  Magnesium  \\\n",
       "Fresh Shrimp Boil                           4.0    47.0   7.0      115.0   \n",
       "Low-Carb Jicama Tostadas                    7.4    18.0   1.0       18.0   \n",
       "Best Fish Tacos                             3.8    88.0   3.0       48.0   \n",
       "Crispy Pork Carnitas                        0.4     5.0   2.0       23.0   \n",
       "Jeannie's Vegetarian Enchiladas             9.6   193.0   6.0       77.0   \n",
       "\n",
       "                                  Niacin  Popularity  Potassium    ...      \\\n",
       "Fresh Shrimp Boil                   15.0        27.0      709.0    ...       \n",
       "Low-Carb Jicama Tostadas             0.0         3.0      225.0    ...       \n",
       "Best Fish Tacos                      6.0         3.0      591.0    ...       \n",
       "Crispy Pork Carnitas                10.0       268.0      371.0    ...       \n",
       "Jeannie's Vegetarian Enchiladas      8.0         1.0      818.0    ...       \n",
       "\n",
       "                                  Saturated Fat  Sodium Sugars Thiamin  \\\n",
       "Fresh Shrimp Boil                           8.0  7527.0    3.0     0.0   \n",
       "Low-Carb Jicama Tostadas                    0.0     6.0    3.0     0.0   \n",
       "Best Fish Tacos                             3.0   833.0    2.0     0.0   \n",
       "Crispy Pork Carnitas                        6.0  1036.0    0.0     1.0   \n",
       "Jeannie's Vegetarian Enchiladas            15.0  1138.0    5.0     1.0   \n",
       "\n",
       "                                                             Title  \\\n",
       "Fresh Shrimp Boil                                Fresh Shrimp Boil   \n",
       "Low-Carb Jicama Tostadas                  Low-Carb Jicama Tostadas   \n",
       "Best Fish Tacos                                   Best Fish Tacos    \n",
       "Crispy Pork Carnitas                          Crispy Pork Carnitas   \n",
       "Jeannie's Vegetarian Enchiladas   Jeannie's Vegetarian Enchiladas    \n",
       "\n",
       "                                  Total Carbohydrates  Total Fat  Vitamin A  \\\n",
       "Fresh Shrimp Boil                                19.9       15.2     4876IU   \n",
       "Low-Carb Jicama Tostadas                         13.2        0.1       32IU   \n",
       "Best Fish Tacos                                  34.6        9.0     1043IU   \n",
       "Crispy Pork Carnitas                              2.1       22.6       17IU   \n",
       "Jeannie's Vegetarian Enchiladas                  67.2       31.2     2569IU   \n",
       "\n",
       "                                 Vitamin B6  Vitamin C  \n",
       "Fresh Shrimp Boil                       1.0       22.0  \n",
       "Low-Carb Jicama Tostadas                0.0       30.0  \n",
       "Best Fish Tacos                         0.0       18.0  \n",
       "Crispy Pork Carnitas                    0.0        2.0  \n",
       "Jeannie's Vegetarian Enchiladas         0.0       49.0  \n",
       "\n",
       "[5 rows x 24 columns]"
      ]
     },
     "execution_count": 43,
     "metadata": {},
     "output_type": "execute_result"
    }
   ],
   "source": [
    "#Full = pd.read_csv('data/fullData.csv',index_col = 0)\n",
    "Full = treatUnits(Full)\n",
    "Full.to_csv('data/fullTreated.csv')\n",
    "Full.head()"
   ]
  },
  {
   "cell_type": "code",
   "execution_count": 44,
   "metadata": {},
   "outputs": [
    {
     "data": {
      "text/plain": [
       "count    18.000000\n",
       "mean     12.111111\n",
       "std      10.498677\n",
       "min       0.000000\n",
       "25%       5.000000\n",
       "50%       8.500000\n",
       "75%      19.750000\n",
       "max      33.000000\n",
       "Name: Saturated Fat, dtype: float64"
      ]
     },
     "execution_count": 44,
     "metadata": {},
     "output_type": "execute_result"
    }
   ],
   "source": [
    "#Example of what we can get with this dataset\n",
    "\n",
    "treatUnits(French)['Saturated Fat'].describe()"
   ]
  },
  {
   "cell_type": "markdown",
   "metadata": {},
   "source": [
    "## Working with ingredients ##\n",
    "\n",
    "We want to be able to work and exploit the ingredient list. To that end, we have to be able to separate each ingredients from its quantity, and this is the goal of the function ingr2dic.For each item, it retrieves the name, unit and quantity. It also takes cares of several formatting styles such as '1/2 can (16 ounces)' which will be  converted to grams, the '1/8 lettuce' which will be converted to '0.125', 'lettuce', 'no unit'.\n",
    "\n",
    "We are however interesting in getting the quantity in grams of our fruits and vegetables for our future nutriscore calculations. We thus scrapped two other webpages with a list of fruits and vegetables, converted the veggies in plural form to their singular counterparts, and exported the list as a csv.\n",
    "\n",
    "With that list, we are able to run the list with the ingredients of the recipes (loaded from the json as a dictionary), and when it matches, retrieve the weight of the given fruit by looking in the Veg2Quant lookup table and multiplying by the quantity. The sum of vegetable-based ingredients is computed in the getIngGram() function."
   ]
  },
  {
   "cell_type": "code",
   "execution_count": 45,
   "metadata": {},
   "outputs": [],
   "source": [
    "def ingr2dic(ingredients):\n",
    "    ingredientDic = {}\n",
    "    itera = 0\n",
    "    for i in ingredients:\n",
    "        itera = itera+1\n",
    "        parsed = re.match('(\\d+([\\.,\\/]\\d+)?)\\s+((g|ml|pinch|clove)\\s)?', i)   #needs improvement\n",
    "        if (parsed) != None:\n",
    "            dic = {}\n",
    "\n",
    "            if i.find(',')>0:\n",
    "                name = i[len(parsed[0]):i.find(',')]\n",
    "            else:\n",
    "                name = i[len(parsed[0]):]\n",
    "            dic['name']=name\n",
    "            dic['unit']     = parsed[4]\n",
    "            \n",
    "            #Converting the '1/8 lettuce' to decimal form '0.125 lettuce'\n",
    "            if re.match('\\d\\/\\d+',parsed[1]):\n",
    "                p = re.match('(\\d)\\/(\\d)',parsed[1])\n",
    "                dic['quantity']     = float(p[1])/int(p[2])\n",
    "            else:    \n",
    "                dic['quantity'] = parsed[1]\n",
    "                \n",
    "            #conversion from ounces\n",
    "            parsed = re.match('\\((\\d+(\\.\\d+?)?)\\s+(ounce)\\)', name)\n",
    "            if parsed != None:\n",
    "                name = name[len(parsed[0]):]\n",
    "                dic['name']=name\n",
    "                dic['quantity'] = int(28.3*float(parsed[1]))\n",
    "                dic['unit']     = 'g'\n",
    "            \n",
    "            ingredientDic[str(itera)]=dic\n",
    "    return ingredientDic"
   ]
  },
  {
   "cell_type": "code",
   "execution_count": 46,
   "metadata": {},
   "outputs": [],
   "source": [
    "#Getting a list of vegetables and fruits to compare through web scraping\n",
    "\n",
    "url = 'http://vegetablesfruitsgrains.com/list-of-vegetables/'\n",
    "r=requests.get(url)\n",
    "soup = BeautifulSoup(r.text.encode('utf-8'),'lxml')    \n",
    "a = soup.findAll('li')\n",
    "url = 'http://vegetablesfruitsgrains.com/list-of-fruits/'\n",
    "r=requests.get(url)\n",
    "soup = BeautifulSoup(r.text.encode('utf-8'),'lxml')    \n",
    "b = soup.findAll('li')\n",
    "vegies = []\n",
    "for i in a:\n",
    "    if '>' not in str(i.contents[0]):\n",
    "        c=str(i.contents[0]).split('/')\n",
    "        for j in c:\n",
    "            d=j.split('-')[0]\n",
    "            vegies.append(d)\n",
    "for i in b:\n",
    "    if '>' not in str(i.contents[0]):\n",
    "        c=str(i.contents[0]).split('/')\n",
    "        for j in c:\n",
    "            d=j.split('-')[0]\n",
    "            vegies.append(d)\n",
    "            \n",
    "with open('data/vegies.csv', 'w') as myfile:\n",
    "    wr = csv.writer(myfile, quoting=csv.QUOTE_ALL)\n",
    "    wr.writerow(vegies)\n"
   ]
  },
  {
   "cell_type": "code",
   "execution_count": 47,
   "metadata": {},
   "outputs": [],
   "source": [
    "#reading vegies.csv\n",
    "with open('data/vegies.csv', 'r') as myfile:\n",
    "    r = csv.reader(myfile)\n",
    "    veg = list(r)[0]\n",
    "\n",
    "#Adding non plural forms\n",
    "for i in veg:\n",
    "    if i[-1]=='s':\n",
    "        veg.append(i[:-1])"
   ]
  },
  {
   "cell_type": "code",
   "execution_count": 48,
   "metadata": {},
   "outputs": [],
   "source": [
    "#reading vegies.csv\n",
    "with open('data/vegies.csv', 'r') as myfile:\n",
    "    r = csv.reader(myfile)\n",
    "    veg = list(r)[0]\n",
    "\n",
    "#Adding non plural forms\n",
    "for i in veg:\n",
    "    if i[-1]=='s':\n",
    "        veg.append(i[:-1])\n",
    "        \n",
    "#Vegetable Grammage dictionnary: for milestone 2\n",
    "\n",
    "#Would be better to have everything in the Veg list and have it as a JSON!\n",
    "\n",
    "Veg2QuantDic={}\n",
    "Veg2QuantDic['tomato']=100\n",
    "Veg2QuantDic['lime']= 50\n",
    "Veg2QuantDic['lemon']= 100\n",
    "Veg2QuantDic['lettuce']= 700\n",
    "Veg2QuantDic['orange']= 130\n",
    "Veg2QuantDic['oranges']= 130\n",
    "Veg2QuantDic['onion']= 100\n",
    "Veg2QuantDic['pepper']= 160\n",
    "Veg2QuantDic['grapefruit']= 400\n",
    "Veg2QuantDic['avocado']= 220\n",
    "Veg2QuantDic['banana']= 120\n",
    "Veg2QuantDic['potato']= 140\n",
    "Veg2QuantDic['peach']= 120\n",
    "Veg2QuantDic['carrot']= 130\n",
    "Veg2QuantDic['peppers']= 160\n",
    "Veg2QuantDic['bell pepper']= 160\n",
    "Veg2QuantDic['celery']= 120\n",
    "Veg2QuantDic['cabbage']= 300\n",
    "Veg2QuantDic['leaf']= 200\n",
    "Veg2QuantDic['shallot']= 100\n",
    "Veg2QuantDic['shallots']= 100\n",
    "Veg2QuantDic['eggplant']= 225\n",
    "Veg2QuantDic['cucumber']= 250\n",
    "Veg2QuantDic['parsley']= 50\n",
    "Veg2QuantDic['zucchini']= 200\n",
    "Veg2QuantDic['ginger']= 100\n",
    "Veg2QuantDic['garlic']= 10\n",
    "Veg2QuantDic['peas']= 100\n",
    "Veg2QuantDic['bok choy']= 100\n",
    "Veg2QuantDic['squash']= 300\n",
    "Veg2QuantDic['olive']= 50\n",
    "Veg2QuantDic['kale']= 200\n",
    "Veg2QuantDic['broccoli']= 400\n",
    "Veg2QuantDic['mango']= 300\n",
    "Veg2QuantDic['lemongrass']= 100\n",
    "Veg2QuantDic['mushrooms']= 100\n",
    "Veg2QuantDic['rutabaga']= 160\n",
    "Veg2QuantDic['spinach']= 200\n",
    "Veg2QuantDic['leeks']= 200\n",
    "Veg2QuantDic['leek']= 200\n",
    "Veg2QuantDic['corn']= 100\n",
    "Veg2QuantDic['apple']= 160\n",
    "Veg2QuantDic['pumpkin']= 3000\n",
    "Veg2QuantDic['cauliflower']= 500\n",
    "Veg2QuantDic['beet']= 160\n",
    "Veg2QuantDic['green']= 100\n",
    "Veg2QuantDic['greens']= 100\n",
    "\n",
    "with open('data/veggies.json', 'w') as f:\n",
    "        json.dump(Veg2QuantDic, f)"
   ]
  },
  {
   "cell_type": "code",
   "execution_count": 49,
   "metadata": {},
   "outputs": [],
   "source": [
    "def getVegGrams(a, ref):\n",
    "    #Iterate through ingredient list, parse quantities, and detect veggetables\n",
    "    #If a vegetable correspond to a list value, add it to the weight\n",
    "    \n",
    "    \n",
    "    recipe = ingr2dic(a[ref]['Ingredients'])\n",
    "\n",
    "    quantity = 0\n",
    "    for ingredient in recipe:\n",
    "        name = recipe[ingredient]['name'].lower()\n",
    "       # print(name)\n",
    "        for word in veg:\n",
    "            if word.lower() in name:\n",
    "        #if any(word.lower() in name for word in veg):\n",
    "                tmpQuantity = 0\n",
    "                if recipe[ingredient]['unit'] == 'g':\n",
    "                    tmpQuantity = float(recipe[ingredient]['quantity'])\n",
    "                else:\n",
    "                    if recipe[ingredient]['unit'] == None:\n",
    "                        if word.lower() in Veg2QuantDic.keys():\n",
    "                            tmpQuantity = float(Veg2QuantDic[word.lower()])*recipe[ingredient]['quantity']\n",
    "                        else:\n",
    "                            print(\"Add to Dic:\" + word.lower())\n",
    "                            tmpQuantity = 60 #estimated guess\n",
    "                quantity = tmpQuantity + quantity          \n",
    "                print(\"Detected: \\t\\t\" + str(word.lower()) + ' : ' + str(tmpQuantity) + ' g')\n",
    "                break  #avoid multiple detection\n",
    "    return int(quantity)"
   ]
  },
  {
   "cell_type": "code",
   "execution_count": 50,
   "metadata": {},
   "outputs": [
    {
     "data": {
      "text/plain": [
       "{'1': {'name': 'vegetable oil', 'unit': 'ml', 'quantity': '4'},\n",
       " '2': {'name': 'bunch green onions', 'unit': None, 'quantity': 0.25},\n",
       " '3': {'name': 'large red bell pepper', 'unit': None, 'quantity': 0.125},\n",
       " '4': {'name': 'garlic', 'unit': 'clove', 'quantity': 0.375},\n",
       " '5': {'name': 'large tomato', 'unit': None, 'quantity': 0.125},\n",
       " '6': {'name': 'sliced black olives', 'unit': 'g', 'quantity': '9'},\n",
       " '7': {'name': 'jalapeno peppers', 'unit': None, 'quantity': 0.25},\n",
       " '8': {'name': 'drained canned black beans', 'unit': 'g', 'quantity': '60'},\n",
       " '9': {'name': 'cooked white rice', 'unit': 'g', 'quantity': '30'},\n",
       " '10': {'name': ' package cream cheese', 'unit': 'g', 'quantity': 226},\n",
       " '11': {'name': 'shredded Cheddar cheese', 'unit': 'g', 'quantity': '20'},\n",
       " '12': {'name': 'chopped fresh cilantro', 'unit': 'g', 'quantity': '3'},\n",
       " '13': {'name': 'lime', 'unit': None, 'quantity': 0.125},\n",
       " '14': {'name': 'dash hot sauce (such as Tabasco(R))',\n",
       "  'unit': None,\n",
       "  'quantity': 0.125},\n",
       " '15': {'name': ' can enchilada sauce', 'unit': 'g', 'quantity': 226},\n",
       " '16': {'name': '(10 inch) flour tortillas', 'unit': None, 'quantity': '1'},\n",
       " '17': {'name': 'sour cream', 'unit': 'g', 'quantity': '15'}}"
      ]
     },
     "execution_count": 50,
     "metadata": {},
     "output_type": "execute_result"
    }
   ],
   "source": [
    "with open('data/mexican'+'.json', 'rb') as f:\n",
    "        a=json.load(f)\n",
    "ingr2dic(a['258250/jeannies-vegetarian-enchiladas/']['Ingredients'])\n",
    "#dico compare"
   ]
  },
  {
   "cell_type": "code",
   "execution_count": 51,
   "metadata": {},
   "outputs": [
    {
     "name": "stdout",
     "output_type": "stream",
     "text": [
      "Detected: \t\tonion : 25.0 g\n",
      "Detected: \t\tbell pepper : 20.0 g\n",
      "Detected: \t\tgarlic : 0 g\n",
      "Detected: \t\ttomato : 12.5 g\n",
      "Detected: \t\tolive : 9.0 g\n",
      "Detected: \t\tpeppers : 40.0 g\n",
      "Detected: \t\tbeans : 60.0 g\n",
      "Detected: \t\tlime : 6.25 g\n",
      "\n",
      " Grams of vegetables detected: 172 g .\n"
     ]
    }
   ],
   "source": [
    "with open('data/mexican'+'.json', 'rb') as f:\n",
    "        a=json.load(f)\n",
    "                    \n",
    "ref = '258250/jeannies-vegetarian-enchiladas/'\n",
    "\n",
    "print('\\n Grams of vegetables detected: ' + str(getVegGrams(a,ref)) + ' g .')"
   ]
  },
  {
   "cell_type": "markdown",
   "metadata": {},
   "source": [
    "# Nutriscore calculations #\n",
    "\n",
    "Let's calculate the nutriscore for every recipe. Documentation for the formulas are available at the following link:\n",
    "\n",
    "\n",
    "This will be done in three steps:\n",
    "\n",
    "1) Calculating the weight of every vegetable based products in the recipes\n",
    "\n",
    "2) Calculating the total weight of the recipe, in order to normalize every unit to a 100g serving\n",
    "\n",
    "3) Applying formulas\n"
   ]
  },
  {
   "cell_type": "code",
   "execution_count": 52,
   "metadata": {},
   "outputs": [
    {
     "data": {
      "text/html": [
       "<div>\n",
       "<style scoped>\n",
       "    .dataframe tbody tr th:only-of-type {\n",
       "        vertical-align: middle;\n",
       "    }\n",
       "\n",
       "    .dataframe tbody tr th {\n",
       "        vertical-align: top;\n",
       "    }\n",
       "\n",
       "    .dataframe thead th {\n",
       "        text-align: right;\n",
       "    }\n",
       "</style>\n",
       "<table border=\"1\" class=\"dataframe\">\n",
       "  <thead>\n",
       "    <tr style=\"text-align: right;\">\n",
       "      <th></th>\n",
       "      <th>Calcium</th>\n",
       "      <th>Calories</th>\n",
       "      <th>Cholesterol</th>\n",
       "      <th>Dietary Fiber</th>\n",
       "      <th>Folate</th>\n",
       "      <th>Iron</th>\n",
       "      <th>Magnesium</th>\n",
       "      <th>Niacin</th>\n",
       "      <th>Popularity</th>\n",
       "      <th>Potassium</th>\n",
       "      <th>...</th>\n",
       "      <th>Saturated Fat</th>\n",
       "      <th>Sodium</th>\n",
       "      <th>Sugars</th>\n",
       "      <th>Thiamin</th>\n",
       "      <th>Title</th>\n",
       "      <th>Total Carbohydrates</th>\n",
       "      <th>Total Fat</th>\n",
       "      <th>Vitamin A</th>\n",
       "      <th>Vitamin B6</th>\n",
       "      <th>Vitamin C</th>\n",
       "    </tr>\n",
       "  </thead>\n",
       "  <tbody>\n",
       "    <tr>\n",
       "      <th>Fresh Shrimp Boil</th>\n",
       "      <td>193.0</td>\n",
       "      <td>420</td>\n",
       "      <td>376.0</td>\n",
       "      <td>4.0</td>\n",
       "      <td>47.0</td>\n",
       "      <td>7.0</td>\n",
       "      <td>115.0</td>\n",
       "      <td>15.0</td>\n",
       "      <td>27.0</td>\n",
       "      <td>709.0</td>\n",
       "      <td>...</td>\n",
       "      <td>8.0</td>\n",
       "      <td>7527.0</td>\n",
       "      <td>3.0</td>\n",
       "      <td>0.0</td>\n",
       "      <td>Fresh Shrimp Boil</td>\n",
       "      <td>19.9</td>\n",
       "      <td>15.2</td>\n",
       "      <td>4876IU</td>\n",
       "      <td>1.0</td>\n",
       "      <td>22.0</td>\n",
       "    </tr>\n",
       "    <tr>\n",
       "      <th>Low-Carb Jicama Tostadas</th>\n",
       "      <td>18.0</td>\n",
       "      <td>57</td>\n",
       "      <td>0.0</td>\n",
       "      <td>7.4</td>\n",
       "      <td>18.0</td>\n",
       "      <td>1.0</td>\n",
       "      <td>18.0</td>\n",
       "      <td>0.0</td>\n",
       "      <td>3.0</td>\n",
       "      <td>225.0</td>\n",
       "      <td>...</td>\n",
       "      <td>0.0</td>\n",
       "      <td>6.0</td>\n",
       "      <td>3.0</td>\n",
       "      <td>0.0</td>\n",
       "      <td>Low-Carb Jicama Tostadas</td>\n",
       "      <td>13.2</td>\n",
       "      <td>0.1</td>\n",
       "      <td>32IU</td>\n",
       "      <td>0.0</td>\n",
       "      <td>30.0</td>\n",
       "    </tr>\n",
       "    <tr>\n",
       "      <th>Best Fish Tacos</th>\n",
       "      <td>80.0</td>\n",
       "      <td>322</td>\n",
       "      <td>35.0</td>\n",
       "      <td>3.8</td>\n",
       "      <td>88.0</td>\n",
       "      <td>3.0</td>\n",
       "      <td>48.0</td>\n",
       "      <td>6.0</td>\n",
       "      <td>3.0</td>\n",
       "      <td>591.0</td>\n",
       "      <td>...</td>\n",
       "      <td>3.0</td>\n",
       "      <td>833.0</td>\n",
       "      <td>2.0</td>\n",
       "      <td>0.0</td>\n",
       "      <td>Best Fish Tacos</td>\n",
       "      <td>34.6</td>\n",
       "      <td>9.0</td>\n",
       "      <td>1043IU</td>\n",
       "      <td>0.0</td>\n",
       "      <td>18.0</td>\n",
       "    </tr>\n",
       "    <tr>\n",
       "      <th>Crispy Pork Carnitas</th>\n",
       "      <td>35.0</td>\n",
       "      <td>317</td>\n",
       "      <td>89.0</td>\n",
       "      <td>0.4</td>\n",
       "      <td>5.0</td>\n",
       "      <td>2.0</td>\n",
       "      <td>23.0</td>\n",
       "      <td>10.0</td>\n",
       "      <td>268.0</td>\n",
       "      <td>371.0</td>\n",
       "      <td>...</td>\n",
       "      <td>6.0</td>\n",
       "      <td>1036.0</td>\n",
       "      <td>0.0</td>\n",
       "      <td>1.0</td>\n",
       "      <td>Crispy Pork Carnitas</td>\n",
       "      <td>2.1</td>\n",
       "      <td>22.6</td>\n",
       "      <td>17IU</td>\n",
       "      <td>0.0</td>\n",
       "      <td>2.0</td>\n",
       "    </tr>\n",
       "    <tr>\n",
       "      <th>Jeannie's Vegetarian Enchiladas</th>\n",
       "      <td>376.0</td>\n",
       "      <td>626</td>\n",
       "      <td>59.0</td>\n",
       "      <td>9.6</td>\n",
       "      <td>193.0</td>\n",
       "      <td>6.0</td>\n",
       "      <td>77.0</td>\n",
       "      <td>8.0</td>\n",
       "      <td>1.0</td>\n",
       "      <td>818.0</td>\n",
       "      <td>...</td>\n",
       "      <td>15.0</td>\n",
       "      <td>1138.0</td>\n",
       "      <td>5.0</td>\n",
       "      <td>1.0</td>\n",
       "      <td>Jeannie's Vegetarian Enchiladas</td>\n",
       "      <td>67.2</td>\n",
       "      <td>31.2</td>\n",
       "      <td>2569IU</td>\n",
       "      <td>0.0</td>\n",
       "      <td>49.0</td>\n",
       "    </tr>\n",
       "    <tr>\n",
       "      <th>Mexican Corn Bread Casserole</th>\n",
       "      <td>168.0</td>\n",
       "      <td>304</td>\n",
       "      <td>101.0</td>\n",
       "      <td>1.9</td>\n",
       "      <td>58.0</td>\n",
       "      <td>2.0</td>\n",
       "      <td>28.0</td>\n",
       "      <td>6.0</td>\n",
       "      <td>21.0</td>\n",
       "      <td>372.0</td>\n",
       "      <td>...</td>\n",
       "      <td>8.0</td>\n",
       "      <td>708.0</td>\n",
       "      <td>4.0</td>\n",
       "      <td>0.0</td>\n",
       "      <td>Mexican Corn Bread Casserole</td>\n",
       "      <td>21.5</td>\n",
       "      <td>16.3</td>\n",
       "      <td>840IU</td>\n",
       "      <td>0.0</td>\n",
       "      <td>12.0</td>\n",
       "    </tr>\n",
       "    <tr>\n",
       "      <th>Cochinita Pibil (Mexican Pulled Pork in Annatto Sauce)</th>\n",
       "      <td>56.0</td>\n",
       "      <td>422</td>\n",
       "      <td>122.0</td>\n",
       "      <td>0.9</td>\n",
       "      <td>28.0</td>\n",
       "      <td>2.0</td>\n",
       "      <td>49.0</td>\n",
       "      <td>16.0</td>\n",
       "      <td>3.0</td>\n",
       "      <td>811.0</td>\n",
       "      <td>...</td>\n",
       "      <td>9.0</td>\n",
       "      <td>1334.0</td>\n",
       "      <td>5.0</td>\n",
       "      <td>2.0</td>\n",
       "      <td>Cochinita Pibil (Mexican Pulled Pork in Annatt...</td>\n",
       "      <td>8.3</td>\n",
       "      <td>25.6</td>\n",
       "      <td>158IU</td>\n",
       "      <td>1.0</td>\n",
       "      <td>31.0</td>\n",
       "    </tr>\n",
       "    <tr>\n",
       "      <th>Authentic Mexican Chili Rellenos</th>\n",
       "      <td>312.0</td>\n",
       "      <td>263</td>\n",
       "      <td>102.0</td>\n",
       "      <td>1.1</td>\n",
       "      <td>50.0</td>\n",
       "      <td>2.0</td>\n",
       "      <td>26.0</td>\n",
       "      <td>3.0</td>\n",
       "      <td>519.0</td>\n",
       "      <td>217.0</td>\n",
       "      <td>...</td>\n",
       "      <td>8.0</td>\n",
       "      <td>357.0</td>\n",
       "      <td>3.0</td>\n",
       "      <td>0.0</td>\n",
       "      <td>Authentic Mexican Chili Rellenos</td>\n",
       "      <td>17.3</td>\n",
       "      <td>16.0</td>\n",
       "      <td>594IU</td>\n",
       "      <td>0.0</td>\n",
       "      <td>65.0</td>\n",
       "    </tr>\n",
       "  </tbody>\n",
       "</table>\n",
       "<p>8 rows × 24 columns</p>\n",
       "</div>"
      ],
      "text/plain": [
       "                                                    Calcium  Calories  \\\n",
       "Fresh Shrimp Boil                                     193.0       420   \n",
       "Low-Carb Jicama Tostadas                               18.0        57   \n",
       "Best Fish Tacos                                        80.0       322   \n",
       "Crispy Pork Carnitas                                   35.0       317   \n",
       "Jeannie's Vegetarian Enchiladas                       376.0       626   \n",
       "Mexican Corn Bread Casserole                          168.0       304   \n",
       "Cochinita Pibil (Mexican Pulled Pork in Annatto...     56.0       422   \n",
       "Authentic Mexican Chili Rellenos                      312.0       263   \n",
       "\n",
       "                                                    Cholesterol  \\\n",
       "Fresh Shrimp Boil                                         376.0   \n",
       "Low-Carb Jicama Tostadas                                    0.0   \n",
       "Best Fish Tacos                                            35.0   \n",
       "Crispy Pork Carnitas                                       89.0   \n",
       "Jeannie's Vegetarian Enchiladas                            59.0   \n",
       "Mexican Corn Bread Casserole                              101.0   \n",
       "Cochinita Pibil (Mexican Pulled Pork in Annatto...        122.0   \n",
       "Authentic Mexican Chili Rellenos                          102.0   \n",
       "\n",
       "                                                    Dietary Fiber  Folate  \\\n",
       "Fresh Shrimp Boil                                             4.0    47.0   \n",
       "Low-Carb Jicama Tostadas                                      7.4    18.0   \n",
       "Best Fish Tacos                                               3.8    88.0   \n",
       "Crispy Pork Carnitas                                          0.4     5.0   \n",
       "Jeannie's Vegetarian Enchiladas                               9.6   193.0   \n",
       "Mexican Corn Bread Casserole                                  1.9    58.0   \n",
       "Cochinita Pibil (Mexican Pulled Pork in Annatto...            0.9    28.0   \n",
       "Authentic Mexican Chili Rellenos                              1.1    50.0   \n",
       "\n",
       "                                                    Iron  Magnesium  Niacin  \\\n",
       "Fresh Shrimp Boil                                    7.0      115.0    15.0   \n",
       "Low-Carb Jicama Tostadas                             1.0       18.0     0.0   \n",
       "Best Fish Tacos                                      3.0       48.0     6.0   \n",
       "Crispy Pork Carnitas                                 2.0       23.0    10.0   \n",
       "Jeannie's Vegetarian Enchiladas                      6.0       77.0     8.0   \n",
       "Mexican Corn Bread Casserole                         2.0       28.0     6.0   \n",
       "Cochinita Pibil (Mexican Pulled Pork in Annatto...   2.0       49.0    16.0   \n",
       "Authentic Mexican Chili Rellenos                     2.0       26.0     3.0   \n",
       "\n",
       "                                                    Popularity  Potassium  \\\n",
       "Fresh Shrimp Boil                                         27.0      709.0   \n",
       "Low-Carb Jicama Tostadas                                   3.0      225.0   \n",
       "Best Fish Tacos                                            3.0      591.0   \n",
       "Crispy Pork Carnitas                                     268.0      371.0   \n",
       "Jeannie's Vegetarian Enchiladas                            1.0      818.0   \n",
       "Mexican Corn Bread Casserole                              21.0      372.0   \n",
       "Cochinita Pibil (Mexican Pulled Pork in Annatto...         3.0      811.0   \n",
       "Authentic Mexican Chili Rellenos                         519.0      217.0   \n",
       "\n",
       "                                                      ...      Saturated Fat  \\\n",
       "Fresh Shrimp Boil                                     ...                8.0   \n",
       "Low-Carb Jicama Tostadas                              ...                0.0   \n",
       "Best Fish Tacos                                       ...                3.0   \n",
       "Crispy Pork Carnitas                                  ...                6.0   \n",
       "Jeannie's Vegetarian Enchiladas                       ...               15.0   \n",
       "Mexican Corn Bread Casserole                          ...                8.0   \n",
       "Cochinita Pibil (Mexican Pulled Pork in Annatto...    ...                9.0   \n",
       "Authentic Mexican Chili Rellenos                      ...                8.0   \n",
       "\n",
       "                                                    Sodium Sugars Thiamin  \\\n",
       "Fresh Shrimp Boil                                   7527.0    3.0     0.0   \n",
       "Low-Carb Jicama Tostadas                               6.0    3.0     0.0   \n",
       "Best Fish Tacos                                      833.0    2.0     0.0   \n",
       "Crispy Pork Carnitas                                1036.0    0.0     1.0   \n",
       "Jeannie's Vegetarian Enchiladas                     1138.0    5.0     1.0   \n",
       "Mexican Corn Bread Casserole                         708.0    4.0     0.0   \n",
       "Cochinita Pibil (Mexican Pulled Pork in Annatto...  1334.0    5.0     2.0   \n",
       "Authentic Mexican Chili Rellenos                     357.0    3.0     0.0   \n",
       "\n",
       "                                                                                                Title  \\\n",
       "Fresh Shrimp Boil                                                                   Fresh Shrimp Boil   \n",
       "Low-Carb Jicama Tostadas                                                     Low-Carb Jicama Tostadas   \n",
       "Best Fish Tacos                                                                      Best Fish Tacos    \n",
       "Crispy Pork Carnitas                                                             Crispy Pork Carnitas   \n",
       "Jeannie's Vegetarian Enchiladas                                      Jeannie's Vegetarian Enchiladas    \n",
       "Mexican Corn Bread Casserole                                             Mexican Corn Bread Casserole   \n",
       "Cochinita Pibil (Mexican Pulled Pork in Annatto...  Cochinita Pibil (Mexican Pulled Pork in Annatt...   \n",
       "Authentic Mexican Chili Rellenos                                     Authentic Mexican Chili Rellenos   \n",
       "\n",
       "                                                    Total Carbohydrates  \\\n",
       "Fresh Shrimp Boil                                                  19.9   \n",
       "Low-Carb Jicama Tostadas                                           13.2   \n",
       "Best Fish Tacos                                                    34.6   \n",
       "Crispy Pork Carnitas                                                2.1   \n",
       "Jeannie's Vegetarian Enchiladas                                    67.2   \n",
       "Mexican Corn Bread Casserole                                       21.5   \n",
       "Cochinita Pibil (Mexican Pulled Pork in Annatto...                  8.3   \n",
       "Authentic Mexican Chili Rellenos                                   17.3   \n",
       "\n",
       "                                                    Total Fat  Vitamin A  \\\n",
       "Fresh Shrimp Boil                                        15.2     4876IU   \n",
       "Low-Carb Jicama Tostadas                                  0.1       32IU   \n",
       "Best Fish Tacos                                           9.0     1043IU   \n",
       "Crispy Pork Carnitas                                     22.6       17IU   \n",
       "Jeannie's Vegetarian Enchiladas                          31.2     2569IU   \n",
       "Mexican Corn Bread Casserole                             16.3      840IU   \n",
       "Cochinita Pibil (Mexican Pulled Pork in Annatto...       25.6      158IU   \n",
       "Authentic Mexican Chili Rellenos                         16.0      594IU   \n",
       "\n",
       "                                                   Vitamin B6  Vitamin C  \n",
       "Fresh Shrimp Boil                                         1.0       22.0  \n",
       "Low-Carb Jicama Tostadas                                  0.0       30.0  \n",
       "Best Fish Tacos                                           0.0       18.0  \n",
       "Crispy Pork Carnitas                                      0.0        2.0  \n",
       "Jeannie's Vegetarian Enchiladas                           0.0       49.0  \n",
       "Mexican Corn Bread Casserole                              0.0       12.0  \n",
       "Cochinita Pibil (Mexican Pulled Pork in Annatto...        1.0       31.0  \n",
       "Authentic Mexican Chili Rellenos                          0.0       65.0  \n",
       "\n",
       "[8 rows x 24 columns]"
      ]
     },
     "execution_count": 52,
     "metadata": {},
     "output_type": "execute_result"
    }
   ],
   "source": [
    "Full = pd.read_csv('data/fullTreated.csv',index_col = 0)\n",
    "Full.head(8)"
   ]
  },
  {
   "cell_type": "code",
   "execution_count": 53,
   "metadata": {},
   "outputs": [
    {
     "data": {
      "text/html": [
       "<div>\n",
       "<style scoped>\n",
       "    .dataframe tbody tr th:only-of-type {\n",
       "        vertical-align: middle;\n",
       "    }\n",
       "\n",
       "    .dataframe tbody tr th {\n",
       "        vertical-align: top;\n",
       "    }\n",
       "\n",
       "    .dataframe thead th {\n",
       "        text-align: right;\n",
       "    }\n",
       "</style>\n",
       "<table border=\"1\" class=\"dataframe\">\n",
       "  <thead>\n",
       "    <tr style=\"text-align: right;\">\n",
       "      <th></th>\n",
       "      <th>Calcium</th>\n",
       "      <th>Calories</th>\n",
       "      <th>Cholesterol</th>\n",
       "      <th>Dietary Fiber</th>\n",
       "      <th>Folate</th>\n",
       "      <th>Iron</th>\n",
       "      <th>Magnesium</th>\n",
       "      <th>Niacin</th>\n",
       "      <th>Popularity</th>\n",
       "      <th>Potassium</th>\n",
       "      <th>...</th>\n",
       "      <th>Saturated Fat</th>\n",
       "      <th>Sodium</th>\n",
       "      <th>Sugars</th>\n",
       "      <th>Thiamin</th>\n",
       "      <th>Title</th>\n",
       "      <th>Total Carbohydrates</th>\n",
       "      <th>Total Fat</th>\n",
       "      <th>Vitamin A</th>\n",
       "      <th>Vitamin B6</th>\n",
       "      <th>Vitamin C</th>\n",
       "    </tr>\n",
       "  </thead>\n",
       "  <tbody>\n",
       "    <tr>\n",
       "      <th>Fresh Shrimp Boil</th>\n",
       "      <td>193.0</td>\n",
       "      <td>420</td>\n",
       "      <td>376.0</td>\n",
       "      <td>4.0</td>\n",
       "      <td>47.0</td>\n",
       "      <td>7.0</td>\n",
       "      <td>115.0</td>\n",
       "      <td>15.0</td>\n",
       "      <td>27.0</td>\n",
       "      <td>709.0</td>\n",
       "      <td>...</td>\n",
       "      <td>8.0</td>\n",
       "      <td>7527.0</td>\n",
       "      <td>3.0</td>\n",
       "      <td>0.0</td>\n",
       "      <td>Fresh Shrimp Boil</td>\n",
       "      <td>19.9</td>\n",
       "      <td>15.2</td>\n",
       "      <td>4876IU</td>\n",
       "      <td>1.0</td>\n",
       "      <td>22.0</td>\n",
       "    </tr>\n",
       "    <tr>\n",
       "      <th>Low-Carb Jicama Tostadas</th>\n",
       "      <td>18.0</td>\n",
       "      <td>57</td>\n",
       "      <td>0.0</td>\n",
       "      <td>7.4</td>\n",
       "      <td>18.0</td>\n",
       "      <td>1.0</td>\n",
       "      <td>18.0</td>\n",
       "      <td>0.0</td>\n",
       "      <td>3.0</td>\n",
       "      <td>225.0</td>\n",
       "      <td>...</td>\n",
       "      <td>0.0</td>\n",
       "      <td>6.0</td>\n",
       "      <td>3.0</td>\n",
       "      <td>0.0</td>\n",
       "      <td>Low-Carb Jicama Tostadas</td>\n",
       "      <td>13.2</td>\n",
       "      <td>0.1</td>\n",
       "      <td>32IU</td>\n",
       "      <td>0.0</td>\n",
       "      <td>30.0</td>\n",
       "    </tr>\n",
       "    <tr>\n",
       "      <th>Best Fish Tacos</th>\n",
       "      <td>80.0</td>\n",
       "      <td>322</td>\n",
       "      <td>35.0</td>\n",
       "      <td>3.8</td>\n",
       "      <td>88.0</td>\n",
       "      <td>3.0</td>\n",
       "      <td>48.0</td>\n",
       "      <td>6.0</td>\n",
       "      <td>3.0</td>\n",
       "      <td>591.0</td>\n",
       "      <td>...</td>\n",
       "      <td>3.0</td>\n",
       "      <td>833.0</td>\n",
       "      <td>2.0</td>\n",
       "      <td>0.0</td>\n",
       "      <td>Best Fish Tacos</td>\n",
       "      <td>34.6</td>\n",
       "      <td>9.0</td>\n",
       "      <td>1043IU</td>\n",
       "      <td>0.0</td>\n",
       "      <td>18.0</td>\n",
       "    </tr>\n",
       "    <tr>\n",
       "      <th>Crispy Pork Carnitas</th>\n",
       "      <td>35.0</td>\n",
       "      <td>317</td>\n",
       "      <td>89.0</td>\n",
       "      <td>0.4</td>\n",
       "      <td>5.0</td>\n",
       "      <td>2.0</td>\n",
       "      <td>23.0</td>\n",
       "      <td>10.0</td>\n",
       "      <td>268.0</td>\n",
       "      <td>371.0</td>\n",
       "      <td>...</td>\n",
       "      <td>6.0</td>\n",
       "      <td>1036.0</td>\n",
       "      <td>0.0</td>\n",
       "      <td>1.0</td>\n",
       "      <td>Crispy Pork Carnitas</td>\n",
       "      <td>2.1</td>\n",
       "      <td>22.6</td>\n",
       "      <td>17IU</td>\n",
       "      <td>0.0</td>\n",
       "      <td>2.0</td>\n",
       "    </tr>\n",
       "    <tr>\n",
       "      <th>Jeannie's Vegetarian Enchiladas</th>\n",
       "      <td>376.0</td>\n",
       "      <td>626</td>\n",
       "      <td>59.0</td>\n",
       "      <td>9.6</td>\n",
       "      <td>193.0</td>\n",
       "      <td>6.0</td>\n",
       "      <td>77.0</td>\n",
       "      <td>8.0</td>\n",
       "      <td>1.0</td>\n",
       "      <td>818.0</td>\n",
       "      <td>...</td>\n",
       "      <td>15.0</td>\n",
       "      <td>1138.0</td>\n",
       "      <td>5.0</td>\n",
       "      <td>1.0</td>\n",
       "      <td>Jeannie's Vegetarian Enchiladas</td>\n",
       "      <td>67.2</td>\n",
       "      <td>31.2</td>\n",
       "      <td>2569IU</td>\n",
       "      <td>0.0</td>\n",
       "      <td>49.0</td>\n",
       "    </tr>\n",
       "  </tbody>\n",
       "</table>\n",
       "<p>5 rows × 24 columns</p>\n",
       "</div>"
      ],
      "text/plain": [
       "                                  Calcium  Calories  Cholesterol  \\\n",
       "Fresh Shrimp Boil                   193.0       420        376.0   \n",
       "Low-Carb Jicama Tostadas             18.0        57          0.0   \n",
       "Best Fish Tacos                      80.0       322         35.0   \n",
       "Crispy Pork Carnitas                 35.0       317         89.0   \n",
       "Jeannie's Vegetarian Enchiladas     376.0       626         59.0   \n",
       "\n",
       "                                  Dietary Fiber  Folate  Iron  Magnesium  \\\n",
       "Fresh Shrimp Boil                           4.0    47.0   7.0      115.0   \n",
       "Low-Carb Jicama Tostadas                    7.4    18.0   1.0       18.0   \n",
       "Best Fish Tacos                             3.8    88.0   3.0       48.0   \n",
       "Crispy Pork Carnitas                        0.4     5.0   2.0       23.0   \n",
       "Jeannie's Vegetarian Enchiladas             9.6   193.0   6.0       77.0   \n",
       "\n",
       "                                  Niacin  Popularity  Potassium    ...      \\\n",
       "Fresh Shrimp Boil                   15.0        27.0      709.0    ...       \n",
       "Low-Carb Jicama Tostadas             0.0         3.0      225.0    ...       \n",
       "Best Fish Tacos                      6.0         3.0      591.0    ...       \n",
       "Crispy Pork Carnitas                10.0       268.0      371.0    ...       \n",
       "Jeannie's Vegetarian Enchiladas      8.0         1.0      818.0    ...       \n",
       "\n",
       "                                  Saturated Fat  Sodium Sugars Thiamin  \\\n",
       "Fresh Shrimp Boil                           8.0  7527.0    3.0     0.0   \n",
       "Low-Carb Jicama Tostadas                    0.0     6.0    3.0     0.0   \n",
       "Best Fish Tacos                             3.0   833.0    2.0     0.0   \n",
       "Crispy Pork Carnitas                        6.0  1036.0    0.0     1.0   \n",
       "Jeannie's Vegetarian Enchiladas            15.0  1138.0    5.0     1.0   \n",
       "\n",
       "                                                             Title  \\\n",
       "Fresh Shrimp Boil                                Fresh Shrimp Boil   \n",
       "Low-Carb Jicama Tostadas                  Low-Carb Jicama Tostadas   \n",
       "Best Fish Tacos                                   Best Fish Tacos    \n",
       "Crispy Pork Carnitas                          Crispy Pork Carnitas   \n",
       "Jeannie's Vegetarian Enchiladas   Jeannie's Vegetarian Enchiladas    \n",
       "\n",
       "                                  Total Carbohydrates  Total Fat  Vitamin A  \\\n",
       "Fresh Shrimp Boil                                19.9       15.2     4876IU   \n",
       "Low-Carb Jicama Tostadas                         13.2        0.1       32IU   \n",
       "Best Fish Tacos                                  34.6        9.0     1043IU   \n",
       "Crispy Pork Carnitas                              2.1       22.6       17IU   \n",
       "Jeannie's Vegetarian Enchiladas                  67.2       31.2     2569IU   \n",
       "\n",
       "                                 Vitamin B6  Vitamin C  \n",
       "Fresh Shrimp Boil                       1.0       22.0  \n",
       "Low-Carb Jicama Tostadas                0.0       30.0  \n",
       "Best Fish Tacos                         0.0       18.0  \n",
       "Crispy Pork Carnitas                    0.0        2.0  \n",
       "Jeannie's Vegetarian Enchiladas         0.0       49.0  \n",
       "\n",
       "[5 rows x 24 columns]"
      ]
     },
     "execution_count": 53,
     "metadata": {},
     "output_type": "execute_result"
    }
   ],
   "source": [
    "Full[Full['Region']=='mexican'].head()"
   ]
  },
  {
   "cell_type": "code",
   "execution_count": 54,
   "metadata": {},
   "outputs": [],
   "source": [
    "def ingr2dic(ingredients):\n",
    "    ingredientDic = {}\n",
    "    itera = 0\n",
    "    for i in ingredients:\n",
    "        itera = itera+1\n",
    "        parsed = re.match('(\\d+([\\.,\\/]\\d+)?)\\s+((g|ml|pinch|clove)\\s)?', i)   #needs improvement\n",
    "        if (parsed) != None:\n",
    "            dic = {}\n",
    "\n",
    "            if i.find(',')>0:\n",
    "                name = i[len(parsed[0]):i.find(',')]\n",
    "            else:\n",
    "                name = i[len(parsed[0]):]\n",
    "            dic['name']=name\n",
    "            dic['unit']     = parsed[4]\n",
    "            \n",
    "            #Converting the '1/8 lettuce' to decimal form '0.125 lettuce'\n",
    "            if re.match('\\d\\/\\d+',parsed[1]):\n",
    "                p = re.match('(\\d)\\/(\\d)',parsed[1])\n",
    "                dic['quantity']     = float(p[1])/int(p[2])\n",
    "            else:    \n",
    "                dic['quantity'] = float(parsed[1])\n",
    "                \n",
    "            #conversion from ounces\n",
    "            parsed = re.match('\\((\\d+(\\.\\d+?)?)\\s+(ounce)\\)', name)\n",
    "            if parsed != None:\n",
    "                name = name[len(parsed[0]):]\n",
    "                #print(dic['quantity'])\n",
    "                dic['name']=name\n",
    "                #print(int(28.3*float(parsed[1])*dic['quantity']))\n",
    "                dic['quantity'] = int(28.3*float(parsed[1])*dic['quantity'])\n",
    "                dic['unit']     = 'g'\n",
    "               \n",
    "            \n",
    "            ingredientDic[str(itera)]=dic\n",
    "    return ingredientDic"
   ]
  },
  {
   "cell_type": "code",
   "execution_count": 55,
   "metadata": {},
   "outputs": [],
   "source": [
    "def getVegGrams(a, ref):\n",
    "    #Iterate through ingredient list, parse quantities, and detect veggetables\n",
    "    #If a vegetable correspond to a list value, add it to the weight\n",
    "    \n",
    "    \n",
    "    recipe = ingr2dic(a[ref]['Ingredients'])\n",
    "\n",
    "    quantity = 0\n",
    "    for ingredient in recipe:\n",
    "        name = recipe[ingredient]['name'].lower()\n",
    "       # print(name)\n",
    "        for word in veg:\n",
    "            if word.lower() in name:\n",
    "        #if any(word.lower() in name for word in veg):\n",
    "                tmpQuantity = 0\n",
    "                if recipe[ingredient]['unit'] == 'g':\n",
    "                    tmpQuantity = float(recipe[ingredient]['quantity'])\n",
    "                else:\n",
    "                    if recipe[ingredient]['unit'] == None:\n",
    "                        if word.lower() in VegDic.keys():\n",
    "                            tmpQuantity = float(VegDic[word.lower()])*float(recipe[ingredient]['quantity'])\n",
    "                            \n",
    "                        else:\n",
    "                            print(\"Add to Dic:\" + word.lower())\n",
    "                            print(recipe[ingredient])\n",
    "                            tmpQuantity = 60 #estimated guess\n",
    "                quantity = tmpQuantity + quantity          \n",
    "                #print(\"Detected: \\t\\t\" + str(word.lower()) + ' : ' + str(tmpQuantity) + ' g')\n",
    "                break  #avoid multiple detection\n",
    "    return int(quantity)"
   ]
  },
  {
   "cell_type": "code",
   "execution_count": 56,
   "metadata": {},
   "outputs": [],
   "source": [
    "with open('data/veggies.json', 'rb') as f:\n",
    "        VegDic=json.load(f)\n",
    "        \n",
    "#reading vegies.csv\n",
    "with open('data/vegies.csv', 'r') as myfile:\n",
    "    r = csv.reader(myfile)\n",
    "    veg = list(r)[0]\n",
    "\n",
    "#Adding non plural forms\n",
    "for i in veg:\n",
    "    if i[-1]=='s':\n",
    "        veg.append(i[:-1])"
   ]
  },
  {
   "cell_type": "code",
   "execution_count": 58,
   "metadata": {},
   "outputs": [],
   "source": [
    "#Calculating the veggetable weights for all recipes in the dataset\n",
    "Full = pd.read_csv('data/fullTreated.csv',index_col = 0)\n",
    "\n",
    "listVeg = []\n",
    "listNutri = []\n",
    "listLetter = []\n",
    "\n",
    "for index, row in Full.iterrows(): \n",
    "    jsonPath='data/'+row['Region']+'.json'\n",
    "    #print(row['Reference'])\n",
    "    with open(jsonPath, 'rb') as f:\n",
    "        a=json.load(f)\n",
    "        #print(ingr2dic(a[row['Reference']]['Ingredients']))\n",
    "        #print('\\n Grams of vegetables detected: ' + str(getVegGrams(a,row['Reference'])) + ' g .')\n",
    "        #Full['VeggieWeight'] = getVegGrams(a,row['Reference'])\n",
    "        VeggieWeight = float(getVegGrams(a,row['Reference']))\n",
    "        listVeg.append(VeggieWeight)\n",
    "        \n",
    "        #quantities are normalized to a 100g basis (we consider meals weight around 400grams)\n",
    "        servingRatio = 0.25\n",
    "        NegPoints = int(row.Calories/(335./4.184))+int(row.Sugars/(4.5))+int(row['Saturated Fat']/(1))+int(row.Sodium/90)\n",
    "        NegPoints = int(NegPoints*servingRatio)\n",
    "        \n",
    "        if VeggieWeight <= 120:\n",
    "            fruitPoints = 0\n",
    "        if VeggieWeight > 120 and VeggieWeight <= 180:\n",
    "            fruitPoints = 1\n",
    "        if VeggieWeight > 180 and VeggieWeight <= 240:\n",
    "            fruitPoints = 2\n",
    "        if VeggieWeight > 240:\n",
    "            fruitPoints = 5\n",
    "     \n",
    "        PosPoints = fruitPoints + int(servingRatio*row.Protein/(1.6)) + int(servingRatio*row['Dietary Fiber']/(0.9))\n",
    "        score = NegPoints - PosPoints\n",
    "        listNutri.append(score)\n",
    "    \n",
    "        if score <= -1:\n",
    "            letter = 'A'\n",
    "        if score > -1 and score <= 2:\n",
    "            letter = 'B'\n",
    "        if score > 2 and score <= 10:\n",
    "            letter = 'C'\n",
    "        if score > 10 and score <= 19:\n",
    "            letter = 'D'\n",
    "        if score > 19:\n",
    "            letter = 'E'\n",
    "        listLetter.append(letter)\n",
    "            \n",
    "            \n",
    "Full['VeggieWeight'] = listVeg\n",
    "Full['NutriScore'] = listNutri\n",
    "Full['NutriLetter'] = listLetter"
   ]
  },
  {
   "cell_type": "code",
   "execution_count": 59,
   "metadata": {},
   "outputs": [
    {
     "data": {
      "text/plain": [
       "Pollo Adobado                                              -8\n",
       "Yam Taeng (Spicy Cucumber Salad)                           -8\n",
       "Make-Ahead Vegetarian Moroccan Stew                        -8\n",
       "Moo Goo Gai Pan                                            -8\n",
       "Greek Pasta with Tomatoes and White Beans                  -8\n",
       "Moroccan Lentil Soup                                       -7\n",
       "Silpancho from Cochabamba, Bolivia                         -7\n",
       "Brazilian Chicken with Coconut Milk                        -6\n",
       "Avocado and Tuna Tapas                                     -6\n",
       "Kik Wat (Ethiopian Red Lentil Stew)                        -6\n",
       "Lengenberg's Boiled Potatoes                               -6\n",
       "Cholay (Curried Chickpeas)                                 -6\n",
       "Bhuna Gosht                                                -6\n",
       "Bissara                                                    -6\n",
       "Kay's Spaghetti and Lasagna Sauce                          -6\n",
       "Key Sir Alicha (Ethiopian Beets and Potatoes)              -6\n",
       "Ethiopian Cabbage Dish                                     -5\n",
       "Spanish Moroccan Fish                                      -5\n",
       "Ethiopian Vegetable Bowl                                   -5\n",
       "Slow Cooker Chicken Marrakesh                              -5\n",
       "Ratatouille                                                -5\n",
       "Brazilian Black Bean Stew                                  -5\n",
       "Ethiopian Spiced Cottage Cheese                            -5\n",
       "Harira                                                     -5\n",
       "Marrakesh Vegetable Curry                                  -4\n",
       "Stuffed Cabbage Rolls                                      -4\n",
       "Moroccan Chicken and Whole Grain Couscous                  -4\n",
       "Spanish Style Albondigas in a Sunny Mediterranean Sauce    -4\n",
       "Moroccan Chicken                                           -4\n",
       "Reshmi Kebab (Silken Kebabs)                               -4\n",
       "                                                           ..\n",
       "Thai Green Curry Chicken                                    6\n",
       "Mongolian Beef and Spring Onions                            6\n",
       "Chicken Yakisoba                                            6\n",
       "Spanakopita                                                 6\n",
       "Aussie Lime Pie                                             6\n",
       "Danish Almond Puff                                          6\n",
       "Slow Cooker Mongolian Beef                                  6\n",
       "Grandma Jeanette's Amazing German Red Cabbage               6\n",
       "Easy Mexican Casserole                                      6\n",
       "Boneless Buffalo Wings                                      6\n",
       "Chocolate Decadence Yule Log                                6\n",
       "Swedish Meatballs I                                         6\n",
       "Ashley's Chicken Katsu with Tonkatsu Sauce                  6\n",
       "Chicken Tikka Masala                                        7\n",
       "Gratin Dauphinois de Solange                                7\n",
       "Bow Ties with Sausage, Tomatoes and Cream                   7\n",
       "English Trifle to Die For                                   7\n",
       "Home Style Macaroni and Cheese                              7\n",
       "Chinese Barbeque Pork (Char Siu)                            8\n",
       "Keligun Chicken                                             8\n",
       "The Amazing Swedish Meatball                                8\n",
       "Thai Sweet Sticky Rice With Mango (Khao Neeo Mamuang)       9\n",
       "Rich and Simple French Onion Soup                           9\n",
       "French Onion Soup Gratinee                                 10\n",
       "Chef John's Patatas Bravas                                 11\n",
       "Cali's Sinful Creme Brulee                                 11\n",
       "Original Homemade Italian Beef                             12\n",
       "Easy Indian Butter Chicken                                 14\n",
       "Fresh Shrimp Boil                                          17\n",
       "Salt and Pepper Squid                                      19\n",
       "Name: NutriScore, Length: 367, dtype: int64"
      ]
     },
     "execution_count": 59,
     "metadata": {},
     "output_type": "execute_result"
    }
   ],
   "source": [
    "Full.sort_values(by=['NutriScore'])['NutriScore']"
   ]
  },
  {
   "cell_type": "code",
   "execution_count": 60,
   "metadata": {
    "scrolled": false
   },
   "outputs": [
    {
     "data": {
      "image/png": "[encoded data removed]",
      "text/plain": [
       "<Figure size 432x288 with 1 Axes>"
      ]
     },
     "metadata": {},
     "output_type": "display_data"
    },
    {
     "data": {
      "image/png": "[encoded data removed]",
      "text/plain": [
       "<Figure size 432x288 with 1 Axes>"
      ]
     },
     "metadata": {},
     "output_type": "display_data"
    },
    {
     "data": {
      "image/png": "[encoded data removed]",
      "text/plain": [
       "<Figure size 432x288 with 1 Axes>"
      ]
     },
     "metadata": {},
     "output_type": "display_data"
    },
    {
     "data": {
      "image/png": "[encoded data removed]",
      "text/plain": [
       "<Figure size 432x288 with 1 Axes>"
      ]
     },
     "metadata": {},
     "output_type": "display_data"
    },
    {
     "data": {
      "image/png": "[encoded data removed]",
      "text/plain": [
       "<Figure size 432x288 with 1 Axes>"
      ]
     },
     "metadata": {},
     "output_type": "display_data"
    },
    {
     "data": {
      "image/png": "[encoded data removed]",
      "text/plain": [
       "<Figure size 432x288 with 1 Axes>"
      ]
     },
     "metadata": {},
     "output_type": "display_data"
    },
    {
     "data": {
      "image/png": "[encoded data removed]",
      "text/plain": [
       "<Figure size 432x288 with 1 Axes>"
      ]
     },
     "metadata": {},
     "output_type": "display_data"
    },
    {
     "data": {
      "image/png": "[encoded data removed]",
      "text/plain": [
       "<Figure size 432x288 with 1 Axes>"
      ]
     },
     "metadata": {},
     "output_type": "display_data"
    },
    {
     "data": {
      "image/png": "[encoded data removed]",
      "text/plain": [
       "<Figure size 432x288 with 1 Axes>"
      ]
     },
     "metadata": {},
     "output_type": "display_data"
    },
    {
     "data": {
      "image/png": "[encoded data removed]",
      "text/plain": [
       "<Figure size 432x288 with 1 Axes>"
      ]
     },
     "metadata": {},
     "output_type": "display_data"
    },
    {
     "data": {
      "image/png": "[encoded data removed]",
      "text/plain": [
       "<Figure size 432x288 with 1 Axes>"
      ]
     },
     "metadata": {},
     "output_type": "display_data"
    },
    {
     "data": {
      "image/png": "[encoded data removed]",
      "text/plain": [
       "<Figure size 432x288 with 1 Axes>"
      ]
     },
     "metadata": {},
     "output_type": "display_data"
    },
    {
     "data": {
      "image/png": "[encoded data removed]",
      "text/plain": [
       "<Figure size 432x288 with 1 Axes>"
      ]
     },
     "metadata": {},
     "output_type": "display_data"
    },
    {
     "data": {
      "image/png": "[encoded data removed]",
      "text/plain": [
       "<Figure size 432x288 with 1 Axes>"
      ]
     },
     "metadata": {},
     "output_type": "display_data"
    },
    {
     "data": {
      "image/png": "[encoded data removed]",
      "text/plain": [
       "<Figure size 432x288 with 1 Axes>"
      ]
     },
     "metadata": {},
     "output_type": "display_data"
    },
    {
     "data": {
      "image/png": "[encoded data removed]",
      "text/plain": [
       "<Figure size 432x288 with 1 Axes>"
      ]
     },
     "metadata": {},
     "output_type": "display_data"
    },
    {
     "data": {
      "image/png": "[encoded data removed]",
      "text/plain": [
       "<Figure size 432x288 with 1 Axes>"
      ]
     },
     "metadata": {},
     "output_type": "display_data"
    },
    {
     "data": {
      "image/png": "[encoded data removed]",
      "text/plain": [
       "<Figure size 432x288 with 1 Axes>"
      ]
     },
     "metadata": {},
     "output_type": "display_data"
    },
    {
     "data": {
      "image/png": "[encoded data removed]",
      "text/plain": [
       "<Figure size 432x288 with 1 Axes>"
      ]
     },
     "metadata": {},
     "output_type": "display_data"
    }
   ],
   "source": [
    "regions = Full['Region'].unique()\n",
    "for region in regions:\n",
    "    a=Full[Full['Region']==region].sort_values(by=['NutriScore'])['NutriLetter'].values\n",
    "    letter_counts = Counter(a)\n",
    "    df = pd.DataFrame.from_dict(letter_counts,orient = 'index')\n",
    "    df.plot(kind='bar')\n",
    "    plt.title(region)\n",
    "    "
   ]
  },
  {
   "cell_type": "code",
   "execution_count": 61,
   "metadata": {},
   "outputs": [],
   "source": [
    "Full.to_csv('data/fullWithNutri.csv')"
   ]
  },
  {
   "cell_type": "markdown",
   "metadata": {},
   "source": [
    "## Tensorflow magic ##"
   ]
  },
  {
   "cell_type": "code",
   "execution_count": null,
   "metadata": {},
   "outputs": [],
   "source": [
    "temp_path = 'tmp/'\n",
    "ingDic = {}\n",
    "\n",
    "for region in regions:\n",
    "    jsonPath='data/'+region+'.json'\n",
    "    with open(jsonPath, 'rb') as f:\n",
    "        fullTheme=json.load(f)\n",
    "    tmp = ''\n",
    "    for recipe in fullTheme:\n",
    "        #print(fullTheme[recipe])\n",
    "        ingList=ingr2dic(fullTheme[recipe]['Ingredients'])\n",
    "        for ing in ingList:\n",
    "            tmp += ingList[ing]['name'].lstrip() + ', '\n",
    "    ingDic[region] = tmp       "
   ]
  },
  {
   "cell_type": "markdown",
   "metadata": {},
   "source": [
    "### See Google Colab notebook for code and results ###"
   ]
  },
  {
   "cell_type": "markdown",
   "metadata": {},
   "source": [
    "The following figure is a similarity graph obtained by running the parsed (without quantities) ingredient lists of all themes through the Google Universal Sentence Encoder (Keras API for tensorflow) and computing the correlation matrix."
   ]
  },
  {
   "cell_type": "code",
   "execution_count": 62,
   "metadata": {},
   "outputs": [],
   "source": [
    "import networkx as nx\n",
    "import seaborn as sns"
   ]
  },
  {
   "cell_type": "code",
   "execution_count": 63,
   "metadata": {},
   "outputs": [
    {
     "data": {
      "text/plain": [
       "(18, 18)"
      ]
     },
     "execution_count": 63,
     "metadata": {},
     "output_type": "execute_result"
    }
   ],
   "source": [
    "from numpy import genfromtxt\n",
    "corr = genfromtxt('data/corr.csv', delimiter=',',skip_header=1)\n",
    "corr = corr[:,1:]\n",
    "corr.shape"
   ]
  },
  {
   "cell_type": "code",
   "execution_count": 64,
   "metadata": {},
   "outputs": [
    {
     "data": {
      "image/png": "[encoded data removed]",
      "text/plain": [
       "<Figure size 432x288 with 2 Axes>"
      ]
     },
     "metadata": {},
     "output_type": "display_data"
    }
   ],
   "source": [
    "def plot_similarity(labels, features, rotation):\n",
    "    corr = features\n",
    "    sns.set(font_scale=1.2)\n",
    "    g = sns.heatmap(\n",
    "      corr,\n",
    "      xticklabels=labels,\n",
    "      yticklabels=labels,\n",
    "      vmin=0.7,\n",
    "      vmax=1,\n",
    "      cmap=\"YlOrRd\")\n",
    "    g.set_xticklabels(labels, rotation=rotation)\n",
    "    g.set_title(\"Semantic Textual Similarity\")\n",
    "    \n",
    "regions = ['uk-and-ireland','australian-and-new-zealander','canadian','scandinavian','eastern-european','german','french','italian','chinese','thai','indian','south-american','spanish','mexican','lebanese','greek','north-african','east-african']\n",
    "\n",
    "plot_similarity(regions,corr,90)"
   ]
  },
  {
   "cell_type": "markdown",
   "metadata": {},
   "source": [
    "This is the graph formed with the highest connections."
   ]
  },
  {
   "cell_type": "code",
   "execution_count": 65,
   "metadata": {},
   "outputs": [
    {
     "data": {
      "image/png": "[encoded data removed]",
      "text/plain": [
       "<Figure size 432x288 with 1 Axes>"
      ]
     },
     "metadata": {},
     "output_type": "display_data"
    }
   ],
   "source": [
    "thresh = 0.97\n",
    "\n",
    "result = (corr > thresh)*(corr-thresh)/(1-thresh)\n",
    "A = nx.from_numpy_matrix(result)\n",
    "nx.draw_networkx(A)"
   ]
  },
  {
   "cell_type": "code",
   "execution_count": 124,
   "metadata": {},
   "outputs": [
    {
     "data": {
      "text/html": [
       "<div>\n",
       "<style scoped>\n",
       "    .dataframe tbody tr th:only-of-type {\n",
       "        vertical-align: middle;\n",
       "    }\n",
       "\n",
       "    .dataframe tbody tr th {\n",
       "        vertical-align: top;\n",
       "    }\n",
       "\n",
       "    .dataframe thead th {\n",
       "        text-align: right;\n",
       "    }\n",
       "</style>\n",
       "<table border=\"1\" class=\"dataframe\">\n",
       "  <thead>\n",
       "    <tr style=\"text-align: right;\">\n",
       "      <th></th>\n",
       "      <th>Region</th>\n",
       "      <th>Best Friend</th>\n",
       "      <th>Worst Foe</th>\n",
       "      <th>Centralness</th>\n",
       "    </tr>\n",
       "  </thead>\n",
       "  <tbody>\n",
       "    <tr>\n",
       "      <th>15</th>\n",
       "      <td>greek</td>\n",
       "      <td>south-american</td>\n",
       "      <td>eastern-european</td>\n",
       "      <td>2.235492</td>\n",
       "    </tr>\n",
       "    <tr>\n",
       "      <th>11</th>\n",
       "      <td>south-american</td>\n",
       "      <td>greek</td>\n",
       "      <td>eastern-european</td>\n",
       "      <td>2.202670</td>\n",
       "    </tr>\n",
       "    <tr>\n",
       "      <th>12</th>\n",
       "      <td>spanish</td>\n",
       "      <td>south-american</td>\n",
       "      <td>thai</td>\n",
       "      <td>2.081118</td>\n",
       "    </tr>\n",
       "    <tr>\n",
       "      <th>16</th>\n",
       "      <td>north-african</td>\n",
       "      <td>indian</td>\n",
       "      <td>eastern-european</td>\n",
       "      <td>2.075636</td>\n",
       "    </tr>\n",
       "    <tr>\n",
       "      <th>6</th>\n",
       "      <td>french</td>\n",
       "      <td>canadian</td>\n",
       "      <td>thai</td>\n",
       "      <td>2.029232</td>\n",
       "    </tr>\n",
       "    <tr>\n",
       "      <th>10</th>\n",
       "      <td>indian</td>\n",
       "      <td>south-american</td>\n",
       "      <td>eastern-european</td>\n",
       "      <td>1.998498</td>\n",
       "    </tr>\n",
       "    <tr>\n",
       "      <th>2</th>\n",
       "      <td>canadian</td>\n",
       "      <td>scandinavian</td>\n",
       "      <td>italian</td>\n",
       "      <td>1.907336</td>\n",
       "    </tr>\n",
       "    <tr>\n",
       "      <th>1</th>\n",
       "      <td>australian-and-new-zealander</td>\n",
       "      <td>south-american</td>\n",
       "      <td>eastern-european</td>\n",
       "      <td>1.839630</td>\n",
       "    </tr>\n",
       "    <tr>\n",
       "      <th>14</th>\n",
       "      <td>lebanese</td>\n",
       "      <td>south-american</td>\n",
       "      <td>eastern-european</td>\n",
       "      <td>1.830797</td>\n",
       "    </tr>\n",
       "    <tr>\n",
       "      <th>5</th>\n",
       "      <td>german</td>\n",
       "      <td>uk-and-ireland</td>\n",
       "      <td>thai</td>\n",
       "      <td>1.791136</td>\n",
       "    </tr>\n",
       "    <tr>\n",
       "      <th>8</th>\n",
       "      <td>chinese</td>\n",
       "      <td>canadian</td>\n",
       "      <td>italian</td>\n",
       "      <td>1.776491</td>\n",
       "    </tr>\n",
       "    <tr>\n",
       "      <th>17</th>\n",
       "      <td>east-african</td>\n",
       "      <td>indian</td>\n",
       "      <td>eastern-european</td>\n",
       "      <td>1.768648</td>\n",
       "    </tr>\n",
       "    <tr>\n",
       "      <th>3</th>\n",
       "      <td>scandinavian</td>\n",
       "      <td>canadian</td>\n",
       "      <td>italian</td>\n",
       "      <td>1.729212</td>\n",
       "    </tr>\n",
       "    <tr>\n",
       "      <th>13</th>\n",
       "      <td>mexican</td>\n",
       "      <td>spanish</td>\n",
       "      <td>thai</td>\n",
       "      <td>1.639652</td>\n",
       "    </tr>\n",
       "    <tr>\n",
       "      <th>0</th>\n",
       "      <td>uk-and-ireland</td>\n",
       "      <td>german</td>\n",
       "      <td>thai</td>\n",
       "      <td>1.444055</td>\n",
       "    </tr>\n",
       "    <tr>\n",
       "      <th>4</th>\n",
       "      <td>eastern-european</td>\n",
       "      <td>german</td>\n",
       "      <td>east-african</td>\n",
       "      <td>1.418994</td>\n",
       "    </tr>\n",
       "    <tr>\n",
       "      <th>7</th>\n",
       "      <td>italian</td>\n",
       "      <td>spanish</td>\n",
       "      <td>thai</td>\n",
       "      <td>1.378925</td>\n",
       "    </tr>\n",
       "    <tr>\n",
       "      <th>9</th>\n",
       "      <td>thai</td>\n",
       "      <td>indian</td>\n",
       "      <td>uk-and-ireland</td>\n",
       "      <td>1.333093</td>\n",
       "    </tr>\n",
       "  </tbody>\n",
       "</table>\n",
       "</div>"
      ],
      "text/plain": [
       "                          Region     Best Friend         Worst Foe  \\\n",
       "15                         greek  south-american  eastern-european   \n",
       "11                south-american           greek  eastern-european   \n",
       "12                       spanish  south-american              thai   \n",
       "16                 north-african          indian  eastern-european   \n",
       "6                         french        canadian              thai   \n",
       "10                        indian  south-american  eastern-european   \n",
       "2                       canadian    scandinavian           italian   \n",
       "1   australian-and-new-zealander  south-american  eastern-european   \n",
       "14                      lebanese  south-american  eastern-european   \n",
       "5                         german  uk-and-ireland              thai   \n",
       "8                        chinese        canadian           italian   \n",
       "17                  east-african          indian  eastern-european   \n",
       "3                   scandinavian        canadian           italian   \n",
       "13                       mexican         spanish              thai   \n",
       "0                 uk-and-ireland          german              thai   \n",
       "4               eastern-european          german      east-african   \n",
       "7                        italian         spanish              thai   \n",
       "9                           thai          indian    uk-and-ireland   \n",
       "\n",
       "    Centralness  \n",
       "15     2.235492  \n",
       "11     2.202670  \n",
       "12     2.081118  \n",
       "16     2.075636  \n",
       "6      2.029232  \n",
       "10     1.998498  \n",
       "2      1.907336  \n",
       "1      1.839630  \n",
       "14     1.830797  \n",
       "5      1.791136  \n",
       "8      1.776491  \n",
       "17     1.768648  \n",
       "3      1.729212  \n",
       "13     1.639652  \n",
       "0      1.444055  \n",
       "4      1.418994  \n",
       "7      1.378925  \n",
       "9      1.333093  "
      ]
     },
     "execution_count": 124,
     "metadata": {},
     "output_type": "execute_result"
    }
   ],
   "source": [
    "friends = pd.DataFrame(regions)\n",
    "friends.columns=['Region']\n",
    "corr = genfromtxt('data/corr.csv', delimiter=',',skip_header=1)\n",
    "corr = corr[:,1:]\n",
    "corr2 = corr - np.min(corr)\n",
    "\n",
    "a = np.argmin(corr,axis=0)\n",
    "c=friends.iloc[a].reset_index(drop=True, inplace=False)\n",
    "\n",
    "np.fill_diagonal(corr,0)\n",
    "a = np.argmax(corr,axis=0)\n",
    "b=friends.iloc[a].reset_index(drop=True, inplace=False)\n",
    "\n",
    "friends['Best Friend']=b \n",
    "friends['Worst Foe']=c\n",
    "friends['Centralness'] = np.sum(corr2,axis=0)\n",
    "friends.sort_values('Centralness',ascending= False)\n"
   ]
  },
  {
   "cell_type": "markdown",
   "metadata": {},
   "source": [
    "# Let's try some ML to find clusters and trends#"
   ]
  },
  {
   "cell_type": "markdown",
   "metadata": {},
   "source": [
    "Several attempts were made to cluster countries based on their nutritional values. Different machine learning algorithms such as PCA, K-Nearest Neighbor, DBScan, decision trees were attempted to try and find means of clustering datapoints according to their respective class and thus being able to find similarities between regions. However, no significant result was found... This was to be expected since every country has very varied recipe types and cooking styles, but it is interesting to note that it is not achievable to find links between regions cooking styles in this way."
   ]
  },
  {
   "cell_type": "markdown",
   "metadata": {},
   "source": [
    "### Attempt at decision tree ###"
   ]
  },
  {
   "cell_type": "code",
   "execution_count": 70,
   "metadata": {},
   "outputs": [],
   "source": [
    "from sklearn.preprocessing import StandardScaler\n",
    "\n",
    "data = Full.drop(columns=['Popularity','Rating','Title','Reference','Vitamin A','NutriLetter'])\n",
    "y= data.dropna()['Region']\n",
    "X=StandardScaler().fit_transform(data.drop(columns=['Region']).dropna())\n",
    "\n",
    "from sklearn import preprocessing\n",
    "\n",
    "le = preprocessing.LabelEncoder()\n",
    "le.fit(y)\n",
    "y = le.transform(y)\n"
   ]
  },
  {
   "cell_type": "markdown",
   "metadata": {},
   "source": [
    "### Attempt at PCA ###"
   ]
  },
  {
   "cell_type": "code",
   "execution_count": 161,
   "metadata": {},
   "outputs": [
    {
     "data": {
      "text/plain": [
       "<matplotlib.collections.PathCollection at 0x7fd83ff35390>"
      ]
     },
     "execution_count": 161,
     "metadata": {},
     "output_type": "execute_result"
    },
    {
     "data": {
      "image/png": "[encoded data removed]",
      "text/plain": [
       "<Figure size 432x288 with 1 Axes>"
      ]
     },
     "metadata": {
      "needs_background": "light"
     },
     "output_type": "display_data"
    }
   ],
   "source": [
    "from sklearn.decomposition import PCA\n",
    "\n",
    "pca = PCA(n_components=2)\n",
    "\n",
    "principalComponents = pca.fit_transform(X)\n",
    "c=y\n",
    "\n",
    "principalDf = pd.DataFrame(data = principalComponents\n",
    "             , columns = ['principal component 1', 'principal component 2'])\n",
    "\n",
    "plt.scatter(principalDf['principal component 1'],principalDf['principal component 2'],c=(y))\n"
   ]
  },
  {
   "cell_type": "markdown",
   "metadata": {},
   "source": [
    "### Attempt at DBScan ###"
   ]
  },
  {
   "cell_type": "code",
   "execution_count": 149,
   "metadata": {},
   "outputs": [
    {
     "name": "stdout",
     "output_type": "stream",
     "text": [
      "Automatically created module for IPython interactive environment\n",
      "Estimated number of clusters: 5\n",
      "Estimated number of noise points: 195\n",
      "Homogeneity: 0.048\n",
      "Completeness: 0.137\n",
      "V-measure: 0.071\n",
      "Adjusted Rand Index: 0.003\n",
      "Adjusted Mutual Information: 0.007\n",
      "Silhouette Coefficient: -0.049\n"
     ]
    },
    {
     "name": "stderr",
     "output_type": "stream",
     "text": [
      "/home/manuel/anaconda3/envs/ada2/lib/python3.6/site-packages/sklearn/metrics/cluster/supervised.py:732: FutureWarning: The behavior of AMI will change in version 0.22. To match the behavior of 'v_measure_score', AMI will use average_method='arithmetic' by default.\n",
      "  FutureWarning)\n"
     ]
    },
    {
     "data": {
      "image/png": "[encoded data removed]",
      "text/plain": [
       "<Figure size 432x288 with 1 Axes>"
      ]
     },
     "metadata": {
      "needs_background": "light"
     },
     "output_type": "display_data"
    }
   ],
   "source": [
    "print(__doc__)\n",
    "\n",
    "import numpy as np\n",
    "\n",
    "from sklearn.cluster import DBSCAN\n",
    "from sklearn import metrics\n",
    "from sklearn.datasets.samples_generator import make_blobs\n",
    "from sklearn.preprocessing import StandardScaler\n",
    "\n",
    "# Compute DBSCAN\n",
    "db = DBSCAN(eps=2, min_samples=5).fit(X)\n",
    "core_samples_mask = np.zeros_like(db.labels_, dtype=bool)\n",
    "core_samples_mask[db.core_sample_indices_] = True\n",
    "labels = db.labels_\n",
    "\n",
    "# Number of clusters in labels, ignoring noise if present.\n",
    "n_clusters_ = len(set(labels)) - (1 if -1 in labels else 0)\n",
    "n_noise_ = list(labels).count(-1)\n",
    "\n",
    "print('Estimated number of clusters: %d' % n_clusters_)\n",
    "print('Estimated number of noise points: %d' % n_noise_)\n",
    "\n",
    "labels_true = y\n",
    "\n",
    "print(\"Homogeneity: %0.3f\" % metrics.homogeneity_score(labels_true, labels))\n",
    "print(\"Completeness: %0.3f\" % metrics.completeness_score(labels_true, labels))\n",
    "print(\"V-measure: %0.3f\" % metrics.v_measure_score(labels_true, labels))\n",
    "print(\"Adjusted Rand Index: %0.3f\"\n",
    "      % metrics.adjusted_rand_score(labels_true, labels))\n",
    "print(\"Adjusted Mutual Information: %0.3f\"\n",
    "      % metrics.adjusted_mutual_info_score(labels_true, labels))\n",
    "print(\"Silhouette Coefficient: %0.3f\"\n",
    "      % metrics.silhouette_score(X, labels))\n",
    "\n",
    "# #############################################################################\n",
    "# Plot result\n",
    "import matplotlib.pyplot as plt\n",
    "\n",
    "# Black removed and is used for noise instead.\n",
    "unique_labels = set(labels)\n",
    "colors = [plt.cm.Spectral(each)\n",
    "          for each in np.linspace(0, 1, len(unique_labels))]\n",
    "for k, col in zip(unique_labels, colors):\n",
    "    if k == -1:\n",
    "        # Black used for noise.\n",
    "        col = [0, 0, 0, 1]\n",
    "\n",
    "    class_member_mask = (labels == k)\n",
    "\n",
    "    xy = X[class_member_mask & core_samples_mask]\n",
    "    plt.plot(xy[:, 0], xy[:, 1], 'o', markerfacecolor=tuple(col),\n",
    "             markeredgecolor='k', markersize=14)\n",
    "\n",
    "    xy = X[class_member_mask & ~core_samples_mask]\n",
    "    plt.plot(xy[:, 0], xy[:, 1], 'o', markerfacecolor=tuple(col),\n",
    "             markeredgecolor='k', markersize=6)\n",
    "\n",
    "plt.title('Estimated number of clusters: %d' % n_clusters_)\n",
    "plt.show()"
   ]
  },
  {
   "cell_type": "code",
   "execution_count": 150,
   "metadata": {},
   "outputs": [
    {
     "data": {
      "text/plain": [
       "count    137.000000\n",
       "mean       0.386861\n",
       "std        3.032297\n",
       "min       -8.000000\n",
       "25%       -1.000000\n",
       "50%        1.000000\n",
       "75%        2.000000\n",
       "max        9.000000\n",
       "Name: NutriScore, dtype: float64"
      ]
     },
     "execution_count": 150,
     "metadata": {},
     "output_type": "execute_result"
    }
   ],
   "source": [
    "Full.iloc[labels == 0]['NutriScore'].describe()"
   ]
  },
  {
   "cell_type": "code",
   "execution_count": 151,
   "metadata": {},
   "outputs": [
    {
     "data": {
      "text/html": [
       "<div>\n",
       "<style scoped>\n",
       "    .dataframe tbody tr th:only-of-type {\n",
       "        vertical-align: middle;\n",
       "    }\n",
       "\n",
       "    .dataframe tbody tr th {\n",
       "        vertical-align: top;\n",
       "    }\n",
       "\n",
       "    .dataframe thead th {\n",
       "        text-align: right;\n",
       "    }\n",
       "</style>\n",
       "<table border=\"1\" class=\"dataframe\">\n",
       "  <thead>\n",
       "    <tr style=\"text-align: right;\">\n",
       "      <th></th>\n",
       "      <th>Calcium</th>\n",
       "      <th>Calories</th>\n",
       "      <th>Cholesterol</th>\n",
       "      <th>Dietary Fiber</th>\n",
       "      <th>Folate</th>\n",
       "      <th>Iron</th>\n",
       "      <th>Magnesium</th>\n",
       "      <th>Niacin</th>\n",
       "      <th>Popularity</th>\n",
       "      <th>Potassium</th>\n",
       "      <th>...</th>\n",
       "      <th>Thiamin</th>\n",
       "      <th>Title</th>\n",
       "      <th>Total Carbohydrates</th>\n",
       "      <th>Total Fat</th>\n",
       "      <th>Vitamin A</th>\n",
       "      <th>Vitamin B6</th>\n",
       "      <th>Vitamin C</th>\n",
       "      <th>VeggieWeight</th>\n",
       "      <th>NutriScore</th>\n",
       "      <th>NutriLetter</th>\n",
       "    </tr>\n",
       "  </thead>\n",
       "  <tbody>\n",
       "    <tr>\n",
       "      <th>Italian Spaghetti Sauce with Meatballs</th>\n",
       "      <td>140.0</td>\n",
       "      <td>349</td>\n",
       "      <td>77.0</td>\n",
       "      <td>4.5</td>\n",
       "      <td>46.0</td>\n",
       "      <td>6.0</td>\n",
       "      <td>59.0</td>\n",
       "      <td>9.0</td>\n",
       "      <td>4000.0</td>\n",
       "      <td>1023.0</td>\n",
       "      <td>...</td>\n",
       "      <td>0.0</td>\n",
       "      <td>Italian Spaghetti Sauce with Meatballs</td>\n",
       "      <td>23.7</td>\n",
       "      <td>21.2</td>\n",
       "      <td>825IU</td>\n",
       "      <td>1.0</td>\n",
       "      <td>33.0</td>\n",
       "      <td>363.0</td>\n",
       "      <td>-1</td>\n",
       "      <td>A</td>\n",
       "    </tr>\n",
       "    <tr>\n",
       "      <th>Mellas Family Lamb Stuffed Zucchini (Koosa)</th>\n",
       "      <td>129.0</td>\n",
       "      <td>511</td>\n",
       "      <td>76.0</td>\n",
       "      <td>5.0</td>\n",
       "      <td>86.0</td>\n",
       "      <td>5.0</td>\n",
       "      <td>79.0</td>\n",
       "      <td>12.0</td>\n",
       "      <td>14.0</td>\n",
       "      <td>1185.0</td>\n",
       "      <td>...</td>\n",
       "      <td>0.0</td>\n",
       "      <td>Mellas Family Lamb Stuffed Zucchini (Koosa)</td>\n",
       "      <td>44.8</td>\n",
       "      <td>26.6</td>\n",
       "      <td>762IU</td>\n",
       "      <td>1.0</td>\n",
       "      <td>49.0</td>\n",
       "      <td>326.0</td>\n",
       "      <td>-2</td>\n",
       "      <td>A</td>\n",
       "    </tr>\n",
       "    <tr>\n",
       "      <th>Spanakopita (Greek Spinach Pie)</th>\n",
       "      <td>495.0</td>\n",
       "      <td>494</td>\n",
       "      <td>100.0</td>\n",
       "      <td>7.4</td>\n",
       "      <td>391.0</td>\n",
       "      <td>8.0</td>\n",
       "      <td>175.0</td>\n",
       "      <td>7.0</td>\n",
       "      <td>905.0</td>\n",
       "      <td>1304.0</td>\n",
       "      <td>...</td>\n",
       "      <td>0.0</td>\n",
       "      <td>Spanakopita (Greek Spinach Pie)</td>\n",
       "      <td>31.5</td>\n",
       "      <td>34.7</td>\n",
       "      <td>12264IU</td>\n",
       "      <td>1.0</td>\n",
       "      <td>62.0</td>\n",
       "      <td>236.0</td>\n",
       "      <td>0</td>\n",
       "      <td>B</td>\n",
       "    </tr>\n",
       "    <tr>\n",
       "      <th>Diane's Colcannon</th>\n",
       "      <td>59.0</td>\n",
       "      <td>250</td>\n",
       "      <td>26.0</td>\n",
       "      <td>4.6</td>\n",
       "      <td>46.0</td>\n",
       "      <td>1.0</td>\n",
       "      <td>43.0</td>\n",
       "      <td>3.0</td>\n",
       "      <td>843.0</td>\n",
       "      <td>756.0</td>\n",
       "      <td>...</td>\n",
       "      <td>0.0</td>\n",
       "      <td>Diane's Colcannon</td>\n",
       "      <td>29.8</td>\n",
       "      <td>12.6</td>\n",
       "      <td>258IU</td>\n",
       "      <td>1.0</td>\n",
       "      <td>45.0</td>\n",
       "      <td>190.0</td>\n",
       "      <td>-1</td>\n",
       "      <td>A</td>\n",
       "    </tr>\n",
       "    <tr>\n",
       "      <th>The Best Steak Marinade</th>\n",
       "      <td>28.0</td>\n",
       "      <td>156</td>\n",
       "      <td>0.0</td>\n",
       "      <td>0.2</td>\n",
       "      <td>4.0</td>\n",
       "      <td>1.0</td>\n",
       "      <td>9.0</td>\n",
       "      <td>1.0</td>\n",
       "      <td>1000.0</td>\n",
       "      <td>188.0</td>\n",
       "      <td>...</td>\n",
       "      <td>0.0</td>\n",
       "      <td>The Best Steak Marinade</td>\n",
       "      <td>7.8</td>\n",
       "      <td>13.5</td>\n",
       "      <td>14IU</td>\n",
       "      <td>0.0</td>\n",
       "      <td>3.0</td>\n",
       "      <td>1.0</td>\n",
       "      <td>3</td>\n",
       "      <td>C</td>\n",
       "    </tr>\n",
       "  </tbody>\n",
       "</table>\n",
       "<p>5 rows × 27 columns</p>\n",
       "</div>"
      ],
      "text/plain": [
       "                                             Calcium  Calories  Cholesterol  \\\n",
       "Italian Spaghetti Sauce with Meatballs         140.0       349         77.0   \n",
       "Mellas Family Lamb Stuffed Zucchini (Koosa)    129.0       511         76.0   \n",
       "Spanakopita (Greek Spinach Pie)                495.0       494        100.0   \n",
       "Diane's Colcannon                               59.0       250         26.0   \n",
       "The Best Steak Marinade                         28.0       156          0.0   \n",
       "\n",
       "                                             Dietary Fiber  Folate  Iron  \\\n",
       "Italian Spaghetti Sauce with Meatballs                 4.5    46.0   6.0   \n",
       "Mellas Family Lamb Stuffed Zucchini (Koosa)            5.0    86.0   5.0   \n",
       "Spanakopita (Greek Spinach Pie)                        7.4   391.0   8.0   \n",
       "Diane's Colcannon                                      4.6    46.0   1.0   \n",
       "The Best Steak Marinade                                0.2     4.0   1.0   \n",
       "\n",
       "                                             Magnesium  Niacin  Popularity  \\\n",
       "Italian Spaghetti Sauce with Meatballs            59.0     9.0      4000.0   \n",
       "Mellas Family Lamb Stuffed Zucchini (Koosa)       79.0    12.0        14.0   \n",
       "Spanakopita (Greek Spinach Pie)                  175.0     7.0       905.0   \n",
       "Diane's Colcannon                                 43.0     3.0       843.0   \n",
       "The Best Steak Marinade                            9.0     1.0      1000.0   \n",
       "\n",
       "                                             Potassium     ...       Thiamin  \\\n",
       "Italian Spaghetti Sauce with Meatballs          1023.0     ...           0.0   \n",
       "Mellas Family Lamb Stuffed Zucchini (Koosa)     1185.0     ...           0.0   \n",
       "Spanakopita (Greek Spinach Pie)                 1304.0     ...           0.0   \n",
       "Diane's Colcannon                                756.0     ...           0.0   \n",
       "The Best Steak Marinade                          188.0     ...           0.0   \n",
       "\n",
       "                                                                                   Title  \\\n",
       "Italian Spaghetti Sauce with Meatballs            Italian Spaghetti Sauce with Meatballs   \n",
       "Mellas Family Lamb Stuffed Zucchini (Koosa)  Mellas Family Lamb Stuffed Zucchini (Koosa)   \n",
       "Spanakopita (Greek Spinach Pie)                          Spanakopita (Greek Spinach Pie)   \n",
       "Diane's Colcannon                                                      Diane's Colcannon   \n",
       "The Best Steak Marinade                                          The Best Steak Marinade   \n",
       "\n",
       "                                            Total Carbohydrates Total Fat  \\\n",
       "Italian Spaghetti Sauce with Meatballs                     23.7      21.2   \n",
       "Mellas Family Lamb Stuffed Zucchini (Koosa)                44.8      26.6   \n",
       "Spanakopita (Greek Spinach Pie)                            31.5      34.7   \n",
       "Diane's Colcannon                                          29.8      12.6   \n",
       "The Best Steak Marinade                                     7.8      13.5   \n",
       "\n",
       "                                             Vitamin A  Vitamin B6  Vitamin C  \\\n",
       "Italian Spaghetti Sauce with Meatballs           825IU         1.0       33.0   \n",
       "Mellas Family Lamb Stuffed Zucchini (Koosa)      762IU         1.0       49.0   \n",
       "Spanakopita (Greek Spinach Pie)                12264IU         1.0       62.0   \n",
       "Diane's Colcannon                                258IU         1.0       45.0   \n",
       "The Best Steak Marinade                           14IU         0.0        3.0   \n",
       "\n",
       "                                             VeggieWeight NutriScore  \\\n",
       "Italian Spaghetti Sauce with Meatballs              363.0         -1   \n",
       "Mellas Family Lamb Stuffed Zucchini (Koosa)         326.0         -2   \n",
       "Spanakopita (Greek Spinach Pie)                     236.0          0   \n",
       "Diane's Colcannon                                   190.0         -1   \n",
       "The Best Steak Marinade                               1.0          3   \n",
       "\n",
       "                                             NutriLetter  \n",
       "Italian Spaghetti Sauce with Meatballs                 A  \n",
       "Mellas Family Lamb Stuffed Zucchini (Koosa)            A  \n",
       "Spanakopita (Greek Spinach Pie)                        B  \n",
       "Diane's Colcannon                                      A  \n",
       "The Best Steak Marinade                                C  \n",
       "\n",
       "[5 rows x 27 columns]"
      ]
     },
     "execution_count": 151,
     "metadata": {},
     "output_type": "execute_result"
    }
   ],
   "source": [
    "Full.iloc[labels == 1]"
   ]
  },
  {
   "cell_type": "markdown",
   "metadata": {},
   "source": [
    "# Health data "
   ]
  },
  {
   "cell_type": "markdown",
   "metadata": {},
   "source": [
    "We want to study the impact of the most popular recipes on the health of people. To be able to achieve that goal we need some data about food related diseases. We chose to focus on overweight / obesity and diabetes in each region of the world. We got the data from the World Health Organization (WHO).\n",
    "​\n",
    "The datasets we chose to use are the following:\n",
    "- percentage of overweight (BMI > 25) people in each country / world region\n",
    "- percentage of obesity (BMI > 30) in each country / world region\n",
    "- percentage of diabetes in each country / wolrd region"
   ]
  },
  {
   "cell_type": "markdown",
   "metadata": {},
   "source": [
    "### Necessary imports, data paths and loading of datasets into dataframes"
   ]
  },
  {
   "cell_type": "code",
   "execution_count": 3,
   "metadata": {},
   "outputs": [],
   "source": [
    "#Dataset paths\n",
    "health_data_path = 'data/health/originals/'\n",
    "project_health_data_path = 'data/health/project_adapted/'\n",
    "\n",
    "#LOAD THE DATASETS\n",
    "\n",
    "#Percentage of dying between the ages of 30-70 of cardiovascular and respiratory diseases, cancer, diabetes by country and region\n",
    "mortality_country = pd.read_csv(project_health_data_path + 'NCDMORT3070.csv', skiprows = 1)\n",
    "mortality_region = pd.read_csv(project_health_data_path + 'diseases_region.csv', skiprows = 1)\n",
    "\n",
    "#Percentage of diabetes by country\n",
    "diabetes_country = pd.read_csv(project_health_data_path + 'diabetes.csv', index_col = 0)\n",
    "diseases_region = pd.read_csv(project_health_data_path + 'diseases.csv')\n",
    "\n",
    "#Percentage of overweight by country and region\n",
    "overweight_country = pd.read_csv(project_health_data_path + 'overweight_country.csv', index_col = 0)\n",
    "overweight_region = pd.read_csv(project_health_data_path + 'overweight_region.csv', index_col = 0)\n",
    "\n",
    "#Percentage of obesity by country and region\n",
    "obesity_country = pd.read_csv(project_health_data_path + 'obesity_country.csv', index_col = 0)\n",
    "obesity_region = pd.read_csv(project_health_data_path + 'obesity_region.csv', index_col = 0)"
   ]
  },
  {
   "cell_type": "markdown",
   "metadata": {},
   "source": [
    "### Clean the data"
   ]
  },
  {
   "cell_type": "code",
   "execution_count": 4,
   "metadata": {},
   "outputs": [],
   "source": [
    "#Set column names\n",
    "newcols = ['Country', 'Year', 'Both sexes', 'Male', 'Female']\n",
    "newcols1 = ['Country', 'Diabete percentage']\n",
    "newcols2 = ['Region', 'Obesity percentage']\n",
    "newcols3 = ['Region', 'Overweight percentage']\n",
    "mortality_country.columns = newcols\n",
    "mortality_region.columns = newcols\n",
    "diabetes_country.columns = newcols1\n",
    "obesity_region.columns = newcols2\n",
    "overweight_region.columns = newcols3"
   ]
  },
  {
   "cell_type": "code",
   "execution_count": 5,
   "metadata": {},
   "outputs": [
    {
     "data": {
      "text/plain": [
       "(195, 2)"
      ]
     },
     "execution_count": 5,
     "metadata": {},
     "output_type": "execute_result"
    }
   ],
   "source": [
    "overweight_country.shape"
   ]
  },
  {
   "cell_type": "code",
   "execution_count": 6,
   "metadata": {},
   "outputs": [
    {
     "data": {
      "text/plain": [
       "False"
      ]
     },
     "execution_count": 6,
     "metadata": {},
     "output_type": "execute_result"
    }
   ],
   "source": [
    "overweight_country.isnull().values.any()"
   ]
  },
  {
   "cell_type": "code",
   "execution_count": 7,
   "metadata": {},
   "outputs": [
    {
     "data": {
      "text/plain": [
       "(195, 2)"
      ]
     },
     "execution_count": 7,
     "metadata": {},
     "output_type": "execute_result"
    }
   ],
   "source": [
    "obesity_country.shape"
   ]
  },
  {
   "cell_type": "code",
   "execution_count": 8,
   "metadata": {},
   "outputs": [
    {
     "data": {
      "text/plain": [
       "False"
      ]
     },
     "execution_count": 8,
     "metadata": {},
     "output_type": "execute_result"
    }
   ],
   "source": [
    "obesity_country.isnull().values.any()"
   ]
  },
  {
   "cell_type": "code",
   "execution_count": 9,
   "metadata": {},
   "outputs": [
    {
     "data": {
      "text/plain": [
       "(253, 2)"
      ]
     },
     "execution_count": 9,
     "metadata": {},
     "output_type": "execute_result"
    }
   ],
   "source": [
    "diabetes_country.shape"
   ]
  },
  {
   "cell_type": "code",
   "execution_count": 10,
   "metadata": {},
   "outputs": [
    {
     "data": {
      "text/plain": [
       "False"
      ]
     },
     "execution_count": 10,
     "metadata": {},
     "output_type": "execute_result"
    }
   ],
   "source": [
    "diabetes_country.isnull().values.any()"
   ]
  },
  {
   "cell_type": "markdown",
   "metadata": {},
   "source": [
    "We find the same number of countries in the overweight and obesity datasets, we will merge this two along with the diabetes dataset, at first we choose to merge the first two dataframes and compare the countries with the diabetes dataset to check for any country names that might need to be changed."
   ]
  },
  {
   "cell_type": "code",
   "execution_count": 11,
   "metadata": {},
   "outputs": [
    {
     "data": {
      "text/html": [
       "<div>\n",
       "<style scoped>\n",
       "    .dataframe tbody tr th:only-of-type {\n",
       "        vertical-align: middle;\n",
       "    }\n",
       "\n",
       "    .dataframe tbody tr th {\n",
       "        vertical-align: top;\n",
       "    }\n",
       "\n",
       "    .dataframe thead th {\n",
       "        text-align: right;\n",
       "    }\n",
       "</style>\n",
       "<table border=\"1\" class=\"dataframe\">\n",
       "  <thead>\n",
       "    <tr style=\"text-align: right;\">\n",
       "      <th></th>\n",
       "      <th>Country</th>\n",
       "      <th>Overweight percentage</th>\n",
       "      <th>Obesity percentage</th>\n",
       "      <th>Diabete percentage</th>\n",
       "    </tr>\n",
       "  </thead>\n",
       "  <tbody>\n",
       "    <tr>\n",
       "      <th>0</th>\n",
       "      <td>Afghanistan</td>\n",
       "      <td>19.7</td>\n",
       "      <td>4.5</td>\n",
       "      <td>9.59</td>\n",
       "    </tr>\n",
       "    <tr>\n",
       "      <th>1</th>\n",
       "      <td>Albania</td>\n",
       "      <td>58.7</td>\n",
       "      <td>22.3</td>\n",
       "      <td>10.08</td>\n",
       "    </tr>\n",
       "    <tr>\n",
       "      <th>2</th>\n",
       "      <td>Algeria</td>\n",
       "      <td>60.7</td>\n",
       "      <td>26.6</td>\n",
       "      <td>6.73</td>\n",
       "    </tr>\n",
       "    <tr>\n",
       "      <th>3</th>\n",
       "      <td>Andorra</td>\n",
       "      <td>68.1</td>\n",
       "      <td>28.0</td>\n",
       "      <td>7.97</td>\n",
       "    </tr>\n",
       "    <tr>\n",
       "      <th>4</th>\n",
       "      <td>Angola</td>\n",
       "      <td>23.9</td>\n",
       "      <td>6.8</td>\n",
       "      <td>3.94</td>\n",
       "    </tr>\n",
       "  </tbody>\n",
       "</table>\n",
       "</div>"
      ],
      "text/plain": [
       "       Country Overweight percentage Obesity percentage  Diabete percentage\n",
       "0  Afghanistan                  19.7                4.5                9.59\n",
       "1      Albania                  58.7               22.3               10.08\n",
       "2      Algeria                  60.7               26.6                6.73\n",
       "3      Andorra                  68.1               28.0                7.97\n",
       "4       Angola                  23.9                6.8                3.94"
      ]
     },
     "execution_count": 11,
     "metadata": {},
     "output_type": "execute_result"
    }
   ],
   "source": [
    "#Merge overweight, obesity and diabetes data for each country on a single dataframe\n",
    "result = pd.merge(overweight_country, obesity_country, on= 'Country')\n",
    "result2 = pd.merge(result, diabetes_country, on='Country')\n",
    "result2.head()"
   ]
  },
  {
   "cell_type": "markdown",
   "metadata": {},
   "source": [
    "# Why our interest to find any correlations between health markers and nutrition?"
   ]
  },
  {
   "cell_type": "markdown",
   "metadata": {},
   "source": [
    "Noncommunicable diseases (NCDs) are the leading causes of death and were responsible for an estimated 39.5 million (72%) of the world’s 54.7 million deaths in 2016. Of the major NCDs, cardiovascular diseases (CVD) were the leading cause of NCD mortality in 2016 and was responsible for nearly half of all NCD deaths. Modifiable risk factors such as unhealthy diet, physical inactivity, tobacco use and harmful use of alcohol are major causes of CVDs. Dietary saturated fatty acids and trans-fatty acids are of particular concern as high levels of intake are correlated with increased risk of CVDs.\n",
    "\n",
    "Saturated fatty acid and trans-fatty foods photoWHO/Pixabay\n",
    "Saturated fatty acids are found in foods from animal sources such as butter, milk, meat, salmon, and egg yolks, and some plant-derived products such as chocolate and cocoa butter, coconut, palm and palm kernel oils. Trans-fatty acids can be industrially produced by the partial hydrogenation of vegetable and fish oils, but also occur naturally in meat and dairy products from ruminant animals (e.g. cattle, sheep, goats, camels, etc.). Industrially-produced trans-fatty acids can be found in baked and fried foods (e.g. doughnuts, cookies, crackers and pies), pre-packaged snacks and food, and partially hydrogenated cooking oils and fats which are often used at home, in restaurants, or in the informal sector, such as street vendors."
   ]
  },
  {
   "cell_type": "markdown",
   "metadata": {},
   "source": [
    "On the other hand, childhood obesity is one of the most serious global public health challenges of the 21st century, affecting every country in the world. In just 40 years the number of school-age children and adolescents with obesity has risen more than 10-fold, from 11 million to 124 million (2016 estimates). In addition, an estimated 216 million were classified as overweight but not obese in 2016.\n",
    "\n",
    "The condition also affects younger children, with over 38 million children aged under 5 living with overweight or obesity in 2017. The epidemic has been growing most rapidly in low- and middle-income countries, particularly in Northern and Southern Africa, the Middle East and the Pacific Islands. Although most countries are still off-track to meet the 2025 targets, many are taking action and some have achieved a levelling-off in childhood obesity rates. Investing in children’s health will help meet the global health targets and substantially reduce the predicted health and economic costs of obesity."
   ]
  },
  {
   "cell_type": "markdown",
   "metadata": {},
   "source": [
    "### Let's start by analizing our data"
   ]
  },
  {
   "cell_type": "markdown",
   "metadata": {},
   "source": [
    "In health studies is always interesting to define gender-specific biases especially in cardio-respiratories diseases where it has been shown that it affects 30% more the male population form ages 18-45."
   ]
  },
  {
   "cell_type": "code",
   "execution_count": 12,
   "metadata": {},
   "outputs": [
    {
     "data": {
      "image/png": "[encoded data removed]",
      "text/plain": [
       "<Figure size 432x288 with 1 Axes>"
      ]
     },
     "metadata": {},
     "output_type": "display_data"
    }
   ],
   "source": [
    "#Distribution of the percentage of dying of CRCD diseases by country\n",
    "#Note: CRCD - Cardio-respiratory, cancer and diabetes\n",
    "\n",
    "mortality_copy = mortality_country.copy()\n",
    "mortality_copy.drop(['Year'], axis = 1, inplace = True)\n",
    "mortality_copy.groupby(['Country']).mean()\n",
    "\n",
    "#Plotting all\n",
    "hx = mortality_copy.plot(kind = 'hist', bins = 20, grid = True, title = 'Distribution of the Percentage of dying between the ages of 30-70 of CRCD diseases' );\n"
   ]
  },
  {
   "cell_type": "code",
   "execution_count": 13,
   "metadata": {},
   "outputs": [
    {
     "data": {
      "image/png": "[encoded data removed]",
      "text/plain": [
       "<Figure size 432x288 with 1 Axes>"
      ]
     },
     "metadata": {},
     "output_type": "display_data"
    }
   ],
   "source": [
    "test = mortality_country.copy()\n",
    "test.drop(['Year', 'Male'], axis = 1, inplace = True)\n",
    "test.groupby(['Country']).apply(lambda x : x-15)\n",
    "\n",
    "test.plot(kind = 'hist', bins = 100, grid = True, title = 'Distribution of the Percentage of dying between the ages of 30-70 of CRCD diseases' );\n"
   ]
  },
  {
   "cell_type": "markdown",
   "metadata": {},
   "source": [
    "We thus, confirm that as the male population gets the older, the risk of somatizing one of the following diseases: \n",
    "\n",
    "Cardiovascular \n",
    "\n",
    "Respiratory\n",
    "\n",
    "Cancer\n",
    "\n",
    "Diabetes\n",
    "\n",
    "Increases with respect to the female population from the ages 18-45. The frequency of deaths appears also higher in the eldest years of life and stops around 60 years old. We also visualize the fact that in most countries the percentage of dying form one of these diseases is the highest at around 25% which means that 25% of the population in most countries is dying from these disease. Thus, it is not really necessary to separate the male/female population as we only want an overwiew of the food choice related to the different countries."
   ]
  },
  {
   "cell_type": "markdown",
   "metadata": {},
   "source": [
    "The figure above shows the percentage of dying of CRCD diseases between the ages 30-70 for male and female populations. We observe that these diseases affect, by visual inspection, more the male population. The mean for both sexes is placed at around 22 percent."
   ]
  },
  {
   "cell_type": "markdown",
   "metadata": {},
   "source": [
    "### Now let's add our calculations for the nutriscore for our scraped international recipes and see if we find any interesting correlations"
   ]
  },
  {
   "cell_type": "code",
   "execution_count": 14,
   "metadata": {},
   "outputs": [
    {
     "data": {
      "text/html": [
       "<div>\n",
       "<style scoped>\n",
       "    .dataframe tbody tr th:only-of-type {\n",
       "        vertical-align: middle;\n",
       "    }\n",
       "\n",
       "    .dataframe tbody tr th {\n",
       "        vertical-align: top;\n",
       "    }\n",
       "\n",
       "    .dataframe thead th {\n",
       "        text-align: right;\n",
       "    }\n",
       "</style>\n",
       "<table border=\"1\" class=\"dataframe\">\n",
       "  <thead>\n",
       "    <tr style=\"text-align: right;\">\n",
       "      <th></th>\n",
       "      <th>Calcium</th>\n",
       "      <th>Calories</th>\n",
       "      <th>Cholesterol</th>\n",
       "      <th>Dietary Fiber</th>\n",
       "      <th>Folate</th>\n",
       "      <th>Iron</th>\n",
       "      <th>Magnesium</th>\n",
       "      <th>Niacin</th>\n",
       "      <th>Popularity</th>\n",
       "      <th>Potassium</th>\n",
       "      <th>...</th>\n",
       "      <th>Thiamin</th>\n",
       "      <th>Title</th>\n",
       "      <th>Total Carbohydrates</th>\n",
       "      <th>Total Fat</th>\n",
       "      <th>Vitamin A</th>\n",
       "      <th>Vitamin B6</th>\n",
       "      <th>Vitamin C</th>\n",
       "      <th>VeggieWeight</th>\n",
       "      <th>NutriScore</th>\n",
       "      <th>NutriLetter</th>\n",
       "    </tr>\n",
       "  </thead>\n",
       "  <tbody>\n",
       "    <tr>\n",
       "      <th>Low-Carb Jicama Tostadas</th>\n",
       "      <td>18.0</td>\n",
       "      <td>57</td>\n",
       "      <td>0.0</td>\n",
       "      <td>7.4</td>\n",
       "      <td>18.0</td>\n",
       "      <td>1.0</td>\n",
       "      <td>18.0</td>\n",
       "      <td>0.0</td>\n",
       "      <td>3.0</td>\n",
       "      <td>225.0</td>\n",
       "      <td>...</td>\n",
       "      <td>0.0</td>\n",
       "      <td>Low-Carb Jicama Tostadas</td>\n",
       "      <td>13.2</td>\n",
       "      <td>0.1</td>\n",
       "      <td>32IU</td>\n",
       "      <td>0.0</td>\n",
       "      <td>30.0</td>\n",
       "      <td>0.0</td>\n",
       "      <td>-2</td>\n",
       "      <td>A</td>\n",
       "    </tr>\n",
       "    <tr>\n",
       "      <th>Best Fish Tacos</th>\n",
       "      <td>80.0</td>\n",
       "      <td>322</td>\n",
       "      <td>35.0</td>\n",
       "      <td>3.8</td>\n",
       "      <td>88.0</td>\n",
       "      <td>3.0</td>\n",
       "      <td>48.0</td>\n",
       "      <td>6.0</td>\n",
       "      <td>3.0</td>\n",
       "      <td>591.0</td>\n",
       "      <td>...</td>\n",
       "      <td>0.0</td>\n",
       "      <td>Best Fish Tacos</td>\n",
       "      <td>34.6</td>\n",
       "      <td>9.0</td>\n",
       "      <td>1043IU</td>\n",
       "      <td>0.0</td>\n",
       "      <td>18.0</td>\n",
       "      <td>145.0</td>\n",
       "      <td>-1</td>\n",
       "      <td>A</td>\n",
       "    </tr>\n",
       "    <tr>\n",
       "      <th>Crispy Pork Carnitas</th>\n",
       "      <td>35.0</td>\n",
       "      <td>317</td>\n",
       "      <td>89.0</td>\n",
       "      <td>0.4</td>\n",
       "      <td>5.0</td>\n",
       "      <td>2.0</td>\n",
       "      <td>23.0</td>\n",
       "      <td>10.0</td>\n",
       "      <td>267.0</td>\n",
       "      <td>371.0</td>\n",
       "      <td>...</td>\n",
       "      <td>1.0</td>\n",
       "      <td>Crispy Pork Carnitas</td>\n",
       "      <td>2.1</td>\n",
       "      <td>22.6</td>\n",
       "      <td>17IU</td>\n",
       "      <td>0.0</td>\n",
       "      <td>2.0</td>\n",
       "      <td>16.0</td>\n",
       "      <td>2</td>\n",
       "      <td>B</td>\n",
       "    </tr>\n",
       "    <tr>\n",
       "      <th>Jeannie's Vegetarian Enchiladas</th>\n",
       "      <td>376.0</td>\n",
       "      <td>626</td>\n",
       "      <td>59.0</td>\n",
       "      <td>9.6</td>\n",
       "      <td>193.0</td>\n",
       "      <td>6.0</td>\n",
       "      <td>77.0</td>\n",
       "      <td>8.0</td>\n",
       "      <td>1.0</td>\n",
       "      <td>818.0</td>\n",
       "      <td>...</td>\n",
       "      <td>1.0</td>\n",
       "      <td>Jeannie's Vegetarian Enchiladas</td>\n",
       "      <td>67.2</td>\n",
       "      <td>31.2</td>\n",
       "      <td>2569IU</td>\n",
       "      <td>0.0</td>\n",
       "      <td>49.0</td>\n",
       "      <td>172.0</td>\n",
       "      <td>2</td>\n",
       "      <td>B</td>\n",
       "    </tr>\n",
       "    <tr>\n",
       "      <th>Mexican Corn Bread Casserole</th>\n",
       "      <td>168.0</td>\n",
       "      <td>304</td>\n",
       "      <td>101.0</td>\n",
       "      <td>1.9</td>\n",
       "      <td>58.0</td>\n",
       "      <td>2.0</td>\n",
       "      <td>28.0</td>\n",
       "      <td>6.0</td>\n",
       "      <td>21.0</td>\n",
       "      <td>372.0</td>\n",
       "      <td>...</td>\n",
       "      <td>0.0</td>\n",
       "      <td>Mexican Corn Bread Casserole</td>\n",
       "      <td>21.5</td>\n",
       "      <td>16.3</td>\n",
       "      <td>840IU</td>\n",
       "      <td>0.0</td>\n",
       "      <td>12.0</td>\n",
       "      <td>58.0</td>\n",
       "      <td>2</td>\n",
       "      <td>B</td>\n",
       "    </tr>\n",
       "  </tbody>\n",
       "</table>\n",
       "<p>5 rows × 27 columns</p>\n",
       "</div>"
      ],
      "text/plain": [
       "                                  Calcium  Calories  Cholesterol  \\\n",
       "Low-Carb Jicama Tostadas             18.0        57          0.0   \n",
       "Best Fish Tacos                      80.0       322         35.0   \n",
       "Crispy Pork Carnitas                 35.0       317         89.0   \n",
       "Jeannie's Vegetarian Enchiladas     376.0       626         59.0   \n",
       "Mexican Corn Bread Casserole        168.0       304        101.0   \n",
       "\n",
       "                                  Dietary Fiber  Folate  Iron  Magnesium  \\\n",
       "Low-Carb Jicama Tostadas                    7.4    18.0   1.0       18.0   \n",
       "Best Fish Tacos                             3.8    88.0   3.0       48.0   \n",
       "Crispy Pork Carnitas                        0.4     5.0   2.0       23.0   \n",
       "Jeannie's Vegetarian Enchiladas             9.6   193.0   6.0       77.0   \n",
       "Mexican Corn Bread Casserole                1.9    58.0   2.0       28.0   \n",
       "\n",
       "                                  Niacin  Popularity  Potassium     ...       \\\n",
       "Low-Carb Jicama Tostadas             0.0         3.0      225.0     ...        \n",
       "Best Fish Tacos                      6.0         3.0      591.0     ...        \n",
       "Crispy Pork Carnitas                10.0       267.0      371.0     ...        \n",
       "Jeannie's Vegetarian Enchiladas      8.0         1.0      818.0     ...        \n",
       "Mexican Corn Bread Casserole         6.0        21.0      372.0     ...        \n",
       "\n",
       "                                  Thiamin                             Title  \\\n",
       "Low-Carb Jicama Tostadas              0.0          Low-Carb Jicama Tostadas   \n",
       "Best Fish Tacos                       0.0                  Best Fish Tacos    \n",
       "Crispy Pork Carnitas                  1.0              Crispy Pork Carnitas   \n",
       "Jeannie's Vegetarian Enchiladas       1.0  Jeannie's Vegetarian Enchiladas    \n",
       "Mexican Corn Bread Casserole          0.0      Mexican Corn Bread Casserole   \n",
       "\n",
       "                                 Total Carbohydrates Total Fat  Vitamin A  \\\n",
       "Low-Carb Jicama Tostadas                        13.2       0.1       32IU   \n",
       "Best Fish Tacos                                 34.6       9.0     1043IU   \n",
       "Crispy Pork Carnitas                             2.1      22.6       17IU   \n",
       "Jeannie's Vegetarian Enchiladas                 67.2      31.2     2569IU   \n",
       "Mexican Corn Bread Casserole                    21.5      16.3      840IU   \n",
       "\n",
       "                                  Vitamin B6  Vitamin C  VeggieWeight  \\\n",
       "Low-Carb Jicama Tostadas                 0.0       30.0           0.0   \n",
       "Best Fish Tacos                          0.0       18.0         145.0   \n",
       "Crispy Pork Carnitas                     0.0        2.0          16.0   \n",
       "Jeannie's Vegetarian Enchiladas          0.0       49.0         172.0   \n",
       "Mexican Corn Bread Casserole             0.0       12.0          58.0   \n",
       "\n",
       "                                 NutriScore  NutriLetter  \n",
       "Low-Carb Jicama Tostadas                 -2            A  \n",
       "Best Fish Tacos                          -1            A  \n",
       "Crispy Pork Carnitas                      2            B  \n",
       "Jeannie's Vegetarian Enchiladas           2            B  \n",
       "Mexican Corn Bread Casserole              2            B  \n",
       "\n",
       "[5 rows x 27 columns]"
      ]
     },
     "execution_count": 14,
     "metadata": {},
     "output_type": "execute_result"
    }
   ],
   "source": [
    "nutriscore = pd.read_csv('fullWithNutri.csv', index_col=0)\n",
    "nutriscore.head()"
   ]
  },
  {
   "cell_type": "markdown",
   "metadata": {},
   "source": [
    "The Nutriscore is a standard way of measuring the nutritious value of any given plate/recipe/food and standardizes these values regardless of a possible existance of high levels of sugars, fats, ot proteins as a given recipe can contain high amounts of fruits and vegetables and still contain a high sugar consumption for example.\n",
    "\n",
    "Nowadays, public health institutions, diet fads and regimes, and the whole fitness industries have recognized the importance of a low-sugar healthy-based diet. In the following results and calculation we will map certain macronutrients deem as crucial to the development of health-related markers with respect to cardio-respiratory, cancer and diabetes in both countries and regions of the world.\n",
    "\n",
    "Let's start by calculation the ratio of sugar to calories. To do so, a sugar is considered to have 4 kcal/g thus for each gram of sugar we have 4 kcal of energy. We will also explore the prevalence of saturated fats and protein content, fats are assumed to have 9kcal/g and protein 4kcal/g."
   ]
  },
  {
   "cell_type": "code",
   "execution_count": 15,
   "metadata": {},
   "outputs": [],
   "source": [
    "#Sugar consumption\n",
    "\n",
    "##For sugar consumption we calculate the ratio of sugar to the number of calories\n",
    "nutriscore['Sugar Consumption'] = nutriscore['Sugars']*4/nutriscore['Calories']*100\n",
    "\n",
    "##We take the food for which their sugar content is >= 25% \n",
    "sugar_region = nutriscore[nutriscore['Sugar Consumption'] >= 25][['Region', 'Sugar Consumption']].groupby('Region').mean()\n",
    "sugar_region.reset_index(level=0, inplace=True)\n",
    "\n",
    "## Ratio Saturated fats/calories\n",
    "total_cals = nutriscore.groupby('Region')['Calories'].mean()\n",
    "fats = nutriscore.groupby('Region')['Saturated Fat'].mean().apply(lambda x: x*9)/total_cals*100\n",
    "\n",
    "##Ratio protein/calories\n",
    "proteins = nutriscore.groupby('Region')['Protein'].mean().apply(lambda x: x*4)/total_cals*100\n",
    "\n",
    "##NutriScore\n",
    "nutri = nutriscore.groupby('Region')['NutriScore'].mean()"
   ]
  },
  {
   "cell_type": "markdown",
   "metadata": {},
   "source": [
    "### Is a high consumption of sugar a real indicator of obesity, overweight or diabetes prevalence in the regions of the world?"
   ]
  },
  {
   "cell_type": "code",
   "execution_count": 16,
   "metadata": {},
   "outputs": [],
   "source": [
    "old_regions = ['australian-and-new-zealander', 'canadian', 'chinese', 'east-african', 'eastern-european',\n",
    "            'german', 'scandinavian', 'south-american', 'spanish', 'thai']\n",
    "new_regions = ['Western Pacific', 'Americas', 'South-East Asia', 'Africa', \n",
    "            'Eastern-Mediterranean', 'Europe', 'Europe', 'Americas', 'Europe', \n",
    "            'South-East Asia' ]\n",
    "sugar_region['Region'].replace(old_regions, new_regions, inplace = True)\n",
    "sugar_region = sugar_region.groupby(['Region']).mean()\n",
    "sugar_region.reset_index(level=0, inplace=True)\n",
    "obesity_region = obesity_region.drop(obesity_region.index[len(obesity_region)-1])\n",
    "overweight_region = overweight_region.drop(overweight_region.index[len(overweight_region)-1])"
   ]
  },
  {
   "cell_type": "code",
   "execution_count": 17,
   "metadata": {},
   "outputs": [],
   "source": [
    "result0 = pd.merge(obesity_region, sugar_region, on = 'Region')\n",
    "result1 = pd.merge(result0, overweight_region, on = 'Region')"
   ]
  },
  {
   "cell_type": "code",
   "execution_count": 18,
   "metadata": {},
   "outputs": [
    {
     "data": {
      "text/plain": [
       "Text(0.5,0,'5 Regions of the World')"
      ]
     },
     "execution_count": 18,
     "metadata": {},
     "output_type": "execute_result"
    },
    {
     "data": {
      "image/png": "[encoded data removed]",
      "text/plain": [
       "<Figure size 864x432 with 2 Axes>"
      ]
     },
     "metadata": {},
     "output_type": "display_data"
    }
   ],
   "source": [
    "fig, axes = plt.subplots(nrows=1, ncols=2,figsize=(12,6))\n",
    "ax1 = result1.plot(ax=axes[0])\n",
    "ax1.set_xlabel(\"5 Regions of the World\")\n",
    "ax2 = result1.plot(ax=axes[1], style=['o','rx', 'x'])\n",
    "ax2.set_xlabel(\"5 Regions of the World\")"
   ]
  },
  {
   "cell_type": "markdown",
   "metadata": {},
   "source": [
    "Let's finish this section by calculation the **Pearson coefficient** out of these values and confirm our results."
   ]
  },
  {
   "cell_type": "code",
   "execution_count": 19,
   "metadata": {},
   "outputs": [
    {
     "data": {
      "text/html": [
       "<div>\n",
       "<style scoped>\n",
       "    .dataframe tbody tr th:only-of-type {\n",
       "        vertical-align: middle;\n",
       "    }\n",
       "\n",
       "    .dataframe tbody tr th {\n",
       "        vertical-align: top;\n",
       "    }\n",
       "\n",
       "    .dataframe thead th {\n",
       "        text-align: right;\n",
       "    }\n",
       "</style>\n",
       "<table border=\"1\" class=\"dataframe\">\n",
       "  <thead>\n",
       "    <tr style=\"text-align: right;\">\n",
       "      <th></th>\n",
       "      <th>Obesity percentage</th>\n",
       "      <th>Sugar Consumption</th>\n",
       "      <th>Overweight percentage</th>\n",
       "    </tr>\n",
       "  </thead>\n",
       "  <tbody>\n",
       "    <tr>\n",
       "      <th>Obesity percentage</th>\n",
       "      <td>1.000000</td>\n",
       "      <td>0.416353</td>\n",
       "      <td>0.979070</td>\n",
       "    </tr>\n",
       "    <tr>\n",
       "      <th>Sugar Consumption</th>\n",
       "      <td>0.416353</td>\n",
       "      <td>1.000000</td>\n",
       "      <td>0.296885</td>\n",
       "    </tr>\n",
       "    <tr>\n",
       "      <th>Overweight percentage</th>\n",
       "      <td>0.979070</td>\n",
       "      <td>0.296885</td>\n",
       "      <td>1.000000</td>\n",
       "    </tr>\n",
       "  </tbody>\n",
       "</table>\n",
       "</div>"
      ],
      "text/plain": [
       "                       Obesity percentage  Sugar Consumption  \\\n",
       "Obesity percentage               1.000000           0.416353   \n",
       "Sugar Consumption                0.416353           1.000000   \n",
       "Overweight percentage            0.979070           0.296885   \n",
       "\n",
       "                       Overweight percentage  \n",
       "Obesity percentage                  0.979070  \n",
       "Sugar Consumption                   0.296885  \n",
       "Overweight percentage               1.000000  "
      ]
     },
     "execution_count": 19,
     "metadata": {},
     "output_type": "execute_result"
    }
   ],
   "source": [
    "result1.corr()"
   ]
  },
  {
   "cell_type": "markdown",
   "metadata": {},
   "source": [
    "What's up with these results? Clearly there is no surprise and there's an almost perfect positive Pearson correlation between obesity and overweight per region of the world. **However, there's no clear evidence that a higher consumption of sugar found on the most popular dishes of the different regions of the world plays a role on the obesity or overweight percentage in the same region.**\n",
    "\n",
    "The latter is due to the fact that we don't have a lot of different recipes, also the sugar content was placed at 25% of sugar contained in the recipe and while this is an important assumption there is clearly no need to look for further information regarding this aspect, we will continue our study in the quest of predicting health-related conditions from our recipe data."
   ]
  },
  {
   "cell_type": "markdown",
   "metadata": {},
   "source": [
    "### Is a high consumption of saturated fats and protein content a real indicator of obesity, overweight or diabetes prevalence in the countries of the world?"
   ]
  },
  {
   "cell_type": "code",
   "execution_count": 20,
   "metadata": {},
   "outputs": [],
   "source": [
    "fat_prot = pd.concat([fats, proteins, nutri], axis=1).reset_index()\n",
    "fat_prot.drop([3,4,13], inplace=True)\n",
    "fat_prot.columns = ['Region', 'Saturated fat', 'Protein content', 'NutriScore']"
   ]
  },
  {
   "cell_type": "code",
   "execution_count": 21,
   "metadata": {},
   "outputs": [
    {
     "data": {
      "text/html": [
       "<div>\n",
       "<style scoped>\n",
       "    .dataframe tbody tr th:only-of-type {\n",
       "        vertical-align: middle;\n",
       "    }\n",
       "\n",
       "    .dataframe tbody tr th {\n",
       "        vertical-align: top;\n",
       "    }\n",
       "\n",
       "    .dataframe thead th {\n",
       "        text-align: right;\n",
       "    }\n",
       "</style>\n",
       "<table border=\"1\" class=\"dataframe\">\n",
       "  <thead>\n",
       "    <tr style=\"text-align: right;\">\n",
       "      <th></th>\n",
       "      <th>Region</th>\n",
       "      <th>Overweight percentage</th>\n",
       "      <th>Obesity percentage</th>\n",
       "      <th>Diabetes percentage</th>\n",
       "      <th>Mortality</th>\n",
       "      <th>Saturated fat</th>\n",
       "      <th>Protein content</th>\n",
       "      <th>NutriScore</th>\n",
       "    </tr>\n",
       "  </thead>\n",
       "  <tbody>\n",
       "    <tr>\n",
       "      <th>0</th>\n",
       "      <td>australian-and-new-zealander</td>\n",
       "      <td>67.2</td>\n",
       "      <td>30.4</td>\n",
       "      <td>5.07</td>\n",
       "      <td>9.1</td>\n",
       "      <td>15.593452</td>\n",
       "      <td>16.076398</td>\n",
       "      <td>2.052632</td>\n",
       "    </tr>\n",
       "    <tr>\n",
       "      <th>1</th>\n",
       "      <td>canadian</td>\n",
       "      <td>67.5</td>\n",
       "      <td>31.3</td>\n",
       "      <td>7.37</td>\n",
       "      <td>9.8</td>\n",
       "      <td>16.313505</td>\n",
       "      <td>18.238448</td>\n",
       "      <td>2.050000</td>\n",
       "    </tr>\n",
       "    <tr>\n",
       "      <th>2</th>\n",
       "      <td>chinese</td>\n",
       "      <td>33.8</td>\n",
       "      <td>6.6</td>\n",
       "      <td>9.74</td>\n",
       "      <td>17.0</td>\n",
       "      <td>8.923850</td>\n",
       "      <td>26.060286</td>\n",
       "      <td>0.600000</td>\n",
       "    </tr>\n",
       "    <tr>\n",
       "      <th>3</th>\n",
       "      <td>french</td>\n",
       "      <td>62.9</td>\n",
       "      <td>23.2</td>\n",
       "      <td>4.77</td>\n",
       "      <td>10.6</td>\n",
       "      <td>29.679144</td>\n",
       "      <td>17.956031</td>\n",
       "      <td>2.421053</td>\n",
       "    </tr>\n",
       "    <tr>\n",
       "      <th>4</th>\n",
       "      <td>german</td>\n",
       "      <td>62.8</td>\n",
       "      <td>25.7</td>\n",
       "      <td>5.06</td>\n",
       "      <td>12.1</td>\n",
       "      <td>14.169550</td>\n",
       "      <td>17.979239</td>\n",
       "      <td>1.222222</td>\n",
       "    </tr>\n",
       "  </tbody>\n",
       "</table>\n",
       "</div>"
      ],
      "text/plain": [
       "                         Region  Overweight percentage  Obesity percentage  \\\n",
       "0  australian-and-new-zealander                   67.2                30.4   \n",
       "1                      canadian                   67.5                31.3   \n",
       "2                       chinese                   33.8                 6.6   \n",
       "3                        french                   62.9                23.2   \n",
       "4                        german                   62.8                25.7   \n",
       "\n",
       "   Diabetes percentage  Mortality  Saturated fat  Protein content  NutriScore  \n",
       "0                 5.07        9.1      15.593452        16.076398    2.052632  \n",
       "1                 7.37        9.8      16.313505        18.238448    2.050000  \n",
       "2                 9.74       17.0       8.923850        26.060286    0.600000  \n",
       "3                 4.77       10.6      29.679144        17.956031    2.421053  \n",
       "4                 5.06       12.1      14.169550        17.979239    1.222222  "
      ]
     },
     "execution_count": 21,
     "metadata": {},
     "output_type": "execute_result"
    }
   ],
   "source": [
    "result_region = pd.merge(diseases_region, fat_prot, on = 'Region')\n",
    "result_region.head()"
   ]
  },
  {
   "cell_type": "code",
   "execution_count": 22,
   "metadata": {},
   "outputs": [
    {
     "data": {
      "image/png": "[encoded data removed]",
      "text/plain": [
       "<Figure size 1080x360 with 2 Axes>"
      ]
     },
     "metadata": {},
     "output_type": "display_data"
    }
   ],
   "source": [
    "#Visualization with respect to obesity\n",
    "fig, axes = plt.subplots(nrows=1, ncols=2,figsize=(15,5))\n",
    "\n",
    "ax1 = result_region.plot(kind = 'scatter', ax=axes[0], x = 'Obesity percentage', y = 'Mortality', label = 'Mortality %', color = 'g', grid = True, title = \"Visualization with respect to obesity %\")\n",
    "ax2 = result_region.plot(kind = 'scatter', x = 'Obesity percentage', y = 'Protein content', label = 'Protein content', ax = axes[1], grid = True)\n",
    "ax3 = result_region.plot(kind = 'scatter', x = 'Obesity percentage', y = 'Saturated fat', label = 'Saturated fat', ax = axes[1], color = 'r', grid = True, title = \"Visualization with respect to obesity %\")"
   ]
  },
  {
   "cell_type": "code",
   "execution_count": 23,
   "metadata": {},
   "outputs": [
    {
     "data": {
      "image/png": "[encoded data removed]",
      "text/plain": [
       "<Figure size 1080x360 with 2 Axes>"
      ]
     },
     "metadata": {},
     "output_type": "display_data"
    }
   ],
   "source": [
    "#Visualization with respect to mortality\n",
    "fig, axes = plt.subplots(nrows=1, ncols=2,figsize=(15,5))\n",
    "\n",
    "ax1 = result_region.plot(kind = 'scatter', ax=axes[0], x = 'Mortality', y = 'Saturated fat', label = 'Saturated fat', color = 'r', grid = True, title = \"Visualization with respect to mortality %\")\n",
    "ax2 = result_region.plot(kind = 'scatter', x = 'Mortality', y = 'Protein content', label = 'Protein content', ax = axes[0], grid = True)\n",
    "ax3 = result_region.plot(kind = 'scatter', x = 'Mortality', y = 'Diabetes percentage', label = 'Diabetes %', ax = axes[1], color = 'g', grid = True, title = \"Visualization with respect to mortality %\")"
   ]
  },
  {
   "cell_type": "markdown",
   "metadata": {},
   "source": [
    "We proposed to two different visualizations, the first one with respect the obesity percentage. We see no clear correlation between a higher consumption of saturated fats or protein. However, for a high percentage of obesity in the regions there is a small cluster of regions that have high tendancy of mortality. On the second figure we observe the consumption of satrated fats and protein a long a mortality axis. Again it is not possible to draw any conclusions from this visualization."
   ]
  },
  {
   "cell_type": "markdown",
   "metadata": {},
   "source": [
    "Let's calculate the correlation matrix between our variables:"
   ]
  },
  {
   "cell_type": "code",
   "execution_count": 24,
   "metadata": {},
   "outputs": [
    {
     "data": {
      "text/html": [
       "<div>\n",
       "<style scoped>\n",
       "    .dataframe tbody tr th:only-of-type {\n",
       "        vertical-align: middle;\n",
       "    }\n",
       "\n",
       "    .dataframe tbody tr th {\n",
       "        vertical-align: top;\n",
       "    }\n",
       "\n",
       "    .dataframe thead th {\n",
       "        text-align: right;\n",
       "    }\n",
       "</style>\n",
       "<table border=\"1\" class=\"dataframe\">\n",
       "  <thead>\n",
       "    <tr style=\"text-align: right;\">\n",
       "      <th></th>\n",
       "      <th>Overweight percentage</th>\n",
       "      <th>Obesity percentage</th>\n",
       "      <th>Diabetes percentage</th>\n",
       "      <th>Mortality</th>\n",
       "      <th>Saturated fat</th>\n",
       "      <th>Protein content</th>\n",
       "      <th>NutriScore</th>\n",
       "    </tr>\n",
       "  </thead>\n",
       "  <tbody>\n",
       "    <tr>\n",
       "      <th>Overweight percentage</th>\n",
       "      <td>1.000000</td>\n",
       "      <td>0.971822</td>\n",
       "      <td>-0.313933</td>\n",
       "      <td>-0.496330</td>\n",
       "      <td>-0.044760</td>\n",
       "      <td>-0.497910</td>\n",
       "      <td>0.050246</td>\n",
       "    </tr>\n",
       "    <tr>\n",
       "      <th>Obesity percentage</th>\n",
       "      <td>0.971822</td>\n",
       "      <td>1.000000</td>\n",
       "      <td>-0.193628</td>\n",
       "      <td>-0.361304</td>\n",
       "      <td>-0.049713</td>\n",
       "      <td>-0.539843</td>\n",
       "      <td>-0.019222</td>\n",
       "    </tr>\n",
       "    <tr>\n",
       "      <th>Diabetes percentage</th>\n",
       "      <td>-0.313933</td>\n",
       "      <td>-0.193628</td>\n",
       "      <td>1.000000</td>\n",
       "      <td>0.696534</td>\n",
       "      <td>-0.093171</td>\n",
       "      <td>0.345717</td>\n",
       "      <td>-0.474333</td>\n",
       "    </tr>\n",
       "    <tr>\n",
       "      <th>Mortality</th>\n",
       "      <td>-0.496330</td>\n",
       "      <td>-0.361304</td>\n",
       "      <td>0.696534</td>\n",
       "      <td>1.000000</td>\n",
       "      <td>0.092514</td>\n",
       "      <td>0.333359</td>\n",
       "      <td>-0.542228</td>\n",
       "    </tr>\n",
       "    <tr>\n",
       "      <th>Saturated fat</th>\n",
       "      <td>-0.044760</td>\n",
       "      <td>-0.049713</td>\n",
       "      <td>-0.093171</td>\n",
       "      <td>0.092514</td>\n",
       "      <td>1.000000</td>\n",
       "      <td>-0.294427</td>\n",
       "      <td>0.527613</td>\n",
       "    </tr>\n",
       "    <tr>\n",
       "      <th>Protein content</th>\n",
       "      <td>-0.497910</td>\n",
       "      <td>-0.539843</td>\n",
       "      <td>0.345717</td>\n",
       "      <td>0.333359</td>\n",
       "      <td>-0.294427</td>\n",
       "      <td>1.000000</td>\n",
       "      <td>-0.492726</td>\n",
       "    </tr>\n",
       "    <tr>\n",
       "      <th>NutriScore</th>\n",
       "      <td>0.050246</td>\n",
       "      <td>-0.019222</td>\n",
       "      <td>-0.474333</td>\n",
       "      <td>-0.542228</td>\n",
       "      <td>0.527613</td>\n",
       "      <td>-0.492726</td>\n",
       "      <td>1.000000</td>\n",
       "    </tr>\n",
       "  </tbody>\n",
       "</table>\n",
       "</div>"
      ],
      "text/plain": [
       "                       Overweight percentage  Obesity percentage  \\\n",
       "Overweight percentage               1.000000            0.971822   \n",
       "Obesity percentage                  0.971822            1.000000   \n",
       "Diabetes percentage                -0.313933           -0.193628   \n",
       "Mortality                          -0.496330           -0.361304   \n",
       "Saturated fat                      -0.044760           -0.049713   \n",
       "Protein content                    -0.497910           -0.539843   \n",
       "NutriScore                          0.050246           -0.019222   \n",
       "\n",
       "                       Diabetes percentage  Mortality  Saturated fat  \\\n",
       "Overweight percentage            -0.313933  -0.496330      -0.044760   \n",
       "Obesity percentage               -0.193628  -0.361304      -0.049713   \n",
       "Diabetes percentage               1.000000   0.696534      -0.093171   \n",
       "Mortality                         0.696534   1.000000       0.092514   \n",
       "Saturated fat                    -0.093171   0.092514       1.000000   \n",
       "Protein content                   0.345717   0.333359      -0.294427   \n",
       "NutriScore                       -0.474333  -0.542228       0.527613   \n",
       "\n",
       "                       Protein content  NutriScore  \n",
       "Overweight percentage        -0.497910    0.050246  \n",
       "Obesity percentage           -0.539843   -0.019222  \n",
       "Diabetes percentage           0.345717   -0.474333  \n",
       "Mortality                     0.333359   -0.542228  \n",
       "Saturated fat                -0.294427    0.527613  \n",
       "Protein content               1.000000   -0.492726  \n",
       "NutriScore                   -0.492726    1.000000  "
      ]
     },
     "execution_count": 24,
     "metadata": {},
     "output_type": "execute_result"
    }
   ],
   "source": [
    "result_region.corr()"
   ]
  },
  {
   "cell_type": "markdown",
   "metadata": {},
   "source": [
    "### **What about the nutriscore?** Let's see how the nutriscore is represented in the diferent regions of the world..."
   ]
  },
  {
   "cell_type": "code",
   "execution_count": 25,
   "metadata": {},
   "outputs": [
    {
     "data": {
      "image/png": "[encoded data removed]",
      "text/plain": [
       "<Figure size 432x288 with 1 Axes>"
      ]
     },
     "metadata": {},
     "output_type": "display_data"
    }
   ],
   "source": [
    "#Visualization with respect to NutriScore\n",
    "ax1 = result_region.plot(kind = 'scatter', x = 'NutriScore', y = 'Obesity percentage', label = 'Obesity %', color = 'r', title = \"Visulization with respect to NutriScore\")\n",
    "ax2 = result_region.plot(kind = 'scatter', x = 'NutriScore', y = 'Diabetes percentage', label = 'Diabetes %', ax = ax1)\n",
    "ax3 = result_region.plot(kind = 'scatter', x = 'NutriScore', y = 'Mortality', label = 'Mortality %', ax = ax1, color = 'g')"
   ]
  },
  {
   "cell_type": "markdown",
   "metadata": {},
   "source": [
    "### Finally, how about we try find any  correlation between the quantity of both the saturated fats and sugar content..."
   ]
  },
  {
   "cell_type": "code",
   "execution_count": 59,
   "metadata": {},
   "outputs": [
    {
     "data": {
      "text/html": [
       "<div>\n",
       "<style scoped>\n",
       "    .dataframe tbody tr th:only-of-type {\n",
       "        vertical-align: middle;\n",
       "    }\n",
       "\n",
       "    .dataframe tbody tr th {\n",
       "        vertical-align: top;\n",
       "    }\n",
       "\n",
       "    .dataframe thead th {\n",
       "        text-align: right;\n",
       "    }\n",
       "</style>\n",
       "<table border=\"1\" class=\"dataframe\">\n",
       "  <thead>\n",
       "    <tr style=\"text-align: right;\">\n",
       "      <th></th>\n",
       "      <th>Region</th>\n",
       "      <th>Overweight percentage</th>\n",
       "      <th>Obesity percentage</th>\n",
       "      <th>Diabetes percentage</th>\n",
       "      <th>Mortality</th>\n",
       "      <th>% Saturated fats and sugar</th>\n",
       "    </tr>\n",
       "  </thead>\n",
       "  <tbody>\n",
       "    <tr>\n",
       "      <th>0</th>\n",
       "      <td>australian-and-new-zealander</td>\n",
       "      <td>67.2</td>\n",
       "      <td>30.4</td>\n",
       "      <td>5.07</td>\n",
       "      <td>9.1</td>\n",
       "      <td>26.398363</td>\n",
       "    </tr>\n",
       "    <tr>\n",
       "      <th>1</th>\n",
       "      <td>canadian</td>\n",
       "      <td>67.5</td>\n",
       "      <td>31.3</td>\n",
       "      <td>7.37</td>\n",
       "      <td>9.8</td>\n",
       "      <td>27.546592</td>\n",
       "    </tr>\n",
       "    <tr>\n",
       "      <th>2</th>\n",
       "      <td>chinese</td>\n",
       "      <td>33.8</td>\n",
       "      <td>6.6</td>\n",
       "      <td>9.74</td>\n",
       "      <td>17.0</td>\n",
       "      <td>26.745108</td>\n",
       "    </tr>\n",
       "    <tr>\n",
       "      <th>3</th>\n",
       "      <td>french</td>\n",
       "      <td>62.9</td>\n",
       "      <td>23.2</td>\n",
       "      <td>4.77</td>\n",
       "      <td>10.6</td>\n",
       "      <td>36.393345</td>\n",
       "    </tr>\n",
       "    <tr>\n",
       "      <th>4</th>\n",
       "      <td>german</td>\n",
       "      <td>62.8</td>\n",
       "      <td>25.7</td>\n",
       "      <td>5.06</td>\n",
       "      <td>12.1</td>\n",
       "      <td>25.173010</td>\n",
       "    </tr>\n",
       "  </tbody>\n",
       "</table>\n",
       "</div>"
      ],
      "text/plain": [
       "                         Region  Overweight percentage  Obesity percentage  \\\n",
       "0  australian-and-new-zealander                   67.2                30.4   \n",
       "1                      canadian                   67.5                31.3   \n",
       "2                       chinese                   33.8                 6.6   \n",
       "3                        french                   62.9                23.2   \n",
       "4                        german                   62.8                25.7   \n",
       "\n",
       "   Diabetes percentage  Mortality  % Saturated fats and sugar  \n",
       "0                 5.07        9.1                   26.398363  \n",
       "1                 7.37        9.8                   27.546592  \n",
       "2                 9.74       17.0                   26.745108  \n",
       "3                 4.77       10.6                   36.393345  \n",
       "4                 5.06       12.1                   25.173010  "
      ]
     },
     "execution_count": 59,
     "metadata": {},
     "output_type": "execute_result"
    }
   ],
   "source": [
    "sugars = nutriscore.groupby('Region')['Sugars'].mean().apply(lambda x: x*4)/total_cals*100\n",
    "fats_sugars = pd.DataFrame(sugars+fats, columns=['% Saturated fats and sugar'])\n",
    "result_fat_sugar = pd.merge(diseases_region, fats_sugars, on = 'Region')\n",
    "result_fat_sugar.head()"
   ]
  },
  {
   "cell_type": "code",
   "execution_count": 64,
   "metadata": {},
   "outputs": [
    {
     "data": {
      "image/png": "[encoded data removed]",
      "text/plain": [
       "<Figure size 1080x360 with 2 Axes>"
      ]
     },
     "metadata": {},
     "output_type": "display_data"
    }
   ],
   "source": [
    "fig, axes = plt.subplots(nrows=1, ncols=2,figsize=(15,5))\n",
    "\n",
    "ax1 = result_fat_sugar.plot(kind = 'scatter', ax=axes[0], x = 'Mortality', y = '% Saturated fats and sugar', label = '% fats and sugar', grid = True, title = \"Visualization with respect to mortality %\")\n",
    "ax2 = result_fat_sugar.plot(kind = 'scatter', ax=axes[1], x = 'Obesity percentage', y = '% Saturated fats and sugar', label = '% fats and sugar', color = 'r', grid = True , title = \"Visualization with respect to obesity %\")"
   ]
  },
  {
   "cell_type": "code",
   "execution_count": 65,
   "metadata": {},
   "outputs": [
    {
     "data": {
      "text/html": [
       "<div>\n",
       "<style scoped>\n",
       "    .dataframe tbody tr th:only-of-type {\n",
       "        vertical-align: middle;\n",
       "    }\n",
       "\n",
       "    .dataframe tbody tr th {\n",
       "        vertical-align: top;\n",
       "    }\n",
       "\n",
       "    .dataframe thead th {\n",
       "        text-align: right;\n",
       "    }\n",
       "</style>\n",
       "<table border=\"1\" class=\"dataframe\">\n",
       "  <thead>\n",
       "    <tr style=\"text-align: right;\">\n",
       "      <th></th>\n",
       "      <th>Overweight percentage</th>\n",
       "      <th>Obesity percentage</th>\n",
       "      <th>Diabetes percentage</th>\n",
       "      <th>Mortality</th>\n",
       "      <th>% Saturated fats and sugar</th>\n",
       "    </tr>\n",
       "  </thead>\n",
       "  <tbody>\n",
       "    <tr>\n",
       "      <th>Overweight percentage</th>\n",
       "      <td>1.000000</td>\n",
       "      <td>0.971822</td>\n",
       "      <td>-0.313933</td>\n",
       "      <td>-0.496330</td>\n",
       "      <td>-0.205713</td>\n",
       "    </tr>\n",
       "    <tr>\n",
       "      <th>Obesity percentage</th>\n",
       "      <td>0.971822</td>\n",
       "      <td>1.000000</td>\n",
       "      <td>-0.193628</td>\n",
       "      <td>-0.361304</td>\n",
       "      <td>-0.226529</td>\n",
       "    </tr>\n",
       "    <tr>\n",
       "      <th>Diabetes percentage</th>\n",
       "      <td>-0.313933</td>\n",
       "      <td>-0.193628</td>\n",
       "      <td>1.000000</td>\n",
       "      <td>0.696534</td>\n",
       "      <td>-0.122808</td>\n",
       "    </tr>\n",
       "    <tr>\n",
       "      <th>Mortality</th>\n",
       "      <td>-0.496330</td>\n",
       "      <td>-0.361304</td>\n",
       "      <td>0.696534</td>\n",
       "      <td>1.000000</td>\n",
       "      <td>0.002770</td>\n",
       "    </tr>\n",
       "    <tr>\n",
       "      <th>% Saturated fats and sugar</th>\n",
       "      <td>-0.205713</td>\n",
       "      <td>-0.226529</td>\n",
       "      <td>-0.122808</td>\n",
       "      <td>0.002770</td>\n",
       "      <td>1.000000</td>\n",
       "    </tr>\n",
       "  </tbody>\n",
       "</table>\n",
       "</div>"
      ],
      "text/plain": [
       "                            Overweight percentage  Obesity percentage  \\\n",
       "Overweight percentage                    1.000000            0.971822   \n",
       "Obesity percentage                       0.971822            1.000000   \n",
       "Diabetes percentage                     -0.313933           -0.193628   \n",
       "Mortality                               -0.496330           -0.361304   \n",
       "% Saturated fats and sugar              -0.205713           -0.226529   \n",
       "\n",
       "                            Diabetes percentage  Mortality  \\\n",
       "Overweight percentage                 -0.313933  -0.496330   \n",
       "Obesity percentage                    -0.193628  -0.361304   \n",
       "Diabetes percentage                    1.000000   0.696534   \n",
       "Mortality                              0.696534   1.000000   \n",
       "% Saturated fats and sugar            -0.122808   0.002770   \n",
       "\n",
       "                            % Saturated fats and sugar  \n",
       "Overweight percentage                        -0.205713  \n",
       "Obesity percentage                           -0.226529  \n",
       "Diabetes percentage                          -0.122808  \n",
       "Mortality                                     0.002770  \n",
       "% Saturated fats and sugar                    1.000000  "
      ]
     },
     "execution_count": 65,
     "metadata": {},
     "output_type": "execute_result"
    }
   ],
   "source": [
    "result_fat_sugar.corr()"
   ]
  },
  {
   "cell_type": "markdown",
   "metadata": {},
   "source": [
    "### Why do we obtain these results? \n",
    "\n",
    "It is clear that a healthy diet and exercise are essential for a long, fulfilling live. But it is not always the quality of the food and its macronutrients who will determine health-related condition all over the world. The socio-economic impact on the health of the people is extremely significant. As you will see in the next study case. Several regions of the world have a low obesity and low consumption of sugars and saturated fats however their mortality is on the other side of the spectrum. Regions of the world, namely Africa, Asia and South America suffer from extreme poverty and food is not available to them. It thus, very difficult to get any interesting correlation from these databases. However, we were able to prove how the male population sufferes from cardio-respiratory diseases in a higher frequency than women. It will be interesting to showcase our case study and compare the health markers, sugar and fat consumption of a well established country: Canada"
   ]
  },
  {
   "cell_type": "markdown",
   "metadata": {},
   "source": [
    "# Case Study: Canada"
   ]
  },
  {
   "cell_type": "code",
   "execution_count": 68,
   "metadata": {},
   "outputs": [
    {
     "data": {
      "text/html": [
       "<div>\n",
       "<style scoped>\n",
       "    .dataframe tbody tr th:only-of-type {\n",
       "        vertical-align: middle;\n",
       "    }\n",
       "\n",
       "    .dataframe tbody tr th {\n",
       "        vertical-align: top;\n",
       "    }\n",
       "\n",
       "    .dataframe thead th {\n",
       "        text-align: right;\n",
       "    }\n",
       "</style>\n",
       "<table border=\"1\" class=\"dataframe\">\n",
       "  <thead>\n",
       "    <tr style=\"text-align: right;\">\n",
       "      <th></th>\n",
       "      <th>index</th>\n",
       "      <th>Calcium</th>\n",
       "      <th>Calories</th>\n",
       "      <th>Cholesterol</th>\n",
       "      <th>Dietary Fiber</th>\n",
       "      <th>Folate</th>\n",
       "      <th>Iron</th>\n",
       "      <th>Magnesium</th>\n",
       "      <th>Niacin</th>\n",
       "      <th>Popularity</th>\n",
       "      <th>...</th>\n",
       "      <th>Title</th>\n",
       "      <th>Total Carbohydrates</th>\n",
       "      <th>Total Fat</th>\n",
       "      <th>Vitamin A</th>\n",
       "      <th>Vitamin B6</th>\n",
       "      <th>Vitamin C</th>\n",
       "      <th>VeggieWeight</th>\n",
       "      <th>NutriScore</th>\n",
       "      <th>NutriLetter</th>\n",
       "      <th>Sugar Consumption</th>\n",
       "    </tr>\n",
       "  </thead>\n",
       "  <tbody>\n",
       "    <tr>\n",
       "      <th>0</th>\n",
       "      <td>The Best Rolled Sugar Cookies</td>\n",
       "      <td>14.0</td>\n",
       "      <td>109</td>\n",
       "      <td>25.0</td>\n",
       "      <td>0.3</td>\n",
       "      <td>21.0</td>\n",
       "      <td>1.0</td>\n",
       "      <td>3.0</td>\n",
       "      <td>1.0</td>\n",
       "      <td>15000.0</td>\n",
       "      <td>...</td>\n",
       "      <td>The Best Rolled Sugar Cookies</td>\n",
       "      <td>14.7</td>\n",
       "      <td>5.0</td>\n",
       "      <td>158IU</td>\n",
       "      <td>0.0</td>\n",
       "      <td>0.0</td>\n",
       "      <td>0.0</td>\n",
       "      <td>1</td>\n",
       "      <td>B</td>\n",
       "      <td>25.688073</td>\n",
       "    </tr>\n",
       "    <tr>\n",
       "      <th>1</th>\n",
       "      <td>Butternut Squash Soup II</td>\n",
       "      <td>178.0</td>\n",
       "      <td>305</td>\n",
       "      <td>21.0</td>\n",
       "      <td>9.5</td>\n",
       "      <td>111.0</td>\n",
       "      <td>3.0</td>\n",
       "      <td>136.0</td>\n",
       "      <td>6.0</td>\n",
       "      <td>3000.0</td>\n",
       "      <td>...</td>\n",
       "      <td>Butternut Squash Soup II</td>\n",
       "      <td>59.7</td>\n",
       "      <td>6.8</td>\n",
       "      <td>35991IU</td>\n",
       "      <td>1.0</td>\n",
       "      <td>89.0</td>\n",
       "      <td>232.0</td>\n",
       "      <td>0</td>\n",
       "      <td>B</td>\n",
       "      <td>13.114754</td>\n",
       "    </tr>\n",
       "    <tr>\n",
       "      <th>2</th>\n",
       "      <td>Old Fashioned Onion Rings</td>\n",
       "      <td>265.0</td>\n",
       "      <td>641</td>\n",
       "      <td>69.0</td>\n",
       "      <td>3.5</td>\n",
       "      <td>146.0</td>\n",
       "      <td>4.0</td>\n",
       "      <td>40.0</td>\n",
       "      <td>8.0</td>\n",
       "      <td>1000.0</td>\n",
       "      <td>...</td>\n",
       "      <td>Old Fashioned Onion Rings</td>\n",
       "      <td>68.3</td>\n",
       "      <td>34.6</td>\n",
       "      <td>256IU</td>\n",
       "      <td>0.0</td>\n",
       "      <td>4.0</td>\n",
       "      <td>37.0</td>\n",
       "      <td>5</td>\n",
       "      <td>C</td>\n",
       "      <td>4.992200</td>\n",
       "    </tr>\n",
       "    <tr>\n",
       "      <th>3</th>\n",
       "      <td>Crispy Orange Beef</td>\n",
       "      <td>122.0</td>\n",
       "      <td>507</td>\n",
       "      <td>60.0</td>\n",
       "      <td>5.9</td>\n",
       "      <td>197.0</td>\n",
       "      <td>5.0</td>\n",
       "      <td>79.0</td>\n",
       "      <td>11.0</td>\n",
       "      <td>1000.0</td>\n",
       "      <td>...</td>\n",
       "      <td>Crispy Orange Beef</td>\n",
       "      <td>59.2</td>\n",
       "      <td>18.7</td>\n",
       "      <td>1280IU</td>\n",
       "      <td>1.0</td>\n",
       "      <td>189.0</td>\n",
       "      <td>10.0</td>\n",
       "      <td>0</td>\n",
       "      <td>B</td>\n",
       "      <td>13.412229</td>\n",
       "    </tr>\n",
       "    <tr>\n",
       "      <th>4</th>\n",
       "      <td>Boneless Buffalo Wings</td>\n",
       "      <td>131.0</td>\n",
       "      <td>710</td>\n",
       "      <td>136.0</td>\n",
       "      <td>1.7</td>\n",
       "      <td>89.0</td>\n",
       "      <td>4.0</td>\n",
       "      <td>41.0</td>\n",
       "      <td>15.0</td>\n",
       "      <td>1000.0</td>\n",
       "      <td>...</td>\n",
       "      <td>Boneless Buffalo Wings</td>\n",
       "      <td>43.7</td>\n",
       "      <td>46.9</td>\n",
       "      <td>751IU</td>\n",
       "      <td>0.0</td>\n",
       "      <td>15.0</td>\n",
       "      <td>0.0</td>\n",
       "      <td>6</td>\n",
       "      <td>C</td>\n",
       "      <td>2.253521</td>\n",
       "    </tr>\n",
       "  </tbody>\n",
       "</table>\n",
       "<p>5 rows × 29 columns</p>\n",
       "</div>"
      ],
      "text/plain": [
       "                           index  Calcium  Calories  Cholesterol  \\\n",
       "0  The Best Rolled Sugar Cookies     14.0       109         25.0   \n",
       "1       Butternut Squash Soup II    178.0       305         21.0   \n",
       "2      Old Fashioned Onion Rings    265.0       641         69.0   \n",
       "3             Crispy Orange Beef    122.0       507         60.0   \n",
       "4         Boneless Buffalo Wings    131.0       710        136.0   \n",
       "\n",
       "   Dietary Fiber  Folate  Iron  Magnesium  Niacin  Popularity  \\\n",
       "0            0.3    21.0   1.0        3.0     1.0     15000.0   \n",
       "1            9.5   111.0   3.0      136.0     6.0      3000.0   \n",
       "2            3.5   146.0   4.0       40.0     8.0      1000.0   \n",
       "3            5.9   197.0   5.0       79.0    11.0      1000.0   \n",
       "4            1.7    89.0   4.0       41.0    15.0      1000.0   \n",
       "\n",
       "         ...                                 Title  Total Carbohydrates  \\\n",
       "0        ...         The Best Rolled Sugar Cookies                 14.7   \n",
       "1        ...              Butternut Squash Soup II                 59.7   \n",
       "2        ...             Old Fashioned Onion Rings                 68.3   \n",
       "3        ...                    Crispy Orange Beef                 59.2   \n",
       "4        ...                Boneless Buffalo Wings                 43.7   \n",
       "\n",
       "   Total Fat Vitamin A Vitamin B6  Vitamin C  VeggieWeight  NutriScore  \\\n",
       "0        5.0     158IU        0.0        0.0           0.0           1   \n",
       "1        6.8   35991IU        1.0       89.0         232.0           0   \n",
       "2       34.6     256IU        0.0        4.0          37.0           5   \n",
       "3       18.7    1280IU        1.0      189.0          10.0           0   \n",
       "4       46.9     751IU        0.0       15.0           0.0           6   \n",
       "\n",
       "   NutriLetter Sugar Consumption  \n",
       "0            B         25.688073  \n",
       "1            B         13.114754  \n",
       "2            C          4.992200  \n",
       "3            B         13.412229  \n",
       "4            C          2.253521  \n",
       "\n",
       "[5 rows x 29 columns]"
      ]
     },
     "execution_count": 68,
     "metadata": {},
     "output_type": "execute_result"
    }
   ],
   "source": [
    "canadian_recipes = nutriscore[nutriscore['Region'] == 'canadian'].reset_index()\n",
    "canadian_recipes.head()"
   ]
  },
  {
   "cell_type": "code",
   "execution_count": 69,
   "metadata": {},
   "outputs": [
    {
     "data": {
      "image/png": "[encoded data removed]",
      "text/plain": [
       "<Figure size 432x288 with 1 Axes>"
      ]
     },
     "metadata": {},
     "output_type": "display_data"
    }
   ],
   "source": [
    "ax = canadian_recipes['NutriScore'].plot(kind = 'bar', grid = True, title = 'Distribution of the nutriscores')\n",
    "ax.set_xlabel(\"All the canadian recipes\");\n",
    "ax.set_ylabel(\"Nutri score\");"
   ]
  },
  {
   "cell_type": "markdown",
   "metadata": {},
   "source": [
    "First of all, as a remainder, the recipe is considered healthy when the nutriscore is negative and unhealthy when its positive. We observe a higher number of unhealthy recipes in the canadian traditional cuisine."
   ]
  },
  {
   "cell_type": "markdown",
   "metadata": {},
   "source": [
    "### Let's visualize how the nutriscores of the canadian recipes compare to the rest"
   ]
  },
  {
   "cell_type": "code",
   "execution_count": 70,
   "metadata": {},
   "outputs": [
    {
     "data": {
      "image/png": "[encoded data removed]",
      "text/plain": [
       "<Figure size 432x288 with 1 Axes>"
      ]
     },
     "metadata": {},
     "output_type": "display_data"
    }
   ],
   "source": [
    "hx1 = nutriscore['NutriScore'].plot(style=['o'], title = \"Plot of the nutriscores of all recipes\")\n",
    "hx2 = canadian_recipes['NutriScore'].plot(style=['rx'], label = 'Canadian recipes', ax = hx1)\n",
    "hx2.set_xlabel(\"All recipes\");\n",
    "hx2.set_ylabel(\"NutriScore\");"
   ]
  },
  {
   "cell_type": "markdown",
   "metadata": {},
   "source": [
    "As seen above, the nutriscore of the canadian recipes is set around the mean value of the other recipes, all clustered around the [-5, 5] region"
   ]
  },
  {
   "cell_type": "code",
   "execution_count": 71,
   "metadata": {},
   "outputs": [
    {
     "data": {
      "text/html": [
       "<div>\n",
       "<style scoped>\n",
       "    .dataframe tbody tr th:only-of-type {\n",
       "        vertical-align: middle;\n",
       "    }\n",
       "\n",
       "    .dataframe tbody tr th {\n",
       "        vertical-align: top;\n",
       "    }\n",
       "\n",
       "    .dataframe thead th {\n",
       "        text-align: right;\n",
       "    }\n",
       "</style>\n",
       "<table border=\"1\" class=\"dataframe\">\n",
       "  <thead>\n",
       "    <tr style=\"text-align: right;\">\n",
       "      <th></th>\n",
       "      <th>Region</th>\n",
       "      <th>Overweight percentage</th>\n",
       "      <th>Obesity percentage</th>\n",
       "      <th>Diabetes percentage</th>\n",
       "      <th>Mortality</th>\n",
       "    </tr>\n",
       "  </thead>\n",
       "  <tbody>\n",
       "    <tr>\n",
       "      <th>1</th>\n",
       "      <td>canadian</td>\n",
       "      <td>67.5</td>\n",
       "      <td>31.3</td>\n",
       "      <td>7.37</td>\n",
       "      <td>9.8</td>\n",
       "    </tr>\n",
       "  </tbody>\n",
       "</table>\n",
       "</div>"
      ],
      "text/plain": [
       "     Region  Overweight percentage  Obesity percentage  Diabetes percentage  \\\n",
       "1  canadian                   67.5                31.3                 7.37   \n",
       "\n",
       "   Mortality  \n",
       "1        9.8  "
      ]
     },
     "execution_count": 71,
     "metadata": {},
     "output_type": "execute_result"
    }
   ],
   "source": [
    "diseases_region[diseases_region['Region'] == 'canadian']"
   ]
  },
  {
   "cell_type": "markdown",
   "metadata": {},
   "source": [
    "To continue our analysis, we will explore how the different health-related markers are presented over the world, here we use the median as a method to avoid extreme values present in regions such as african or asian countries."
   ]
  },
  {
   "cell_type": "code",
   "execution_count": 72,
   "metadata": {},
   "outputs": [],
   "source": [
    "params_health = ['Overweight percentage', 'Obesity percentage', 'Diabetes percentage', 'Mortality', 'Sugar Consumption', \n",
    "                'Saturated fat', 'NutriScore']\n",
    "\n",
    "#Calculate WORLD median values\n",
    "overweight_m = diseases_region['Overweight percentage'].median()\n",
    "obesity_m = diseases_region['Obesity percentage'].median()\n",
    "diabetes_m = diseases_region['Diabetes percentage'].median()\n",
    "mortality_m = diseases_region['Mortality'].median()\n",
    "sugar_m = nutriscore['Sugar Consumption'].median()\n",
    "fat_m = nutriscore['Saturated Fat'].median()\n",
    "nutriscore_m = nutriscore['NutriScore'].median()\n",
    "world_values = [overweight_m, obesity_m, diabetes_m, mortality_m, sugar_m, fat_m, nutriscore_m]\n",
    "\n",
    "#Calculate CANADIAN values\n",
    "canada_values = diseases_region[diseases_region['Region'] == 'canadian']\n",
    "overweight_c = canada_values['Overweight percentage'].mean()\n",
    "obesity_c = canada_values['Obesity percentage'].mean()\n",
    "diabetes_c = canada_values['Diabetes percentage'].mean()\n",
    "mortality_c = canada_values['Mortality'].mean()\n",
    "sugar_c = canadian_recipes['Sugar Consumption'].mean()\n",
    "fat_c = canadian_recipes['Saturated Fat'].mean()\n",
    "nutriscore_c = canadian_recipes['NutriScore'].mean()\n",
    "canada_values = [overweight_c, obesity_c, diabetes_c, mortality_c, sugar_c, fat_c, nutriscore_c]"
   ]
  },
  {
   "cell_type": "code",
   "execution_count": 86,
   "metadata": {},
   "outputs": [
    {
     "data": {
      "text/html": [
       "<div>\n",
       "<style scoped>\n",
       "    .dataframe tbody tr th:only-of-type {\n",
       "        vertical-align: middle;\n",
       "    }\n",
       "\n",
       "    .dataframe tbody tr th {\n",
       "        vertical-align: top;\n",
       "    }\n",
       "\n",
       "    .dataframe thead th {\n",
       "        text-align: right;\n",
       "    }\n",
       "</style>\n",
       "<table border=\"1\" class=\"dataframe\">\n",
       "  <thead>\n",
       "    <tr style=\"text-align: right;\">\n",
       "      <th></th>\n",
       "      <th>Overweight percentage</th>\n",
       "      <th>Obesity percentage</th>\n",
       "      <th>Diabetes percentage</th>\n",
       "      <th>Mortality</th>\n",
       "      <th>Sugar Consumption</th>\n",
       "      <th>Saturated fat</th>\n",
       "      <th>NutriScore</th>\n",
       "    </tr>\n",
       "  </thead>\n",
       "  <tbody>\n",
       "    <tr>\n",
       "      <th>World</th>\n",
       "      <td>64.1</td>\n",
       "      <td>26.4</td>\n",
       "      <td>6.395</td>\n",
       "      <td>11.5</td>\n",
       "      <td>5.228758</td>\n",
       "      <td>5.0</td>\n",
       "      <td>1.00</td>\n",
       "    </tr>\n",
       "    <tr>\n",
       "      <th>Canada</th>\n",
       "      <td>67.5</td>\n",
       "      <td>31.3</td>\n",
       "      <td>7.370</td>\n",
       "      <td>9.8</td>\n",
       "      <td>13.035867</td>\n",
       "      <td>7.1</td>\n",
       "      <td>2.05</td>\n",
       "    </tr>\n",
       "  </tbody>\n",
       "</table>\n",
       "</div>"
      ],
      "text/plain": [
       "        Overweight percentage  Obesity percentage  Diabetes percentage  \\\n",
       "World                    64.1                26.4                6.395   \n",
       "Canada                   67.5                31.3                7.370   \n",
       "\n",
       "        Mortality  Sugar Consumption  Saturated fat  NutriScore  \n",
       "World        11.5           5.228758            5.0        1.00  \n",
       "Canada        9.8          13.035867            7.1        2.05  "
      ]
     },
     "execution_count": 86,
     "metadata": {},
     "output_type": "execute_result"
    }
   ],
   "source": [
    "canada_world = pd.DataFrame(np.row_stack([world_values, canada_values]), \n",
    "                               columns=params_health)\n",
    "canada_world.rename({0: 'World', 1: 'Canada'}, axis='index')"
   ]
  },
  {
   "cell_type": "markdown",
   "metadata": {},
   "source": [
    "It is not possible to predict health-related markers with a high level of accuracy with our data. However, we observe that Canada has a high consumption of saturated fat and sugar (well above the median), it's nutriscore (remember: the lowest it is, the better and healthier the food is) shows also an unhealthy trend and above all, the health-related markers: Overweight, Obesity and Diabetes are also above the median. This simple but insighful case study shows that if we wanted to predict at a high level of accuracy the health conditions of a country from its traditional food/recipes we would need also a socio-economic study (mentioned before) in order to eliminate such factors and focus exclusively on the correlation between the quality of available food and different health conditions. As an example, China has a small consumption of sugar and saturated fats but the fact that the socio-economic atmosphere is not the best to grow healthy affected our studies. Also, some other african and asian countries presented high levels of sugar consumption but low obesity due to the fact that poverty is very common in these regions."
   ]
  },
  {
   "cell_type": "markdown",
   "metadata": {},
   "source": [
    "## Is the nutriscore a real indicator of health-related markers in countries?"
   ]
  },
  {
   "cell_type": "markdown",
   "metadata": {},
   "source": [
    "In a nutshell, it is not. The socio-economic gap and rich/poor balance are too big to be ignored. They have to be taken into account or choose only industrialized countries from the globe. The data available from the recipes is also not enough to draw any interesting correlations between the health markers, but some interesting conclusions can be obtained from it. The case study: Canada showed interesting information on how higher consumption of fats and sugars, and a low quality of food (measured by the nutriscore) has a mild impact on the health of their citizens in comparison to the world's health-markers. Again, this information should be taken with proper care. One other important factor to mention is the fact that the recipes provided by the websites target (mainly) US citizens, whose diet differs from the countries' authentic. "
   ]
  },
  {
   "cell_type": "code",
   "execution_count": null,
   "metadata": {},
   "outputs": [],
   "source": []
  }
 ],
 "metadata": {
  "kernelspec": {
   "display_name": "Python [conda env:anaconda3]",
   "language": "python",
   "name": "conda-env-anaconda3-py"
  },
  "language_info": {
   "codemirror_mode": {
    "name": "ipython",
    "version": 3
   },
   "file_extension": ".py",
   "mimetype": "text/x-python",
   "name": "python",
   "nbconvert_exporter": "python",
   "pygments_lexer": "ipython3",
   "version": "3.6.5"
  }
 },
 "nbformat": 4,
 "nbformat_minor": 2
}
