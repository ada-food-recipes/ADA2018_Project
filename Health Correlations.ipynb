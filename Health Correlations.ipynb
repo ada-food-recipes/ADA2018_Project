{
 "cells": [
  {
   "cell_type": "markdown",
   "metadata": {},
   "source": [
    "# Health data "
   ]
  },
  {
   "cell_type": "markdown",
   "metadata": {},
   "source": [
    "We want to study the impact of the most popular recipes on the health of people. To be able to achieve that goal we need some data about food related diseases. We chose to focus on overweight / obesity and diabetes in each region of the world. We got the data from the World Health Organization (WHO).\n",
    "\n",
    "The datasets we chose to use are the following:\n",
    "- percentage of overweight (BMI > 25) people in each country / world region\n",
    "- percentage of obesity (BMI > 30) in each country / world region\n",
    "- percentage of diabetes in each country / wolrd region"
   ]
  },
  {
   "cell_type": "markdown",
   "metadata": {},
   "source": [
    "### Necessary imports, data paths and loading of datasets into dataframes"
   ]
  },
  {
   "cell_type": "code",
   "execution_count": 255,
   "metadata": {},
   "outputs": [],
   "source": [
    "import matplotlib.pyplot as plt\n",
    "import pandas as pd\n",
    "import numpy as np\n",
    "import json, csv"
   ]
  },
  {
   "cell_type": "code",
   "execution_count": 360,
   "metadata": {},
   "outputs": [],
   "source": [
    "#Dataset paths\n",
    "health_data_path = 'data/health/originals/'\n",
    "project_health_data_path = 'data/health/project_adapted/'\n",
    "\n",
    "#LOAD THE DATASETS\n",
    "\n",
    "#Percentage of dying between the ages of 30-70 of cardiovascular and respiratory diseases, cancer, diabetes by country and region\n",
    "mortality_country = pd.read_csv(project_health_data_path + 'NCDMORT3070.csv', skiprows = 1)\n",
    "mortality_region = pd.read_csv(project_health_data_path + 'diseases_region.csv', skiprows = 1)\n",
    "\n",
    "#Percentage of diabetes by country\n",
    "diabetes_country = pd.read_csv(project_health_data_path + 'diabetes.csv', index_col = 0)\n",
    "diseases_region = pd.read_csv(project_health_data_path + 'diseases.csv')\n",
    "\n",
    "#Percentage of overweight by country and region\n",
    "overweight_country = pd.read_csv(project_health_data_path + 'overweight_country.csv', index_col = 0)\n",
    "overweight_region = pd.read_csv(project_health_data_path + 'overweight_region.csv', index_col = 0)\n",
    "\n",
    "#Percentage of obesity by country and region\n",
    "obesity_country = pd.read_csv(project_health_data_path + 'obesity_country.csv', index_col = 0)\n",
    "obesity_region = pd.read_csv(project_health_data_path + 'obesity_region.csv', index_col = 0)"
   ]
  },
  {
   "cell_type": "markdown",
   "metadata": {},
   "source": [
    "### Clean the data"
   ]
  },
  {
   "cell_type": "code",
   "execution_count": 258,
   "metadata": {},
   "outputs": [],
   "source": [
    "#Set column names\n",
    "newcols = ['Country', 'Year', 'Both sexes', 'Male', 'Female']\n",
    "newcols1 = ['Country', 'Diabete percentage']\n",
    "newcols2 = ['Region', 'Obesity percentage']\n",
    "newcols3 = ['Region', 'Overweight percentage']\n",
    "mortality_country.columns = newcols\n",
    "mortality_region.columns = newcols\n",
    "diabetes_country.columns = newcols1\n",
    "obesity_region.columns = newcols2\n",
    "overweight_region.columns = newcols3"
   ]
  },
  {
   "cell_type": "code",
   "execution_count": 259,
   "metadata": {},
   "outputs": [
    {
     "data": {
      "text/plain": [
       "(195, 2)"
      ]
     },
     "execution_count": 259,
     "metadata": {},
     "output_type": "execute_result"
    }
   ],
   "source": [
    "overweight_country.shape"
   ]
  },
  {
   "cell_type": "code",
   "execution_count": 260,
   "metadata": {},
   "outputs": [
    {
     "data": {
      "text/plain": [
       "False"
      ]
     },
     "execution_count": 260,
     "metadata": {},
     "output_type": "execute_result"
    }
   ],
   "source": [
    "overweight_country.isnull().values.any()"
   ]
  },
  {
   "cell_type": "code",
   "execution_count": 261,
   "metadata": {},
   "outputs": [
    {
     "data": {
      "text/plain": [
       "(195, 2)"
      ]
     },
     "execution_count": 261,
     "metadata": {},
     "output_type": "execute_result"
    }
   ],
   "source": [
    "obesity_country.shape"
   ]
  },
  {
   "cell_type": "code",
   "execution_count": 262,
   "metadata": {},
   "outputs": [
    {
     "data": {
      "text/plain": [
       "False"
      ]
     },
     "execution_count": 262,
     "metadata": {},
     "output_type": "execute_result"
    }
   ],
   "source": [
    "obesity_country.isnull().values.any()"
   ]
  },
  {
   "cell_type": "code",
   "execution_count": 263,
   "metadata": {},
   "outputs": [
    {
     "data": {
      "text/plain": [
       "(253, 2)"
      ]
     },
     "execution_count": 263,
     "metadata": {},
     "output_type": "execute_result"
    }
   ],
   "source": [
    "diabetes_country.shape"
   ]
  },
  {
   "cell_type": "code",
   "execution_count": 264,
   "metadata": {},
   "outputs": [
    {
     "data": {
      "text/plain": [
       "False"
      ]
     },
     "execution_count": 264,
     "metadata": {},
     "output_type": "execute_result"
    }
   ],
   "source": [
    "diabetes_country.isnull().values.any()"
   ]
  },
  {
   "cell_type": "markdown",
   "metadata": {},
   "source": [
    "We find the same number of countries in the overweight and obesity datasets, we will merge this two along with the diabetes dataset, at first we choose to merge the first two dataframes and compare the countries with the diabetes dataset to check for any country names that might need to be changed."
   ]
  },
  {
   "cell_type": "code",
   "execution_count": 265,
   "metadata": {},
   "outputs": [
    {
     "data": {
      "text/html": [
       "<div>\n",
       "<style scoped>\n",
       "    .dataframe tbody tr th:only-of-type {\n",
       "        vertical-align: middle;\n",
       "    }\n",
       "\n",
       "    .dataframe tbody tr th {\n",
       "        vertical-align: top;\n",
       "    }\n",
       "\n",
       "    .dataframe thead th {\n",
       "        text-align: right;\n",
       "    }\n",
       "</style>\n",
       "<table border=\"1\" class=\"dataframe\">\n",
       "  <thead>\n",
       "    <tr style=\"text-align: right;\">\n",
       "      <th></th>\n",
       "      <th>Country</th>\n",
       "      <th>Overweight percentage</th>\n",
       "      <th>Obesity percentage</th>\n",
       "      <th>Diabete percentage</th>\n",
       "    </tr>\n",
       "  </thead>\n",
       "  <tbody>\n",
       "    <tr>\n",
       "      <th>0</th>\n",
       "      <td>Afghanistan</td>\n",
       "      <td>19.7</td>\n",
       "      <td>4.5</td>\n",
       "      <td>9.59</td>\n",
       "    </tr>\n",
       "    <tr>\n",
       "      <th>1</th>\n",
       "      <td>Albania</td>\n",
       "      <td>58.7</td>\n",
       "      <td>22.3</td>\n",
       "      <td>10.08</td>\n",
       "    </tr>\n",
       "    <tr>\n",
       "      <th>2</th>\n",
       "      <td>Algeria</td>\n",
       "      <td>60.7</td>\n",
       "      <td>26.6</td>\n",
       "      <td>6.73</td>\n",
       "    </tr>\n",
       "    <tr>\n",
       "      <th>3</th>\n",
       "      <td>Andorra</td>\n",
       "      <td>68.1</td>\n",
       "      <td>28.0</td>\n",
       "      <td>7.97</td>\n",
       "    </tr>\n",
       "    <tr>\n",
       "      <th>4</th>\n",
       "      <td>Angola</td>\n",
       "      <td>23.9</td>\n",
       "      <td>6.8</td>\n",
       "      <td>3.94</td>\n",
       "    </tr>\n",
       "  </tbody>\n",
       "</table>\n",
       "</div>"
      ],
      "text/plain": [
       "       Country Overweight percentage Obesity percentage  Diabete percentage\n",
       "0  Afghanistan                  19.7                4.5                9.59\n",
       "1      Albania                  58.7               22.3               10.08\n",
       "2      Algeria                  60.7               26.6                6.73\n",
       "3      Andorra                  68.1               28.0                7.97\n",
       "4       Angola                  23.9                6.8                3.94"
      ]
     },
     "execution_count": 265,
     "metadata": {},
     "output_type": "execute_result"
    }
   ],
   "source": [
    "#Merge overweight, obesity and diabetes data for each country on a single dataframe\n",
    "result = pd.merge(overweight_country, obesity_country, on= 'Country')\n",
    "result2 = pd.merge(result, diabetes_country, on='Country')\n",
    "result2.head()"
   ]
  },
  {
   "cell_type": "markdown",
   "metadata": {},
   "source": [
    "# Why our interest to find any correlations between health markers and nutrition?"
   ]
  },
  {
   "cell_type": "markdown",
   "metadata": {},
   "source": [
    "Noncommunicable diseases (NCDs) are the leading causes of death and were responsible for an estimated 39.5 million (72%) of the world’s 54.7 million deaths in 2016. Of the major NCDs, cardiovascular diseases (CVD) were the leading cause of NCD mortality in 2016 and was responsible for nearly half of all NCD deaths. Modifiable risk factors such as unhealthy diet, physical inactivity, tobacco use and harmful use of alcohol are major causes of CVDs. Dietary saturated fatty acids and trans-fatty acids are of particular concern as high levels of intake are correlated with increased risk of CVDs.\n",
    "\n",
    "Saturated fatty acid and trans-fatty foods photoWHO/Pixabay\n",
    "Saturated fatty acids are found in foods from animal sources such as butter, milk, meat, salmon, and egg yolks, and some plant-derived products such as chocolate and cocoa butter, coconut, palm and palm kernel oils. Trans-fatty acids can be industrially produced by the partial hydrogenation of vegetable and fish oils, but also occur naturally in meat and dairy products from ruminant animals (e.g. cattle, sheep, goats, camels, etc.). Industrially-produced trans-fatty acids can be found in baked and fried foods (e.g. doughnuts, cookies, crackers and pies), pre-packaged snacks and food, and partially hydrogenated cooking oils and fats which are often used at home, in restaurants, or in the informal sector, such as street vendors."
   ]
  },
  {
   "cell_type": "markdown",
   "metadata": {},
   "source": [
    "On the other hand, childhood obesity is one of the most serious global public health challenges of the 21st century, affecting every country in the world. In just 40 years the number of school-age children and adolescents with obesity has risen more than 10-fold, from 11 million to 124 million (2016 estimates). In addition, an estimated 216 million were classified as overweight but not obese in 2016.\n",
    "\n",
    "The condition also affects younger children, with over 38 million children aged under 5 living with overweight or obesity in 2017. The epidemic has been growing most rapidly in low- and middle-income countries, particularly in Northern and Southern Africa, the Middle East and the Pacific Islands. Although most countries are still off-track to meet the 2025 targets, many are taking action and some have achieved a levelling-off in childhood obesity rates. Investing in children’s health will help meet the global health targets and substantially reduce the predicted health and economic costs of obesity."
   ]
  },
  {
   "cell_type": "markdown",
   "metadata": {},
   "source": [
    "### Let's start by analizing our data"
   ]
  },
  {
   "cell_type": "markdown",
   "metadata": {},
   "source": [
    "In health studies is always interesting to define gender-specific biases especially in cardio-respiratories deseases where it has been shown that it affects 30% more the male population form ages 18-45."
   ]
  },
  {
   "cell_type": "code",
   "execution_count": 267,
   "metadata": {},
   "outputs": [
    {
     "data": {
      "image/png": "[encoded data removed]",
      "text/plain": [
       "<Figure size 432x288 with 1 Axes>"
      ]
     },
     "metadata": {},
     "output_type": "display_data"
    }
   ],
   "source": [
    "#Distribution of the percentage of dying of CRCD diseases by country\n",
    "#Note: CRCD - Cardio-respiratory, cancer and diabetes\n",
    "\n",
    "mortality_copy = mortality_country.copy()\n",
    "mortality_copy.drop(['Year'], axis = 1, inplace = True)\n",
    "mortality_copy.groupby(['Country']).mean()\n",
    "\n",
    "#Plotting all\n",
    "hx = mortality_copy.plot(kind = 'hist', bins = 20, grid = True, title = 'Distribution of the Percentage of dying between the ages of 30-70 of CRCD diseases' );\n"
   ]
  },
  {
   "cell_type": "code",
   "execution_count": 270,
   "metadata": {},
   "outputs": [
    {
     "data": {
      "image/png": "[encoded data removed]",
      "text/plain": [
       "<Figure size 432x288 with 1 Axes>"
      ]
     },
     "metadata": {},
     "output_type": "display_data"
    }
   ],
   "source": [
    "test = mortality_country.copy()\n",
    "test.drop(['Year', 'Male'], axis = 1, inplace = True)\n",
    "test.groupby(['Country']).apply(lambda x : x-15)\n",
    "\n",
    "test.plot(kind = 'hist', bins = 100, grid = True, title = 'Distribution of the Percentage of dying between the ages of 30-70 of CRCD diseases' );\n"
   ]
  },
  {
   "cell_type": "markdown",
   "metadata": {},
   "source": [
    "We thus, confirm that as the male population gets the older, the risk of somatizing one of the following diseases: \n",
    "\n",
    "Cardiovascular \n",
    "\n",
    "Respiratory\n",
    "\n",
    "Cancer\n",
    "\n",
    "Diabetes\n",
    "\n",
    "Increases with respect to the female population from the ages 18-45. The frequency of deaths appears also higher in the eldest years of life and stops around 60 years old. We also visualize the fact that in most countries the percentage of dying form one of these diseases is the highest at around 25% which means that 25% of the population in most countries is dying from these disease. Thus, it is not really necessary to separate the male/female population as we only want an overwiew of the food choice related to the different countries."
   ]
  },
  {
   "cell_type": "markdown",
   "metadata": {},
   "source": [
    "The figure above shows the percentage of dying of CRCD diseases between the ages 30-70 for male and female populations. We observe that these diseases affect, by visual inspection, more the male population. The mean for both sexes is placed at around 22 percent."
   ]
  },
  {
   "cell_type": "markdown",
   "metadata": {},
   "source": [
    "### Now let's add our calculations for the nutriscore for our scraped international recipes and see if we find any interesting correlations"
   ]
  },
  {
   "cell_type": "code",
   "execution_count": 191,
   "metadata": {},
   "outputs": [
    {
     "data": {
      "text/html": [
       "<div>\n",
       "<style scoped>\n",
       "    .dataframe tbody tr th:only-of-type {\n",
       "        vertical-align: middle;\n",
       "    }\n",
       "\n",
       "    .dataframe tbody tr th {\n",
       "        vertical-align: top;\n",
       "    }\n",
       "\n",
       "    .dataframe thead th {\n",
       "        text-align: right;\n",
       "    }\n",
       "</style>\n",
       "<table border=\"1\" class=\"dataframe\">\n",
       "  <thead>\n",
       "    <tr style=\"text-align: right;\">\n",
       "      <th></th>\n",
       "      <th>Calcium</th>\n",
       "      <th>Calories</th>\n",
       "      <th>Cholesterol</th>\n",
       "      <th>Dietary Fiber</th>\n",
       "      <th>Folate</th>\n",
       "      <th>Iron</th>\n",
       "      <th>Magnesium</th>\n",
       "      <th>Niacin</th>\n",
       "      <th>Popularity</th>\n",
       "      <th>Potassium</th>\n",
       "      <th>...</th>\n",
       "      <th>Thiamin</th>\n",
       "      <th>Title</th>\n",
       "      <th>Total Carbohydrates</th>\n",
       "      <th>Total Fat</th>\n",
       "      <th>Vitamin A</th>\n",
       "      <th>Vitamin B6</th>\n",
       "      <th>Vitamin C</th>\n",
       "      <th>VeggieWeight</th>\n",
       "      <th>NutriScore</th>\n",
       "      <th>NutriLetter</th>\n",
       "    </tr>\n",
       "  </thead>\n",
       "  <tbody>\n",
       "    <tr>\n",
       "      <th>Low-Carb Jicama Tostadas</th>\n",
       "      <td>18.0</td>\n",
       "      <td>57</td>\n",
       "      <td>0.0</td>\n",
       "      <td>7.4</td>\n",
       "      <td>18.0</td>\n",
       "      <td>1.0</td>\n",
       "      <td>18.0</td>\n",
       "      <td>0.0</td>\n",
       "      <td>3.0</td>\n",
       "      <td>225.0</td>\n",
       "      <td>...</td>\n",
       "      <td>0.0</td>\n",
       "      <td>Low-Carb Jicama Tostadas</td>\n",
       "      <td>13.2</td>\n",
       "      <td>0.1</td>\n",
       "      <td>32IU</td>\n",
       "      <td>0.0</td>\n",
       "      <td>30.0</td>\n",
       "      <td>0.0</td>\n",
       "      <td>-2</td>\n",
       "      <td>A</td>\n",
       "    </tr>\n",
       "    <tr>\n",
       "      <th>Best Fish Tacos</th>\n",
       "      <td>80.0</td>\n",
       "      <td>322</td>\n",
       "      <td>35.0</td>\n",
       "      <td>3.8</td>\n",
       "      <td>88.0</td>\n",
       "      <td>3.0</td>\n",
       "      <td>48.0</td>\n",
       "      <td>6.0</td>\n",
       "      <td>3.0</td>\n",
       "      <td>591.0</td>\n",
       "      <td>...</td>\n",
       "      <td>0.0</td>\n",
       "      <td>Best Fish Tacos</td>\n",
       "      <td>34.6</td>\n",
       "      <td>9.0</td>\n",
       "      <td>1043IU</td>\n",
       "      <td>0.0</td>\n",
       "      <td>18.0</td>\n",
       "      <td>145.0</td>\n",
       "      <td>-1</td>\n",
       "      <td>A</td>\n",
       "    </tr>\n",
       "    <tr>\n",
       "      <th>Crispy Pork Carnitas</th>\n",
       "      <td>35.0</td>\n",
       "      <td>317</td>\n",
       "      <td>89.0</td>\n",
       "      <td>0.4</td>\n",
       "      <td>5.0</td>\n",
       "      <td>2.0</td>\n",
       "      <td>23.0</td>\n",
       "      <td>10.0</td>\n",
       "      <td>267.0</td>\n",
       "      <td>371.0</td>\n",
       "      <td>...</td>\n",
       "      <td>1.0</td>\n",
       "      <td>Crispy Pork Carnitas</td>\n",
       "      <td>2.1</td>\n",
       "      <td>22.6</td>\n",
       "      <td>17IU</td>\n",
       "      <td>0.0</td>\n",
       "      <td>2.0</td>\n",
       "      <td>16.0</td>\n",
       "      <td>2</td>\n",
       "      <td>B</td>\n",
       "    </tr>\n",
       "    <tr>\n",
       "      <th>Jeannie's Vegetarian Enchiladas</th>\n",
       "      <td>376.0</td>\n",
       "      <td>626</td>\n",
       "      <td>59.0</td>\n",
       "      <td>9.6</td>\n",
       "      <td>193.0</td>\n",
       "      <td>6.0</td>\n",
       "      <td>77.0</td>\n",
       "      <td>8.0</td>\n",
       "      <td>1.0</td>\n",
       "      <td>818.0</td>\n",
       "      <td>...</td>\n",
       "      <td>1.0</td>\n",
       "      <td>Jeannie's Vegetarian Enchiladas</td>\n",
       "      <td>67.2</td>\n",
       "      <td>31.2</td>\n",
       "      <td>2569IU</td>\n",
       "      <td>0.0</td>\n",
       "      <td>49.0</td>\n",
       "      <td>172.0</td>\n",
       "      <td>2</td>\n",
       "      <td>B</td>\n",
       "    </tr>\n",
       "    <tr>\n",
       "      <th>Mexican Corn Bread Casserole</th>\n",
       "      <td>168.0</td>\n",
       "      <td>304</td>\n",
       "      <td>101.0</td>\n",
       "      <td>1.9</td>\n",
       "      <td>58.0</td>\n",
       "      <td>2.0</td>\n",
       "      <td>28.0</td>\n",
       "      <td>6.0</td>\n",
       "      <td>21.0</td>\n",
       "      <td>372.0</td>\n",
       "      <td>...</td>\n",
       "      <td>0.0</td>\n",
       "      <td>Mexican Corn Bread Casserole</td>\n",
       "      <td>21.5</td>\n",
       "      <td>16.3</td>\n",
       "      <td>840IU</td>\n",
       "      <td>0.0</td>\n",
       "      <td>12.0</td>\n",
       "      <td>58.0</td>\n",
       "      <td>2</td>\n",
       "      <td>B</td>\n",
       "    </tr>\n",
       "  </tbody>\n",
       "</table>\n",
       "<p>5 rows × 27 columns</p>\n",
       "</div>"
      ],
      "text/plain": [
       "                                  Calcium  Calories  Cholesterol  \\\n",
       "Low-Carb Jicama Tostadas             18.0        57          0.0   \n",
       "Best Fish Tacos                      80.0       322         35.0   \n",
       "Crispy Pork Carnitas                 35.0       317         89.0   \n",
       "Jeannie's Vegetarian Enchiladas     376.0       626         59.0   \n",
       "Mexican Corn Bread Casserole        168.0       304        101.0   \n",
       "\n",
       "                                  Dietary Fiber  Folate  Iron  Magnesium  \\\n",
       "Low-Carb Jicama Tostadas                    7.4    18.0   1.0       18.0   \n",
       "Best Fish Tacos                             3.8    88.0   3.0       48.0   \n",
       "Crispy Pork Carnitas                        0.4     5.0   2.0       23.0   \n",
       "Jeannie's Vegetarian Enchiladas             9.6   193.0   6.0       77.0   \n",
       "Mexican Corn Bread Casserole                1.9    58.0   2.0       28.0   \n",
       "\n",
       "                                  Niacin  Popularity  Potassium     ...       \\\n",
       "Low-Carb Jicama Tostadas             0.0         3.0      225.0     ...        \n",
       "Best Fish Tacos                      6.0         3.0      591.0     ...        \n",
       "Crispy Pork Carnitas                10.0       267.0      371.0     ...        \n",
       "Jeannie's Vegetarian Enchiladas      8.0         1.0      818.0     ...        \n",
       "Mexican Corn Bread Casserole         6.0        21.0      372.0     ...        \n",
       "\n",
       "                                  Thiamin                             Title  \\\n",
       "Low-Carb Jicama Tostadas              0.0          Low-Carb Jicama Tostadas   \n",
       "Best Fish Tacos                       0.0                  Best Fish Tacos    \n",
       "Crispy Pork Carnitas                  1.0              Crispy Pork Carnitas   \n",
       "Jeannie's Vegetarian Enchiladas       1.0  Jeannie's Vegetarian Enchiladas    \n",
       "Mexican Corn Bread Casserole          0.0      Mexican Corn Bread Casserole   \n",
       "\n",
       "                                 Total Carbohydrates Total Fat  Vitamin A  \\\n",
       "Low-Carb Jicama Tostadas                        13.2       0.1       32IU   \n",
       "Best Fish Tacos                                 34.6       9.0     1043IU   \n",
       "Crispy Pork Carnitas                             2.1      22.6       17IU   \n",
       "Jeannie's Vegetarian Enchiladas                 67.2      31.2     2569IU   \n",
       "Mexican Corn Bread Casserole                    21.5      16.3      840IU   \n",
       "\n",
       "                                  Vitamin B6  Vitamin C  VeggieWeight  \\\n",
       "Low-Carb Jicama Tostadas                 0.0       30.0           0.0   \n",
       "Best Fish Tacos                          0.0       18.0         145.0   \n",
       "Crispy Pork Carnitas                     0.0        2.0          16.0   \n",
       "Jeannie's Vegetarian Enchiladas          0.0       49.0         172.0   \n",
       "Mexican Corn Bread Casserole             0.0       12.0          58.0   \n",
       "\n",
       "                                 NutriScore  NutriLetter  \n",
       "Low-Carb Jicama Tostadas                 -2            A  \n",
       "Best Fish Tacos                          -1            A  \n",
       "Crispy Pork Carnitas                      2            B  \n",
       "Jeannie's Vegetarian Enchiladas           2            B  \n",
       "Mexican Corn Bread Casserole              2            B  \n",
       "\n",
       "[5 rows x 27 columns]"
      ]
     },
     "execution_count": 191,
     "metadata": {},
     "output_type": "execute_result"
    }
   ],
   "source": [
    "nutriscore = pd.read_csv('fullWithNutri.csv', index_col=0)\n",
    "nutriscore.head()"
   ]
  },
  {
   "cell_type": "markdown",
   "metadata": {},
   "source": [
    "The Nutriscore is a standard way of measuring the nutritious value of any given plate/recipe/food and standardizes these values regardless of a possible existance of high levels of sugars, fats, ot proteins as a given recipe can contain high amounts of fruits and vegetables and still contain a high sugar consumption for example."
   ]
  },
  {
   "cell_type": "markdown",
   "metadata": {},
   "source": [
    "Nowadays, public health institutions, diet fads and regimes, and the whole fitness industries have recognized the importance of a low-sugar healthy-based diet. In the following results and calculation we will map certain macronutrients deem as crucial to the development of health-related markers with respect to cardio-respiratory, cancer and diabetes in both countries and regions of the world."
   ]
  },
  {
   "cell_type": "markdown",
   "metadata": {},
   "source": [
    "Let's start by calculation the ratio of sugar to calories. To do so, a sugar is considered to have 4 kcal/g thus for each gram of sugar we have 4 kcal of energy. We will also explore the prevalence of saturated fats and protein content, fats are assumed to have 9kcal/g and protein 4kcal/g."
   ]
  },
  {
   "cell_type": "code",
   "execution_count": 563,
   "metadata": {},
   "outputs": [],
   "source": [
    "#Sugar consumption\n",
    "\n",
    "##For sugar consumption we calculate the ratio of sugar to the number of calories\n",
    "nutriscore['Sugar Consumption'] = nutriscore['Sugars']*4/nutriscore['Calories']*100\n",
    "\n",
    "##We take the food for which their sugar content is >= 25% \n",
    "sugar_region = nutriscore[nutriscore['Sugar Consumption'] >= 25][['Region', 'Sugar Consumption']].groupby('Region').mean()\n",
    "sugar_region.reset_index(level=0, inplace=True)\n",
    "\n",
    "## Ratio Saturated fats/calories\n",
    "total_cals = nutriscore.groupby('Region')['Calories'].mean()\n",
    "fats = nutriscore.groupby('Region')['Saturated Fat'].mean().apply(lambda x: x*9)/total_cals*100\n",
    "\n",
    "##Ratio protein/calories\n",
    "proteins = nutriscore.groupby('Region')['Protein'].mean().apply(lambda x: x*4)/total_cals*100\n",
    "\n",
    "##NutriScore\n",
    "nutri = nutriscore.groupby('Region')['NutriScore'].mean()"
   ]
  },
  {
   "cell_type": "markdown",
   "metadata": {},
   "source": [
    "### Is a high consumption of sugar a real indicator of obesity, overweight or diabetes prevalence in the regions of the world?"
   ]
  },
  {
   "cell_type": "code",
   "execution_count": 328,
   "metadata": {},
   "outputs": [],
   "source": [
    "old_regions = ['australian-and-new-zealander', 'canadian', 'chinese', 'east-african', 'eastern-european',\n",
    "            'german', 'scandinavian', 'south-american', 'spanish', 'thai']\n",
    "new_regions = ['Western Pacific', 'Americas', 'South-East Asia', 'Africa', \n",
    "            'Eastern-Mediterranean', 'Europe', 'Europe', 'Americas', 'Europe', \n",
    "            'South-East Asia' ]\n",
    "sugar_region['Region'].replace(old_regions, new_regions, inplace = True)\n",
    "sugar_region = sugar_region.groupby(['Region']).mean()\n",
    "sugar_region.reset_index(level=0, inplace=True)\n",
    "obesity_region = obesity_region.drop(obesity_region.index[len(obesity_region)-1])\n",
    "overweight_region = overweight_region.drop(overweight_region.index[len(overweight_region)-1])"
   ]
  },
  {
   "cell_type": "code",
   "execution_count": 213,
   "metadata": {},
   "outputs": [],
   "source": [
    "result0 = pd.merge(obesity_region, sugar_region, on = 'Region')\n",
    "result1 = pd.merge(result0, overweight_region, on = 'Region')"
   ]
  },
  {
   "cell_type": "code",
   "execution_count": 368,
   "metadata": {},
   "outputs": [
    {
     "data": {
      "text/plain": [
       "Text(0.5,0,'5 Regions of the World')"
      ]
     },
     "execution_count": 368,
     "metadata": {},
     "output_type": "execute_result"
    },
    {
     "data": {
      "image/png": "[encoded data removed]",
      "text/plain": [
       "<Figure size 864x432 with 2 Axes>"
      ]
     },
     "metadata": {},
     "output_type": "display_data"
    }
   ],
   "source": [
    "fig, axes = plt.subplots(nrows=1, ncols=2,figsize=(12,6))\n",
    "ax1 = result1.plot(ax=axes[0])\n",
    "ax1.set_xlabel(\"5 Regions of the World\")\n",
    "ax2 = result1.plot(ax=axes[1], style=['o','rx', 'x'])\n",
    "ax2.set_xlabel(\"5 Regions of the World\")"
   ]
  },
  {
   "cell_type": "markdown",
   "metadata": {},
   "source": [
    "Let's finish this section by calculation the **Pearson coefficient** out of these values and confirm our results."
   ]
  },
  {
   "cell_type": "code",
   "execution_count": 241,
   "metadata": {},
   "outputs": [
    {
     "data": {
      "text/html": [
       "<div>\n",
       "<style scoped>\n",
       "    .dataframe tbody tr th:only-of-type {\n",
       "        vertical-align: middle;\n",
       "    }\n",
       "\n",
       "    .dataframe tbody tr th {\n",
       "        vertical-align: top;\n",
       "    }\n",
       "\n",
       "    .dataframe thead th {\n",
       "        text-align: right;\n",
       "    }\n",
       "</style>\n",
       "<table border=\"1\" class=\"dataframe\">\n",
       "  <thead>\n",
       "    <tr style=\"text-align: right;\">\n",
       "      <th></th>\n",
       "      <th>Obesity percentage</th>\n",
       "      <th>Sugar Consumption</th>\n",
       "      <th>Overweight percentage</th>\n",
       "    </tr>\n",
       "  </thead>\n",
       "  <tbody>\n",
       "    <tr>\n",
       "      <th>Obesity percentage</th>\n",
       "      <td>1.000000</td>\n",
       "      <td>0.416353</td>\n",
       "      <td>0.979070</td>\n",
       "    </tr>\n",
       "    <tr>\n",
       "      <th>Sugar Consumption</th>\n",
       "      <td>0.416353</td>\n",
       "      <td>1.000000</td>\n",
       "      <td>0.296885</td>\n",
       "    </tr>\n",
       "    <tr>\n",
       "      <th>Overweight percentage</th>\n",
       "      <td>0.979070</td>\n",
       "      <td>0.296885</td>\n",
       "      <td>1.000000</td>\n",
       "    </tr>\n",
       "  </tbody>\n",
       "</table>\n",
       "</div>"
      ],
      "text/plain": [
       "                       Obesity percentage  Sugar Consumption  \\\n",
       "Obesity percentage               1.000000           0.416353   \n",
       "Sugar Consumption                0.416353           1.000000   \n",
       "Overweight percentage            0.979070           0.296885   \n",
       "\n",
       "                       Overweight percentage  \n",
       "Obesity percentage                  0.979070  \n",
       "Sugar Consumption                   0.296885  \n",
       "Overweight percentage               1.000000  "
      ]
     },
     "execution_count": 241,
     "metadata": {},
     "output_type": "execute_result"
    }
   ],
   "source": [
    "result1.corr()"
   ]
  },
  {
   "cell_type": "markdown",
   "metadata": {},
   "source": [
    "What's up with these results? Clearly there is no surprise and there's an almost perfect positive Pearson correlation between obesity and overweight per region of the world. **However, there's no clear evidence that a higher consumption of sugar found on the most popular dishes of the different regions of the world plays a role on the obesity or overweight percentage in the same region.**\n",
    "\n",
    "The latter is due to the fact that we don't have a lot of different recipes, also the sugar content was placed at 25% of sugar contained in the recipe and while this is an important assumption there is clearly no need to look for further information regarding this aspect, we will continue our study in the quest of predicting health-related conditions from our recipe data."
   ]
  },
  {
   "cell_type": "markdown",
   "metadata": {},
   "source": [
    "### Is a high consumption of saturated fats and protein content a real indicator of obesity, overweight or diabetes prevalence in the countries of the world?"
   ]
  },
  {
   "cell_type": "code",
   "execution_count": 389,
   "metadata": {},
   "outputs": [],
   "source": [
    "fat_prot = pd.concat([fats, proteins, nutri], axis=1).reset_index()\n",
    "fat_prot.drop([3,4,13], inplace=True)\n",
    "fat_prot.columns = ['Region', 'Saturated fat', 'Protein content', 'NutriScore']"
   ]
  },
  {
   "cell_type": "code",
   "execution_count": 390,
   "metadata": {},
   "outputs": [
    {
     "data": {
      "text/html": [
       "<div>\n",
       "<style scoped>\n",
       "    .dataframe tbody tr th:only-of-type {\n",
       "        vertical-align: middle;\n",
       "    }\n",
       "\n",
       "    .dataframe tbody tr th {\n",
       "        vertical-align: top;\n",
       "    }\n",
       "\n",
       "    .dataframe thead th {\n",
       "        text-align: right;\n",
       "    }\n",
       "</style>\n",
       "<table border=\"1\" class=\"dataframe\">\n",
       "  <thead>\n",
       "    <tr style=\"text-align: right;\">\n",
       "      <th></th>\n",
       "      <th>Region</th>\n",
       "      <th>Overweight percentage</th>\n",
       "      <th>Obesity percentage</th>\n",
       "      <th>Diabetes percentage</th>\n",
       "      <th>Mortality</th>\n",
       "      <th>Saturated fat</th>\n",
       "      <th>Protein content</th>\n",
       "      <th>NutriScore</th>\n",
       "    </tr>\n",
       "  </thead>\n",
       "  <tbody>\n",
       "    <tr>\n",
       "      <th>0</th>\n",
       "      <td>australian-and-new-zealander</td>\n",
       "      <td>67.2</td>\n",
       "      <td>30.4</td>\n",
       "      <td>5.07</td>\n",
       "      <td>9.1</td>\n",
       "      <td>15.593452</td>\n",
       "      <td>16.076398</td>\n",
       "      <td>2.052632</td>\n",
       "    </tr>\n",
       "    <tr>\n",
       "      <th>1</th>\n",
       "      <td>canadian</td>\n",
       "      <td>67.5</td>\n",
       "      <td>31.3</td>\n",
       "      <td>7.37</td>\n",
       "      <td>9.8</td>\n",
       "      <td>16.313505</td>\n",
       "      <td>18.238448</td>\n",
       "      <td>2.050000</td>\n",
       "    </tr>\n",
       "    <tr>\n",
       "      <th>2</th>\n",
       "      <td>chinese</td>\n",
       "      <td>33.8</td>\n",
       "      <td>6.6</td>\n",
       "      <td>9.74</td>\n",
       "      <td>17.0</td>\n",
       "      <td>8.923850</td>\n",
       "      <td>26.060286</td>\n",
       "      <td>0.600000</td>\n",
       "    </tr>\n",
       "    <tr>\n",
       "      <th>3</th>\n",
       "      <td>french</td>\n",
       "      <td>62.9</td>\n",
       "      <td>23.2</td>\n",
       "      <td>4.77</td>\n",
       "      <td>10.6</td>\n",
       "      <td>29.679144</td>\n",
       "      <td>17.956031</td>\n",
       "      <td>2.421053</td>\n",
       "    </tr>\n",
       "    <tr>\n",
       "      <th>4</th>\n",
       "      <td>german</td>\n",
       "      <td>62.8</td>\n",
       "      <td>25.7</td>\n",
       "      <td>5.06</td>\n",
       "      <td>12.1</td>\n",
       "      <td>14.169550</td>\n",
       "      <td>17.979239</td>\n",
       "      <td>1.222222</td>\n",
       "    </tr>\n",
       "  </tbody>\n",
       "</table>\n",
       "</div>"
      ],
      "text/plain": [
       "                         Region  Overweight percentage  Obesity percentage  \\\n",
       "0  australian-and-new-zealander                   67.2                30.4   \n",
       "1                      canadian                   67.5                31.3   \n",
       "2                       chinese                   33.8                 6.6   \n",
       "3                        french                   62.9                23.2   \n",
       "4                        german                   62.8                25.7   \n",
       "\n",
       "   Diabetes percentage  Mortality  Saturated fat  Protein content  NutriScore  \n",
       "0                 5.07        9.1      15.593452        16.076398    2.052632  \n",
       "1                 7.37        9.8      16.313505        18.238448    2.050000  \n",
       "2                 9.74       17.0       8.923850        26.060286    0.600000  \n",
       "3                 4.77       10.6      29.679144        17.956031    2.421053  \n",
       "4                 5.06       12.1      14.169550        17.979239    1.222222  "
      ]
     },
     "execution_count": 390,
     "metadata": {},
     "output_type": "execute_result"
    }
   ],
   "source": [
    "result_region = pd.merge(diseases_region, fat_prot, on = 'Region')\n",
    "result_region.head()"
   ]
  },
  {
   "cell_type": "code",
   "execution_count": 454,
   "metadata": {},
   "outputs": [
    {
     "data": {
      "image/png": "[encoded data removed]",
      "text/plain": [
       "<Figure size 1080x360 with 2 Axes>"
      ]
     },
     "metadata": {},
     "output_type": "display_data"
    }
   ],
   "source": [
    "#Visualization with respect to obesity\n",
    "fig, axes = plt.subplots(nrows=1, ncols=2,figsize=(15,5))\n",
    "\n",
    "ax1 = result_region.plot(kind = 'scatter', ax=axes[0], x = 'Obesity percentage', y = 'Mortality', label = 'Mortality %', color = 'g', grid = True, title = \"Visualization with respect to obesity %\")\n",
    "ax2 = result_region.plot(kind = 'scatter', x = 'Obesity percentage', y = 'Protein content', label = 'Protein content', ax = axes[1], grid = True)\n",
    "ax3 = result_region.plot(kind = 'scatter', x = 'Obesity percentage', y = 'Saturated fat', label = 'Saturated fat', ax = axes[1], color = 'r', grid = True, title = \"Visualization with respect to obesity %\")"
   ]
  },
  {
   "cell_type": "code",
   "execution_count": 455,
   "metadata": {},
   "outputs": [
    {
     "data": {
      "image/png": "[encoded data removed]",
      "text/plain": [
       "<Figure size 1080x360 with 2 Axes>"
      ]
     },
     "metadata": {},
     "output_type": "display_data"
    }
   ],
   "source": [
    "#Visualization with respect to mortality\n",
    "fig, axes = plt.subplots(nrows=1, ncols=2,figsize=(15,5))\n",
    "\n",
    "ax1 = result_region.plot(kind = 'scatter', ax=axes[0], x = 'Mortality', y = 'Saturated fat', label = 'Saturated fat', color = 'r', grid = True, title = \"Visualization with respect to mortality %\")\n",
    "ax2 = result_region.plot(kind = 'scatter', x = 'Mortality', y = 'Protein content', label = 'Protein content', ax = axes[0], grid = True)\n",
    "ax3 = result_region.plot(kind = 'scatter', x = 'Mortality', y = 'Diabetes percentage', label = 'Diabetes %', ax = axes[1], color = 'g', grid = True, title = \"Visualization with respect to mortality %\")"
   ]
  },
  {
   "cell_type": "markdown",
   "metadata": {},
   "source": [
    "We proposed to two different visualizations, the first one with respect the obesity percentage. We see no clear correlation between a higher consumption of saturated fats or protein. However, for a high percentage of obesity in the regions there is a small cluster of regions that have high tendancy of mortality. On the second figure we observe the consumption of satrated fats and protein a long a mortality axis. Again it is not possible to draw any conclusions from this visualization."
   ]
  },
  {
   "cell_type": "markdown",
   "metadata": {},
   "source": [
    "Let's calculate the correlation matrix between our variables:"
   ]
  },
  {
   "cell_type": "code",
   "execution_count": 391,
   "metadata": {},
   "outputs": [
    {
     "data": {
      "text/html": [
       "<div>\n",
       "<style scoped>\n",
       "    .dataframe tbody tr th:only-of-type {\n",
       "        vertical-align: middle;\n",
       "    }\n",
       "\n",
       "    .dataframe tbody tr th {\n",
       "        vertical-align: top;\n",
       "    }\n",
       "\n",
       "    .dataframe thead th {\n",
       "        text-align: right;\n",
       "    }\n",
       "</style>\n",
       "<table border=\"1\" class=\"dataframe\">\n",
       "  <thead>\n",
       "    <tr style=\"text-align: right;\">\n",
       "      <th></th>\n",
       "      <th>Overweight percentage</th>\n",
       "      <th>Obesity percentage</th>\n",
       "      <th>Diabetes percentage</th>\n",
       "      <th>Mortality</th>\n",
       "      <th>Saturated fat</th>\n",
       "      <th>Protein content</th>\n",
       "      <th>NutriScore</th>\n",
       "    </tr>\n",
       "  </thead>\n",
       "  <tbody>\n",
       "    <tr>\n",
       "      <th>Overweight percentage</th>\n",
       "      <td>1.000000</td>\n",
       "      <td>0.971822</td>\n",
       "      <td>-0.313933</td>\n",
       "      <td>-0.496330</td>\n",
       "      <td>-0.044760</td>\n",
       "      <td>-0.497910</td>\n",
       "      <td>0.050246</td>\n",
       "    </tr>\n",
       "    <tr>\n",
       "      <th>Obesity percentage</th>\n",
       "      <td>0.971822</td>\n",
       "      <td>1.000000</td>\n",
       "      <td>-0.193628</td>\n",
       "      <td>-0.361304</td>\n",
       "      <td>-0.049713</td>\n",
       "      <td>-0.539843</td>\n",
       "      <td>-0.019222</td>\n",
       "    </tr>\n",
       "    <tr>\n",
       "      <th>Diabetes percentage</th>\n",
       "      <td>-0.313933</td>\n",
       "      <td>-0.193628</td>\n",
       "      <td>1.000000</td>\n",
       "      <td>0.696534</td>\n",
       "      <td>-0.093171</td>\n",
       "      <td>0.345717</td>\n",
       "      <td>-0.474333</td>\n",
       "    </tr>\n",
       "    <tr>\n",
       "      <th>Mortality</th>\n",
       "      <td>-0.496330</td>\n",
       "      <td>-0.361304</td>\n",
       "      <td>0.696534</td>\n",
       "      <td>1.000000</td>\n",
       "      <td>0.092514</td>\n",
       "      <td>0.333359</td>\n",
       "      <td>-0.542228</td>\n",
       "    </tr>\n",
       "    <tr>\n",
       "      <th>Saturated fat</th>\n",
       "      <td>-0.044760</td>\n",
       "      <td>-0.049713</td>\n",
       "      <td>-0.093171</td>\n",
       "      <td>0.092514</td>\n",
       "      <td>1.000000</td>\n",
       "      <td>-0.294427</td>\n",
       "      <td>0.527613</td>\n",
       "    </tr>\n",
       "    <tr>\n",
       "      <th>Protein content</th>\n",
       "      <td>-0.497910</td>\n",
       "      <td>-0.539843</td>\n",
       "      <td>0.345717</td>\n",
       "      <td>0.333359</td>\n",
       "      <td>-0.294427</td>\n",
       "      <td>1.000000</td>\n",
       "      <td>-0.492726</td>\n",
       "    </tr>\n",
       "    <tr>\n",
       "      <th>NutriScore</th>\n",
       "      <td>0.050246</td>\n",
       "      <td>-0.019222</td>\n",
       "      <td>-0.474333</td>\n",
       "      <td>-0.542228</td>\n",
       "      <td>0.527613</td>\n",
       "      <td>-0.492726</td>\n",
       "      <td>1.000000</td>\n",
       "    </tr>\n",
       "  </tbody>\n",
       "</table>\n",
       "</div>"
      ],
      "text/plain": [
       "                       Overweight percentage  Obesity percentage  \\\n",
       "Overweight percentage               1.000000            0.971822   \n",
       "Obesity percentage                  0.971822            1.000000   \n",
       "Diabetes percentage                -0.313933           -0.193628   \n",
       "Mortality                          -0.496330           -0.361304   \n",
       "Saturated fat                      -0.044760           -0.049713   \n",
       "Protein content                    -0.497910           -0.539843   \n",
       "NutriScore                          0.050246           -0.019222   \n",
       "\n",
       "                       Diabetes percentage  Mortality  Saturated fat  \\\n",
       "Overweight percentage            -0.313933  -0.496330      -0.044760   \n",
       "Obesity percentage               -0.193628  -0.361304      -0.049713   \n",
       "Diabetes percentage               1.000000   0.696534      -0.093171   \n",
       "Mortality                         0.696534   1.000000       0.092514   \n",
       "Saturated fat                    -0.093171   0.092514       1.000000   \n",
       "Protein content                   0.345717   0.333359      -0.294427   \n",
       "NutriScore                       -0.474333  -0.542228       0.527613   \n",
       "\n",
       "                       Protein content  NutriScore  \n",
       "Overweight percentage        -0.497910    0.050246  \n",
       "Obesity percentage           -0.539843   -0.019222  \n",
       "Diabetes percentage           0.345717   -0.474333  \n",
       "Mortality                     0.333359   -0.542228  \n",
       "Saturated fat                -0.294427    0.527613  \n",
       "Protein content               1.000000   -0.492726  \n",
       "NutriScore                   -0.492726    1.000000  "
      ]
     },
     "execution_count": 391,
     "metadata": {},
     "output_type": "execute_result"
    }
   ],
   "source": [
    "result_region.corr()"
   ]
  },
  {
   "cell_type": "markdown",
   "metadata": {},
   "source": [
    "### **What about the nutriscore?** Let's see how the nutriscore is represented in the diferent regions of the world..."
   ]
  },
  {
   "cell_type": "code",
   "execution_count": 392,
   "metadata": {},
   "outputs": [
    {
     "data": {
      "image/png": "[encoded data removed]",
      "text/plain": [
       "<Figure size 432x288 with 1 Axes>"
      ]
     },
     "metadata": {},
     "output_type": "display_data"
    }
   ],
   "source": [
    "#Visualization with respect to NutriScore\n",
    "ax1 = result_region.plot(kind = 'scatter', x = 'NutriScore', y = 'Obesity percentage', label = 'Obesity %', color = 'r', title = \"Visulization with respect to NutriScore\")\n",
    "ax2 = result_region.plot(kind = 'scatter', x = 'NutriScore', y = 'Diabetes percentage', label = 'Diabetes %', ax = ax1)\n",
    "ax3 = result_region.plot(kind = 'scatter', x = 'NutriScore', y = 'Mortality', label = 'Mortality %', ax = ax1, color = 'g')"
   ]
  },
  {
   "cell_type": "markdown",
   "metadata": {},
   "source": [
    "### Why do we obtain these results? \n",
    "\n",
    "It is clear that a healthy diet and exercise are essential for a long, fulfilling live. But it is not always the quality of the food and its macronutrients who will determine health-related condition all over the world. The socio-economic impact on the health of the people is extremely significant. As you will see in the next study case. Several regions of the world have a low obesity and low consumption of sugars and saturated fats however their mortality is on the other side of the spectrum. Regions of the world, namely Africa, Asia and South America suffer from extreme poverty and food is not available to them. It thus, very difficult to get any interesting correlation from these databases. However, we were able to prove how the male population sufferes from cardio-respiratory diseases in a higher frequency than women. It will be interesting to showcase our case study and compare the health markers, sugar and fat consumption of a well established country: Canda"
   ]
  },
  {
   "cell_type": "markdown",
   "metadata": {},
   "source": [
    "# Case Study: Canada"
   ]
  },
  {
   "cell_type": "code",
   "execution_count": 401,
   "metadata": {},
   "outputs": [
    {
     "data": {
      "text/html": [
       "<div>\n",
       "<style scoped>\n",
       "    .dataframe tbody tr th:only-of-type {\n",
       "        vertical-align: middle;\n",
       "    }\n",
       "\n",
       "    .dataframe tbody tr th {\n",
       "        vertical-align: top;\n",
       "    }\n",
       "\n",
       "    .dataframe thead th {\n",
       "        text-align: right;\n",
       "    }\n",
       "</style>\n",
       "<table border=\"1\" class=\"dataframe\">\n",
       "  <thead>\n",
       "    <tr style=\"text-align: right;\">\n",
       "      <th></th>\n",
       "      <th>index</th>\n",
       "      <th>Calcium</th>\n",
       "      <th>Calories</th>\n",
       "      <th>Cholesterol</th>\n",
       "      <th>Dietary Fiber</th>\n",
       "      <th>Folate</th>\n",
       "      <th>Iron</th>\n",
       "      <th>Magnesium</th>\n",
       "      <th>Niacin</th>\n",
       "      <th>Popularity</th>\n",
       "      <th>...</th>\n",
       "      <th>Title</th>\n",
       "      <th>Total Carbohydrates</th>\n",
       "      <th>Total Fat</th>\n",
       "      <th>Vitamin A</th>\n",
       "      <th>Vitamin B6</th>\n",
       "      <th>Vitamin C</th>\n",
       "      <th>VeggieWeight</th>\n",
       "      <th>NutriScore</th>\n",
       "      <th>NutriLetter</th>\n",
       "      <th>Sugar Consumption</th>\n",
       "    </tr>\n",
       "  </thead>\n",
       "  <tbody>\n",
       "    <tr>\n",
       "      <th>0</th>\n",
       "      <td>The Best Rolled Sugar Cookies</td>\n",
       "      <td>14.0</td>\n",
       "      <td>109</td>\n",
       "      <td>25.0</td>\n",
       "      <td>0.3</td>\n",
       "      <td>21.0</td>\n",
       "      <td>1.0</td>\n",
       "      <td>3.0</td>\n",
       "      <td>1.0</td>\n",
       "      <td>15000.0</td>\n",
       "      <td>...</td>\n",
       "      <td>The Best Rolled Sugar Cookies</td>\n",
       "      <td>14.7</td>\n",
       "      <td>5.0</td>\n",
       "      <td>158IU</td>\n",
       "      <td>0.0</td>\n",
       "      <td>0.0</td>\n",
       "      <td>0.0</td>\n",
       "      <td>1</td>\n",
       "      <td>B</td>\n",
       "      <td>25.688073</td>\n",
       "    </tr>\n",
       "    <tr>\n",
       "      <th>1</th>\n",
       "      <td>Butternut Squash Soup II</td>\n",
       "      <td>178.0</td>\n",
       "      <td>305</td>\n",
       "      <td>21.0</td>\n",
       "      <td>9.5</td>\n",
       "      <td>111.0</td>\n",
       "      <td>3.0</td>\n",
       "      <td>136.0</td>\n",
       "      <td>6.0</td>\n",
       "      <td>3000.0</td>\n",
       "      <td>...</td>\n",
       "      <td>Butternut Squash Soup II</td>\n",
       "      <td>59.7</td>\n",
       "      <td>6.8</td>\n",
       "      <td>35991IU</td>\n",
       "      <td>1.0</td>\n",
       "      <td>89.0</td>\n",
       "      <td>232.0</td>\n",
       "      <td>0</td>\n",
       "      <td>B</td>\n",
       "      <td>13.114754</td>\n",
       "    </tr>\n",
       "    <tr>\n",
       "      <th>2</th>\n",
       "      <td>Old Fashioned Onion Rings</td>\n",
       "      <td>265.0</td>\n",
       "      <td>641</td>\n",
       "      <td>69.0</td>\n",
       "      <td>3.5</td>\n",
       "      <td>146.0</td>\n",
       "      <td>4.0</td>\n",
       "      <td>40.0</td>\n",
       "      <td>8.0</td>\n",
       "      <td>1000.0</td>\n",
       "      <td>...</td>\n",
       "      <td>Old Fashioned Onion Rings</td>\n",
       "      <td>68.3</td>\n",
       "      <td>34.6</td>\n",
       "      <td>256IU</td>\n",
       "      <td>0.0</td>\n",
       "      <td>4.0</td>\n",
       "      <td>37.0</td>\n",
       "      <td>5</td>\n",
       "      <td>C</td>\n",
       "      <td>4.992200</td>\n",
       "    </tr>\n",
       "    <tr>\n",
       "      <th>3</th>\n",
       "      <td>Crispy Orange Beef</td>\n",
       "      <td>122.0</td>\n",
       "      <td>507</td>\n",
       "      <td>60.0</td>\n",
       "      <td>5.9</td>\n",
       "      <td>197.0</td>\n",
       "      <td>5.0</td>\n",
       "      <td>79.0</td>\n",
       "      <td>11.0</td>\n",
       "      <td>1000.0</td>\n",
       "      <td>...</td>\n",
       "      <td>Crispy Orange Beef</td>\n",
       "      <td>59.2</td>\n",
       "      <td>18.7</td>\n",
       "      <td>1280IU</td>\n",
       "      <td>1.0</td>\n",
       "      <td>189.0</td>\n",
       "      <td>10.0</td>\n",
       "      <td>0</td>\n",
       "      <td>B</td>\n",
       "      <td>13.412229</td>\n",
       "    </tr>\n",
       "    <tr>\n",
       "      <th>4</th>\n",
       "      <td>Boneless Buffalo Wings</td>\n",
       "      <td>131.0</td>\n",
       "      <td>710</td>\n",
       "      <td>136.0</td>\n",
       "      <td>1.7</td>\n",
       "      <td>89.0</td>\n",
       "      <td>4.0</td>\n",
       "      <td>41.0</td>\n",
       "      <td>15.0</td>\n",
       "      <td>1000.0</td>\n",
       "      <td>...</td>\n",
       "      <td>Boneless Buffalo Wings</td>\n",
       "      <td>43.7</td>\n",
       "      <td>46.9</td>\n",
       "      <td>751IU</td>\n",
       "      <td>0.0</td>\n",
       "      <td>15.0</td>\n",
       "      <td>0.0</td>\n",
       "      <td>6</td>\n",
       "      <td>C</td>\n",
       "      <td>2.253521</td>\n",
       "    </tr>\n",
       "  </tbody>\n",
       "</table>\n",
       "<p>5 rows × 29 columns</p>\n",
       "</div>"
      ],
      "text/plain": [
       "                           index  Calcium  Calories  Cholesterol  \\\n",
       "0  The Best Rolled Sugar Cookies     14.0       109         25.0   \n",
       "1       Butternut Squash Soup II    178.0       305         21.0   \n",
       "2      Old Fashioned Onion Rings    265.0       641         69.0   \n",
       "3             Crispy Orange Beef    122.0       507         60.0   \n",
       "4         Boneless Buffalo Wings    131.0       710        136.0   \n",
       "\n",
       "   Dietary Fiber  Folate  Iron  Magnesium  Niacin  Popularity  \\\n",
       "0            0.3    21.0   1.0        3.0     1.0     15000.0   \n",
       "1            9.5   111.0   3.0      136.0     6.0      3000.0   \n",
       "2            3.5   146.0   4.0       40.0     8.0      1000.0   \n",
       "3            5.9   197.0   5.0       79.0    11.0      1000.0   \n",
       "4            1.7    89.0   4.0       41.0    15.0      1000.0   \n",
       "\n",
       "         ...                                 Title  Total Carbohydrates  \\\n",
       "0        ...         The Best Rolled Sugar Cookies                 14.7   \n",
       "1        ...              Butternut Squash Soup II                 59.7   \n",
       "2        ...             Old Fashioned Onion Rings                 68.3   \n",
       "3        ...                    Crispy Orange Beef                 59.2   \n",
       "4        ...                Boneless Buffalo Wings                 43.7   \n",
       "\n",
       "   Total Fat Vitamin A Vitamin B6  Vitamin C  VeggieWeight  NutriScore  \\\n",
       "0        5.0     158IU        0.0        0.0           0.0           1   \n",
       "1        6.8   35991IU        1.0       89.0         232.0           0   \n",
       "2       34.6     256IU        0.0        4.0          37.0           5   \n",
       "3       18.7    1280IU        1.0      189.0          10.0           0   \n",
       "4       46.9     751IU        0.0       15.0           0.0           6   \n",
       "\n",
       "   NutriLetter Sugar Consumption  \n",
       "0            B         25.688073  \n",
       "1            B         13.114754  \n",
       "2            C          4.992200  \n",
       "3            B         13.412229  \n",
       "4            C          2.253521  \n",
       "\n",
       "[5 rows x 29 columns]"
      ]
     },
     "execution_count": 401,
     "metadata": {},
     "output_type": "execute_result"
    }
   ],
   "source": [
    "canadian_recipes = nutriscore[nutriscore['Region'] == 'canadian'].reset_index()\n",
    "canadian_recipes.head()"
   ]
  },
  {
   "cell_type": "code",
   "execution_count": 412,
   "metadata": {},
   "outputs": [
    {
     "data": {
      "image/png": "[encoded data removed]",
      "text/plain": [
       "<Figure size 432x288 with 1 Axes>"
      ]
     },
     "metadata": {},
     "output_type": "display_data"
    }
   ],
   "source": [
    "ax = canadian_recipes['NutriScore'].plot(kind = 'bar', grid = True, title = 'Distribution of the nutriscores')\n",
    "ax.set_xlabel(\"All the canadian recipes\");\n",
    "ax.set_ylabel(\"Nutri score\");"
   ]
  },
  {
   "cell_type": "markdown",
   "metadata": {},
   "source": [
    "First of all, as a remainder, the recipe is considered healthy when the nutriscore is negative and unhealthy when its positive. We observe a higher number of unhealthy recipes in the canadian traditional cuisine."
   ]
  },
  {
   "cell_type": "markdown",
   "metadata": {},
   "source": [
    "### Let's visualize how the nutriscores of the canadian recipes compare to the rest"
   ]
  },
  {
   "cell_type": "code",
   "execution_count": 440,
   "metadata": {
    "scrolled": true
   },
   "outputs": [
    {
     "data": {
      "image/png": "[encoded data removed]",
      "text/plain": [
       "<Figure size 432x288 with 1 Axes>"
      ]
     },
     "metadata": {},
     "output_type": "display_data"
    }
   ],
   "source": [
    "hx1 = nutriscore['NutriScore'].plot(style=['o'], title = \"Plot of the nutriscores of all recipes\")\n",
    "hx2 = canadian_recipes['NutriScore'].plot(style=['rx'], label = 'Canadian recipes', ax = hx1)\n",
    "hx2.set_xlabel(\"All recipes\");\n",
    "hx2.set_ylabel(\"NutriScore\");"
   ]
  },
  {
   "cell_type": "markdown",
   "metadata": {},
   "source": [
    "As seen above, the nutriscore of the canadian recipes is set around the mean value of the other recipes, all clustered around the [-5, 5] region"
   ]
  },
  {
   "cell_type": "code",
   "execution_count": 416,
   "metadata": {},
   "outputs": [
    {
     "data": {
      "text/html": [
       "<div>\n",
       "<style scoped>\n",
       "    .dataframe tbody tr th:only-of-type {\n",
       "        vertical-align: middle;\n",
       "    }\n",
       "\n",
       "    .dataframe tbody tr th {\n",
       "        vertical-align: top;\n",
       "    }\n",
       "\n",
       "    .dataframe thead th {\n",
       "        text-align: right;\n",
       "    }\n",
       "</style>\n",
       "<table border=\"1\" class=\"dataframe\">\n",
       "  <thead>\n",
       "    <tr style=\"text-align: right;\">\n",
       "      <th></th>\n",
       "      <th>Region</th>\n",
       "      <th>Overweight percentage</th>\n",
       "      <th>Obesity percentage</th>\n",
       "      <th>Diabetes percentage</th>\n",
       "      <th>Mortality</th>\n",
       "    </tr>\n",
       "  </thead>\n",
       "  <tbody>\n",
       "    <tr>\n",
       "      <th>1</th>\n",
       "      <td>canadian</td>\n",
       "      <td>67.5</td>\n",
       "      <td>31.3</td>\n",
       "      <td>7.37</td>\n",
       "      <td>9.8</td>\n",
       "    </tr>\n",
       "  </tbody>\n",
       "</table>\n",
       "</div>"
      ],
      "text/plain": [
       "     Region  Overweight percentage  Obesity percentage  Diabetes percentage  \\\n",
       "1  canadian                   67.5                31.3                 7.37   \n",
       "\n",
       "   Mortality  \n",
       "1        9.8  "
      ]
     },
     "execution_count": 416,
     "metadata": {},
     "output_type": "execute_result"
    }
   ],
   "source": [
    "diseases_region[diseases_region['Region'] == 'canadian']"
   ]
  },
  {
   "cell_type": "markdown",
   "metadata": {},
   "source": [
    "To continue our analysis, we will explore how the different health-related markers are presented over the world, here we use the median as a method to avoid extreme values present in regions such as african or asian countries."
   ]
  },
  {
   "cell_type": "code",
   "execution_count": 556,
   "metadata": {},
   "outputs": [],
   "source": [
    "params_health = ['Overweight percentage', 'Obesity percentage', 'Diabetes percentage', 'Mortality', 'Sugar Consumption', \n",
    "                'Saturated fat', 'NutriScore']\n",
    "\n",
    "#Calculate WORLD median values\n",
    "overweight_m = diseases_region['Overweight percentage'].median()\n",
    "obesity_m = diseases_region['Obesity percentage'].median()\n",
    "diabetes_m = diseases_region['Diabetes percentage'].median()\n",
    "mortality_m = diseases_region['Mortality'].median()\n",
    "sugar_m = nutriscore['Sugar Consumption'].median()\n",
    "fat_m = nutriscore['Saturated Fat'].median()\n",
    "nutriscore_m = nutriscore['NutriScore'].median()\n",
    "world_values = [overweight_m, obesity_m, diabetes_m, mortality_m, sugar_m, fat_m, nutriscore_m]\n",
    "\n",
    "#Calculate CANADIAN values\n",
    "canada_values = diseases_region[diseases_region['Region'] == 'canadian']\n",
    "overweight_c = canada_values['Overweight percentage'].mean()\n",
    "obesity_c = canada_values['Obesity percentage'].mean()\n",
    "diabetes_c = canada_values['Diabetes percentage'].mean()\n",
    "mortality_c = canada_values['Mortality'].mean()\n",
    "sugar_c = canadian_recipes['Sugar Consumption'].mean()\n",
    "fat_c = canadian_recipes['Saturated Fat'].mean()\n",
    "nutriscore_c = canadian_recipes['NutriScore'].mean()\n",
    "canada_values = [overweight_c, obesity_c, diabetes_c, mortality_c, sugar_c, fat_c, nutriscore_c]"
   ]
  },
  {
   "cell_type": "code",
   "execution_count": 562,
   "metadata": {},
   "outputs": [
    {
     "data": {
      "text/html": [
       "<div>\n",
       "<style scoped>\n",
       "    .dataframe tbody tr th:only-of-type {\n",
       "        vertical-align: middle;\n",
       "    }\n",
       "\n",
       "    .dataframe tbody tr th {\n",
       "        vertical-align: top;\n",
       "    }\n",
       "\n",
       "    .dataframe thead th {\n",
       "        text-align: right;\n",
       "    }\n",
       "</style>\n",
       "<table border=\"1\" class=\"dataframe\">\n",
       "  <thead>\n",
       "    <tr style=\"text-align: right;\">\n",
       "      <th></th>\n",
       "      <th>Overweight percentage</th>\n",
       "      <th>Obesity percentage</th>\n",
       "      <th>Diabetes percentage</th>\n",
       "      <th>Mortality</th>\n",
       "      <th>Sugar Consumption</th>\n",
       "      <th>Saturated fat</th>\n",
       "      <th>NutriScore</th>\n",
       "    </tr>\n",
       "  </thead>\n",
       "  <tbody>\n",
       "    <tr>\n",
       "      <th>0</th>\n",
       "      <td>64.1</td>\n",
       "      <td>26.4</td>\n",
       "      <td>6.395</td>\n",
       "      <td>11.5</td>\n",
       "      <td>5.228758</td>\n",
       "      <td>5.0</td>\n",
       "      <td>1.00</td>\n",
       "    </tr>\n",
       "    <tr>\n",
       "      <th>1</th>\n",
       "      <td>67.5</td>\n",
       "      <td>31.3</td>\n",
       "      <td>7.370</td>\n",
       "      <td>9.8</td>\n",
       "      <td>13.035867</td>\n",
       "      <td>7.1</td>\n",
       "      <td>2.05</td>\n",
       "    </tr>\n",
       "  </tbody>\n",
       "</table>\n",
       "</div>"
      ],
      "text/plain": [
       "   Overweight percentage  Obesity percentage  Diabetes percentage  Mortality  \\\n",
       "0                   64.1                26.4                6.395       11.5   \n",
       "1                   67.5                31.3                7.370        9.8   \n",
       "\n",
       "   Sugar Consumption  Saturated fat  NutriScore  \n",
       "0           5.228758            5.0        1.00  \n",
       "1          13.035867            7.1        2.05  "
      ]
     },
     "execution_count": 562,
     "metadata": {},
     "output_type": "execute_result"
    }
   ],
   "source": [
    "list = world_values + canada_values\n",
    "\n",
    "canada_world = pd.DataFrame(np.row_stack([world_values, canada_values]), \n",
    "                               columns=params_health)\n",
    "canada_world"
   ]
  },
  {
   "cell_type": "code",
   "execution_count": null,
   "metadata": {},
   "outputs": [],
   "source": []
  },
  {
   "cell_type": "markdown",
   "metadata": {},
   "source": [
    "## Is the nutriscore a real indicator of health-related markers in countries?"
   ]
  },
  {
   "cell_type": "code",
   "execution_count": null,
   "metadata": {},
   "outputs": [],
   "source": []
  }
 ],
 "metadata": {
  "kernelspec": {
   "display_name": "Python [conda env:Anaconda3]",
   "language": "python",
   "name": "conda-env-Anaconda3-py"
  },
  "language_info": {
   "codemirror_mode": {
    "name": "ipython",
    "version": 3
   },
   "file_extension": ".py",
   "mimetype": "text/x-python",
   "name": "python",
   "nbconvert_exporter": "python",
   "pygments_lexer": "ipython3",
   "version": "3.6.5"
  }
 },
 "nbformat": 4,
 "nbformat_minor": 2
}
